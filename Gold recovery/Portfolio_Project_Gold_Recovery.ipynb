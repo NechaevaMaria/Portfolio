{
 "cells": [
  {
   "cell_type": "markdown",
   "metadata": {
    "toc": true
   },
   "source": [
    "<h1>Содержание<span class=\"tocSkip\"></span></h1>\n",
    "<div class=\"toc\"><ul class=\"toc-item\"><li><span><a href=\"#Общие-сведения\" data-toc-modified-id=\"Общие-сведения-1\"><span class=\"toc-item-num\">1&nbsp;&nbsp;</span>Общие сведения</a></span></li><li><span><a href=\"#Подготовка-данных\" data-toc-modified-id=\"Подготовка-данных-2\"><span class=\"toc-item-num\">2&nbsp;&nbsp;</span>Подготовка данных</a></span><ul class=\"toc-item\"><li><span><a href=\"#Проверка-расчета-эффективности-обогащения\" data-toc-modified-id=\"Проверка-расчета-эффективности-обогащения-2.1\"><span class=\"toc-item-num\">2.1&nbsp;&nbsp;</span>Проверка расчета эффективности обогащения</a></span></li><li><span><a href=\"#Анализ-признаков,-недоступных-в-тестовой-выборке\" data-toc-modified-id=\"Анализ-признаков,-недоступных-в-тестовой-выборке-2.2\"><span class=\"toc-item-num\">2.2&nbsp;&nbsp;</span>Анализ признаков, недоступных в тестовой выборке</a></span></li><li><span><a href=\"#Предобработка-данных\" data-toc-modified-id=\"Предобработка-данных-2.3\"><span class=\"toc-item-num\">2.3&nbsp;&nbsp;</span>Предобработка данных</a></span><ul class=\"toc-item\"><li><span><a href=\"#Обработка-пропусков-в-данных\" data-toc-modified-id=\"Обработка-пропусков-в-данных-2.3.1\"><span class=\"toc-item-num\">2.3.1&nbsp;&nbsp;</span>Обработка пропусков в данных</a></span></li><li><span><a href=\"#Проверка-на-дубликаты\" data-toc-modified-id=\"Проверка-на-дубликаты-2.3.2\"><span class=\"toc-item-num\">2.3.2&nbsp;&nbsp;</span>Проверка на дубликаты</a></span></li></ul></li><li><span><a href=\"#Обработка-аномальных-значений\" data-toc-modified-id=\"Обработка-аномальных-значений-2.4\"><span class=\"toc-item-num\">2.4&nbsp;&nbsp;</span>Обработка аномальных значений</a></span></li></ul></li><li><span><a href=\"#Исследовательский-анализ-данных\" data-toc-modified-id=\"Исследовательский-анализ-данных-3\"><span class=\"toc-item-num\">3&nbsp;&nbsp;</span>Исследовательский анализ данных</a></span><ul class=\"toc-item\"><li><span><a href=\"#Концентрация-металлов-на-разных-этапах-очистки\" data-toc-modified-id=\"Концентрация-металлов-на-разных-этапах-очистки-3.1\"><span class=\"toc-item-num\">3.1&nbsp;&nbsp;</span>Концентрация металлов на разных этапах очистки</a></span></li><li><span><a href=\"#Сравнение-распределения-размеров-гранул-сырья-на-обучающей-и-тестовой-выборках\" data-toc-modified-id=\"Сравнение-распределения-размеров-гранул-сырья-на-обучающей-и-тестовой-выборках-3.2\"><span class=\"toc-item-num\">3.2&nbsp;&nbsp;</span>Сравнение распределения размеров гранул сырья на обучающей и тестовой выборках</a></span></li><li><span><a href=\"#Исследование-суммарной-концентрации-всех-веществ-на-разных-стадиях\" data-toc-modified-id=\"Исследование-суммарной-концентрации-всех-веществ-на-разных-стадиях-3.3\"><span class=\"toc-item-num\">3.3&nbsp;&nbsp;</span>Исследование суммарной концентрации всех веществ на разных стадиях</a></span></li></ul></li><li><span><a href=\"#Модель\" data-toc-modified-id=\"Модель-4\"><span class=\"toc-item-num\">4&nbsp;&nbsp;</span>Модель</a></span><ul class=\"toc-item\"><li><span><a href=\"#Подготовка-признаков\" data-toc-modified-id=\"Подготовка-признаков-4.1\"><span class=\"toc-item-num\">4.1&nbsp;&nbsp;</span>Подготовка признаков</a></span></li><li><span><a href=\"#Функция-для-расчета-sMAPE\" data-toc-modified-id=\"Функция-для-расчета-sMAPE-4.2\"><span class=\"toc-item-num\">4.2&nbsp;&nbsp;</span>Функция для расчета sMAPE</a></span></li><li><span><a href=\"#Модель-&quot;Случайный-лес&quot;\" data-toc-modified-id=\"Модель-&quot;Случайный-лес&quot;-4.3\"><span class=\"toc-item-num\">4.3&nbsp;&nbsp;</span>Модель \"Случайный лес\"</a></span></li><li><span><a href=\"#Модель-&quot;Линейная-регрессия&quot;\" data-toc-modified-id=\"Модель-&quot;Линейная-регрессия&quot;-4.4\"><span class=\"toc-item-num\">4.4&nbsp;&nbsp;</span>Модель \"Линейная регрессия\"</a></span></li><li><span><a href=\"#Проверка-модели-на-тестовой-выборке\" data-toc-modified-id=\"Проверка-модели-на-тестовой-выборке-4.5\"><span class=\"toc-item-num\">4.5&nbsp;&nbsp;</span>Проверка модели на тестовой выборке</a></span></li></ul></li><li><span><a href=\"#Выводы\" data-toc-modified-id=\"Выводы-5\"><span class=\"toc-item-num\">5&nbsp;&nbsp;</span>Выводы</a></span></li></ul></div>"
   ]
  },
  {
   "cell_type": "markdown",
   "metadata": {},
   "source": [
    "# Восстановление золота из руды\n",
    "\n",
    "## Общие сведения"
   ]
  },
  {
   "cell_type": "markdown",
   "metadata": {},
   "source": [
    "В проекте подготовлен прототип модели машинного обучения для компании, которая разрабатывает решения для эффективной работы промышленных предприятий.\n",
    "\n",
    "Решена задача регрессии - модель предсказывает коэффициент восстановления золота из золотосодержащей руды на основе данных с параметрами добычи и очистки. \n",
    "Такая модель может помочь оптимизировать производство, чтобы не запускать предприятие с убыточными характеристиками.\n",
    "\n",
    "Спрогнозированы две величины:\n",
    " - эффективность обогащения чернового концентрата rougher.output.recovery;\n",
    " - эффективность обогащения финального концентрата final.output.recovery."
   ]
  },
  {
   "cell_type": "markdown",
   "metadata": {},
   "source": [
    "**Данные**\n",
    "\n",
    "В нашем распоряжении имеются данные с параметрами добычи и очистки.\n",
    "\n",
    "Данные находятся в трёх файлах:\n",
    "\n",
    "- `gold_recovery_train.csv` — обучающая выборка,\n",
    "\n",
    "- `gold_recovery_test.csv` — тестовая выборка,\n",
    "\n",
    "- `gold_recovery_full.csv` — исходные данные.\n",
    "\n",
    "Данные индексируются датой и временем получения информации (признак `date`). Соседние по времени параметры часто похожи. Некоторые параметры недоступны, потому что замеряются и/или рассчитываются значительно позже. Из-за этого в тестовой выборке отсутствуют некоторые признаки, которые могут быть в обучающей. Также в тестовом наборе нет целевых признаков.\n",
    "Исходный датасет содержит обучающую и тестовую выборки со всеми признаками.\n",
    "\n",
    "Данные в нашем распоряжении являются сырыми: их просто выгрузили из хранилища. Прежде чем приступить к построению модели, требуется проверить их на корректность согласно согласованной с заказчиком инструкции.\n",
    "\n",
    "**Наименование признаков**\n",
    "\n",
    "Наименование признаков строится по следующему правилу:\n",
    "\n",
    "`[этап].[тип_параметра].[название_параметра]`\n",
    "\n",
    "Пример: `rougher.input.feed_ag`\n",
    "\n",
    "Возможные значения для блока `[этап]`:\n",
    "\n",
    "- `rougher` — флотация\n",
    "- `primary_cleaner` — первичная очистка\n",
    "- `secondary_cleaner` — вторичная очистка\n",
    "- `final` — финальные характеристики\n",
    "\n",
    "Возможные значения для блока `[тип_параметра]`:\n",
    "\n",
    "- `input` — параметры сырья\n",
    "- `output` — параметры продукта\n",
    "- `state` — параметры, характеризующие текущее состояние этапа\n",
    "- `calculation` — расчётные характеристики\n"
   ]
  },
  {
   "cell_type": "markdown",
   "metadata": {},
   "source": [
    "## Подготовка данных"
   ]
  },
  {
   "cell_type": "code",
   "execution_count": 67,
   "metadata": {},
   "outputs": [
    {
     "name": "stdout",
     "output_type": "stream",
     "text": [
      "Requirement already satisfied: Katex in c:\\users\\maria\\anaconda3\\lib\\site-packages (0.0.4)\n",
      "Requirement already satisfied: Pillow>=5.2.0 in c:\\users\\maria\\anaconda3\\lib\\site-packages (from Katex) (9.0.1)\n",
      "Requirement already satisfied: colour in c:\\users\\maria\\anaconda3\\lib\\site-packages (from Katex) (0.1.5)\n",
      "Requirement already satisfied: Click in c:\\users\\maria\\anaconda3\\lib\\site-packages (from Katex) (8.0.4)\n",
      "Requirement already satisfied: attrs in c:\\users\\maria\\anaconda3\\lib\\site-packages (from Katex) (21.4.0)\n",
      "Requirement already satisfied: colorama in c:\\users\\maria\\anaconda3\\lib\\site-packages (from Click->Katex) (0.4.4)\n"
     ]
    }
   ],
   "source": [
    "!pip install Katex"
   ]
  },
  {
   "cell_type": "code",
   "execution_count": 68,
   "metadata": {},
   "outputs": [],
   "source": [
    "import pandas as pd\n",
    "import matplotlib.pyplot as plt\n",
    "import plotly.graph_objs as go\n",
    "\n",
    "from sklearn.model_selection import GridSearchCV, cross_val_score\n",
    "from sklearn.metrics import mean_absolute_error, make_scorer\n",
    "from sklearn.linear_model import LinearRegression\n",
    "from sklearn.ensemble import RandomForestRegressor\n",
    "from sklearn.tree import DecisionTreeRegressor\n",
    "from sklearn.dummy import DummyRegressor\n",
    "\n",
    "import warnings\n",
    "\n",
    "warnings.filterwarnings('ignore')"
   ]
  },
  {
   "cell_type": "code",
   "execution_count": 69,
   "metadata": {},
   "outputs": [],
   "source": [
    "try:\n",
    "    data_train = pd.read_csv('C:\\\\Users\\\\Maria\\\\Documents\\\\Jupyter_projects\\\\Project9_gold_recovery_train_new.csv')\n",
    "    data_test = pd.read_csv('C:\\\\Users\\\\Maria\\\\Documents\\\\Jupyter_projects\\\\Project9_gold_recovery_test_new.csv')\n",
    "    data_full = pd.read_csv('C:\\\\Users\\\\Maria\\\\Documents\\\\Jupyter_projects\\\\Project9_gold_recovery_full_new.csv')\n",
    "except:\n",
    "    data_train = pd.read_csv('/datasets/gold_recovery_train_new.csv')\n",
    "    data_test = pd.read_csv('/datasets/gold_recovery_test_new.csv')\n",
    "    data_full = pd.read_csv('/datasets/gold_recovery_full_new.csv')"
   ]
  },
  {
   "cell_type": "code",
   "execution_count": 70,
   "metadata": {
    "scrolled": true
   },
   "outputs": [
    {
     "name": "stdout",
     "output_type": "stream",
     "text": [
      "<class 'pandas.core.frame.DataFrame'>\n",
      "RangeIndex: 14149 entries, 0 to 14148\n",
      "Data columns (total 87 columns):\n",
      " #   Column                                              Non-Null Count  Dtype  \n",
      "---  ------                                              --------------  -----  \n",
      " 0   date                                                14149 non-null  object \n",
      " 1   final.output.concentrate_ag                         14148 non-null  float64\n",
      " 2   final.output.concentrate_pb                         14148 non-null  float64\n",
      " 3   final.output.concentrate_sol                        13938 non-null  float64\n",
      " 4   final.output.concentrate_au                         14149 non-null  float64\n",
      " 5   final.output.recovery                               14149 non-null  float64\n",
      " 6   final.output.tail_ag                                14149 non-null  float64\n",
      " 7   final.output.tail_pb                                14049 non-null  float64\n",
      " 8   final.output.tail_sol                               14144 non-null  float64\n",
      " 9   final.output.tail_au                                14149 non-null  float64\n",
      " 10  primary_cleaner.input.sulfate                       14129 non-null  float64\n",
      " 11  primary_cleaner.input.depressant                    14117 non-null  float64\n",
      " 12  primary_cleaner.input.feed_size                     14149 non-null  float64\n",
      " 13  primary_cleaner.input.xanthate                      14049 non-null  float64\n",
      " 14  primary_cleaner.output.concentrate_ag               14149 non-null  float64\n",
      " 15  primary_cleaner.output.concentrate_pb               14063 non-null  float64\n",
      " 16  primary_cleaner.output.concentrate_sol              13863 non-null  float64\n",
      " 17  primary_cleaner.output.concentrate_au               14149 non-null  float64\n",
      " 18  primary_cleaner.output.tail_ag                      14148 non-null  float64\n",
      " 19  primary_cleaner.output.tail_pb                      14134 non-null  float64\n",
      " 20  primary_cleaner.output.tail_sol                     14103 non-null  float64\n",
      " 21  primary_cleaner.output.tail_au                      14149 non-null  float64\n",
      " 22  primary_cleaner.state.floatbank8_a_air              14145 non-null  float64\n",
      " 23  primary_cleaner.state.floatbank8_a_level            14148 non-null  float64\n",
      " 24  primary_cleaner.state.floatbank8_b_air              14145 non-null  float64\n",
      " 25  primary_cleaner.state.floatbank8_b_level            14148 non-null  float64\n",
      " 26  primary_cleaner.state.floatbank8_c_air              14147 non-null  float64\n",
      " 27  primary_cleaner.state.floatbank8_c_level            14148 non-null  float64\n",
      " 28  primary_cleaner.state.floatbank8_d_air              14146 non-null  float64\n",
      " 29  primary_cleaner.state.floatbank8_d_level            14148 non-null  float64\n",
      " 30  rougher.calculation.sulfate_to_au_concentrate       14148 non-null  float64\n",
      " 31  rougher.calculation.floatbank10_sulfate_to_au_feed  14148 non-null  float64\n",
      " 32  rougher.calculation.floatbank11_sulfate_to_au_feed  14148 non-null  float64\n",
      " 33  rougher.calculation.au_pb_ratio                     14149 non-null  float64\n",
      " 34  rougher.input.feed_ag                               14149 non-null  float64\n",
      " 35  rougher.input.feed_pb                               14049 non-null  float64\n",
      " 36  rougher.input.feed_rate                             14141 non-null  float64\n",
      " 37  rougher.input.feed_size                             14005 non-null  float64\n",
      " 38  rougher.input.feed_sol                              14071 non-null  float64\n",
      " 39  rougher.input.feed_au                               14149 non-null  float64\n",
      " 40  rougher.input.floatbank10_sulfate                   14120 non-null  float64\n",
      " 41  rougher.input.floatbank10_xanthate                  14141 non-null  float64\n",
      " 42  rougher.input.floatbank11_sulfate                   14113 non-null  float64\n",
      " 43  rougher.input.floatbank11_xanthate                  13721 non-null  float64\n",
      " 44  rougher.output.concentrate_ag                       14149 non-null  float64\n",
      " 45  rougher.output.concentrate_pb                       14149 non-null  float64\n",
      " 46  rougher.output.concentrate_sol                      14127 non-null  float64\n",
      " 47  rougher.output.concentrate_au                       14149 non-null  float64\n",
      " 48  rougher.output.recovery                             14149 non-null  float64\n",
      " 49  rougher.output.tail_ag                              14148 non-null  float64\n",
      " 50  rougher.output.tail_pb                              14149 non-null  float64\n",
      " 51  rougher.output.tail_sol                             14149 non-null  float64\n",
      " 52  rougher.output.tail_au                              14149 non-null  float64\n",
      " 53  rougher.state.floatbank10_a_air                     14148 non-null  float64\n",
      " 54  rougher.state.floatbank10_a_level                   14148 non-null  float64\n",
      " 55  rougher.state.floatbank10_b_air                     14148 non-null  float64\n",
      " 56  rougher.state.floatbank10_b_level                   14148 non-null  float64\n",
      " 57  rougher.state.floatbank10_c_air                     14148 non-null  float64\n",
      " 58  rougher.state.floatbank10_c_level                   14148 non-null  float64\n",
      " 59  rougher.state.floatbank10_d_air                     14149 non-null  float64\n",
      " 60  rougher.state.floatbank10_d_level                   14149 non-null  float64\n",
      " 61  rougher.state.floatbank10_e_air                     13713 non-null  float64\n",
      " 62  rougher.state.floatbank10_e_level                   14149 non-null  float64\n",
      " 63  rougher.state.floatbank10_f_air                     14149 non-null  float64\n",
      " 64  rougher.state.floatbank10_f_level                   14149 non-null  float64\n",
      " 65  secondary_cleaner.output.tail_ag                    14147 non-null  float64\n",
      " 66  secondary_cleaner.output.tail_pb                    14139 non-null  float64\n",
      " 67  secondary_cleaner.output.tail_sol                   12544 non-null  float64\n",
      " 68  secondary_cleaner.output.tail_au                    14149 non-null  float64\n",
      " 69  secondary_cleaner.state.floatbank2_a_air            13932 non-null  float64\n",
      " 70  secondary_cleaner.state.floatbank2_a_level          14148 non-null  float64\n",
      " 71  secondary_cleaner.state.floatbank2_b_air            14128 non-null  float64\n",
      " 72  secondary_cleaner.state.floatbank2_b_level          14148 non-null  float64\n",
      " 73  secondary_cleaner.state.floatbank3_a_air            14145 non-null  float64\n",
      " 74  secondary_cleaner.state.floatbank3_a_level          14148 non-null  float64\n",
      " 75  secondary_cleaner.state.floatbank3_b_air            14148 non-null  float64\n",
      " 76  secondary_cleaner.state.floatbank3_b_level          14148 non-null  float64\n",
      " 77  secondary_cleaner.state.floatbank4_a_air            14143 non-null  float64\n",
      " 78  secondary_cleaner.state.floatbank4_a_level          14148 non-null  float64\n",
      " 79  secondary_cleaner.state.floatbank4_b_air            14148 non-null  float64\n",
      " 80  secondary_cleaner.state.floatbank4_b_level          14148 non-null  float64\n",
      " 81  secondary_cleaner.state.floatbank5_a_air            14148 non-null  float64\n",
      " 82  secondary_cleaner.state.floatbank5_a_level          14148 non-null  float64\n",
      " 83  secondary_cleaner.state.floatbank5_b_air            14148 non-null  float64\n",
      " 84  secondary_cleaner.state.floatbank5_b_level          14148 non-null  float64\n",
      " 85  secondary_cleaner.state.floatbank6_a_air            14147 non-null  float64\n",
      " 86  secondary_cleaner.state.floatbank6_a_level          14148 non-null  float64\n",
      "dtypes: float64(86), object(1)\n",
      "memory usage: 9.4+ MB\n"
     ]
    }
   ],
   "source": [
    "data_train.info()"
   ]
  },
  {
   "cell_type": "code",
   "execution_count": 71,
   "metadata": {},
   "outputs": [
    {
     "data": {
      "text/html": [
       "<div>\n",
       "<style scoped>\n",
       "    .dataframe tbody tr th:only-of-type {\n",
       "        vertical-align: middle;\n",
       "    }\n",
       "\n",
       "    .dataframe tbody tr th {\n",
       "        vertical-align: top;\n",
       "    }\n",
       "\n",
       "    .dataframe thead th {\n",
       "        text-align: right;\n",
       "    }\n",
       "</style>\n",
       "<table border=\"1\" class=\"dataframe\">\n",
       "  <thead>\n",
       "    <tr style=\"text-align: right;\">\n",
       "      <th></th>\n",
       "      <th>date</th>\n",
       "      <th>final.output.concentrate_ag</th>\n",
       "      <th>final.output.concentrate_pb</th>\n",
       "      <th>final.output.concentrate_sol</th>\n",
       "      <th>final.output.concentrate_au</th>\n",
       "      <th>final.output.recovery</th>\n",
       "      <th>final.output.tail_ag</th>\n",
       "      <th>final.output.tail_pb</th>\n",
       "      <th>final.output.tail_sol</th>\n",
       "      <th>final.output.tail_au</th>\n",
       "      <th>...</th>\n",
       "      <th>secondary_cleaner.state.floatbank4_a_air</th>\n",
       "      <th>secondary_cleaner.state.floatbank4_a_level</th>\n",
       "      <th>secondary_cleaner.state.floatbank4_b_air</th>\n",
       "      <th>secondary_cleaner.state.floatbank4_b_level</th>\n",
       "      <th>secondary_cleaner.state.floatbank5_a_air</th>\n",
       "      <th>secondary_cleaner.state.floatbank5_a_level</th>\n",
       "      <th>secondary_cleaner.state.floatbank5_b_air</th>\n",
       "      <th>secondary_cleaner.state.floatbank5_b_level</th>\n",
       "      <th>secondary_cleaner.state.floatbank6_a_air</th>\n",
       "      <th>secondary_cleaner.state.floatbank6_a_level</th>\n",
       "    </tr>\n",
       "  </thead>\n",
       "  <tbody>\n",
       "    <tr>\n",
       "      <th>0</th>\n",
       "      <td>2016-01-15 00:00:00</td>\n",
       "      <td>6.055403</td>\n",
       "      <td>9.889648</td>\n",
       "      <td>5.507324</td>\n",
       "      <td>42.192020</td>\n",
       "      <td>70.541216</td>\n",
       "      <td>10.411962</td>\n",
       "      <td>0.895447</td>\n",
       "      <td>16.904297</td>\n",
       "      <td>2.143149</td>\n",
       "      <td>...</td>\n",
       "      <td>14.016835</td>\n",
       "      <td>-502.488007</td>\n",
       "      <td>12.099931</td>\n",
       "      <td>-504.715942</td>\n",
       "      <td>9.925633</td>\n",
       "      <td>-498.310211</td>\n",
       "      <td>8.079666</td>\n",
       "      <td>-500.470978</td>\n",
       "      <td>14.151341</td>\n",
       "      <td>-605.841980</td>\n",
       "    </tr>\n",
       "    <tr>\n",
       "      <th>1</th>\n",
       "      <td>2016-01-15 01:00:00</td>\n",
       "      <td>6.029369</td>\n",
       "      <td>9.968944</td>\n",
       "      <td>5.257781</td>\n",
       "      <td>42.701629</td>\n",
       "      <td>69.266198</td>\n",
       "      <td>10.462676</td>\n",
       "      <td>0.927452</td>\n",
       "      <td>16.634514</td>\n",
       "      <td>2.224930</td>\n",
       "      <td>...</td>\n",
       "      <td>13.992281</td>\n",
       "      <td>-505.503262</td>\n",
       "      <td>11.950531</td>\n",
       "      <td>-501.331529</td>\n",
       "      <td>10.039245</td>\n",
       "      <td>-500.169983</td>\n",
       "      <td>7.984757</td>\n",
       "      <td>-500.582168</td>\n",
       "      <td>13.998353</td>\n",
       "      <td>-599.787184</td>\n",
       "    </tr>\n",
       "    <tr>\n",
       "      <th>2</th>\n",
       "      <td>2016-01-15 02:00:00</td>\n",
       "      <td>6.055926</td>\n",
       "      <td>10.213995</td>\n",
       "      <td>5.383759</td>\n",
       "      <td>42.657501</td>\n",
       "      <td>68.116445</td>\n",
       "      <td>10.507046</td>\n",
       "      <td>0.953716</td>\n",
       "      <td>16.208849</td>\n",
       "      <td>2.257889</td>\n",
       "      <td>...</td>\n",
       "      <td>14.015015</td>\n",
       "      <td>-502.520901</td>\n",
       "      <td>11.912783</td>\n",
       "      <td>-501.133383</td>\n",
       "      <td>10.070913</td>\n",
       "      <td>-500.129135</td>\n",
       "      <td>8.013877</td>\n",
       "      <td>-500.517572</td>\n",
       "      <td>14.028663</td>\n",
       "      <td>-601.427363</td>\n",
       "    </tr>\n",
       "    <tr>\n",
       "      <th>3</th>\n",
       "      <td>2016-01-15 03:00:00</td>\n",
       "      <td>6.047977</td>\n",
       "      <td>9.977019</td>\n",
       "      <td>4.858634</td>\n",
       "      <td>42.689819</td>\n",
       "      <td>68.347543</td>\n",
       "      <td>10.422762</td>\n",
       "      <td>0.883763</td>\n",
       "      <td>16.532835</td>\n",
       "      <td>2.146849</td>\n",
       "      <td>...</td>\n",
       "      <td>14.036510</td>\n",
       "      <td>-500.857308</td>\n",
       "      <td>11.999550</td>\n",
       "      <td>-501.193686</td>\n",
       "      <td>9.970366</td>\n",
       "      <td>-499.201640</td>\n",
       "      <td>7.977324</td>\n",
       "      <td>-500.255908</td>\n",
       "      <td>14.005551</td>\n",
       "      <td>-599.996129</td>\n",
       "    </tr>\n",
       "    <tr>\n",
       "      <th>4</th>\n",
       "      <td>2016-01-15 04:00:00</td>\n",
       "      <td>6.148599</td>\n",
       "      <td>10.142511</td>\n",
       "      <td>4.939416</td>\n",
       "      <td>42.774141</td>\n",
       "      <td>66.927016</td>\n",
       "      <td>10.360302</td>\n",
       "      <td>0.792826</td>\n",
       "      <td>16.525686</td>\n",
       "      <td>2.055292</td>\n",
       "      <td>...</td>\n",
       "      <td>14.027298</td>\n",
       "      <td>-499.838632</td>\n",
       "      <td>11.953070</td>\n",
       "      <td>-501.053894</td>\n",
       "      <td>9.925709</td>\n",
       "      <td>-501.686727</td>\n",
       "      <td>7.894242</td>\n",
       "      <td>-500.356035</td>\n",
       "      <td>13.996647</td>\n",
       "      <td>-601.496691</td>\n",
       "    </tr>\n",
       "  </tbody>\n",
       "</table>\n",
       "<p>5 rows × 87 columns</p>\n",
       "</div>"
      ],
      "text/plain": [
       "                  date  final.output.concentrate_ag  \\\n",
       "0  2016-01-15 00:00:00                     6.055403   \n",
       "1  2016-01-15 01:00:00                     6.029369   \n",
       "2  2016-01-15 02:00:00                     6.055926   \n",
       "3  2016-01-15 03:00:00                     6.047977   \n",
       "4  2016-01-15 04:00:00                     6.148599   \n",
       "\n",
       "   final.output.concentrate_pb  final.output.concentrate_sol  \\\n",
       "0                     9.889648                      5.507324   \n",
       "1                     9.968944                      5.257781   \n",
       "2                    10.213995                      5.383759   \n",
       "3                     9.977019                      4.858634   \n",
       "4                    10.142511                      4.939416   \n",
       "\n",
       "   final.output.concentrate_au  final.output.recovery  final.output.tail_ag  \\\n",
       "0                    42.192020              70.541216             10.411962   \n",
       "1                    42.701629              69.266198             10.462676   \n",
       "2                    42.657501              68.116445             10.507046   \n",
       "3                    42.689819              68.347543             10.422762   \n",
       "4                    42.774141              66.927016             10.360302   \n",
       "\n",
       "   final.output.tail_pb  final.output.tail_sol  final.output.tail_au  ...  \\\n",
       "0              0.895447              16.904297              2.143149  ...   \n",
       "1              0.927452              16.634514              2.224930  ...   \n",
       "2              0.953716              16.208849              2.257889  ...   \n",
       "3              0.883763              16.532835              2.146849  ...   \n",
       "4              0.792826              16.525686              2.055292  ...   \n",
       "\n",
       "   secondary_cleaner.state.floatbank4_a_air  \\\n",
       "0                                 14.016835   \n",
       "1                                 13.992281   \n",
       "2                                 14.015015   \n",
       "3                                 14.036510   \n",
       "4                                 14.027298   \n",
       "\n",
       "   secondary_cleaner.state.floatbank4_a_level  \\\n",
       "0                                 -502.488007   \n",
       "1                                 -505.503262   \n",
       "2                                 -502.520901   \n",
       "3                                 -500.857308   \n",
       "4                                 -499.838632   \n",
       "\n",
       "   secondary_cleaner.state.floatbank4_b_air  \\\n",
       "0                                 12.099931   \n",
       "1                                 11.950531   \n",
       "2                                 11.912783   \n",
       "3                                 11.999550   \n",
       "4                                 11.953070   \n",
       "\n",
       "   secondary_cleaner.state.floatbank4_b_level  \\\n",
       "0                                 -504.715942   \n",
       "1                                 -501.331529   \n",
       "2                                 -501.133383   \n",
       "3                                 -501.193686   \n",
       "4                                 -501.053894   \n",
       "\n",
       "   secondary_cleaner.state.floatbank5_a_air  \\\n",
       "0                                  9.925633   \n",
       "1                                 10.039245   \n",
       "2                                 10.070913   \n",
       "3                                  9.970366   \n",
       "4                                  9.925709   \n",
       "\n",
       "   secondary_cleaner.state.floatbank5_a_level  \\\n",
       "0                                 -498.310211   \n",
       "1                                 -500.169983   \n",
       "2                                 -500.129135   \n",
       "3                                 -499.201640   \n",
       "4                                 -501.686727   \n",
       "\n",
       "   secondary_cleaner.state.floatbank5_b_air  \\\n",
       "0                                  8.079666   \n",
       "1                                  7.984757   \n",
       "2                                  8.013877   \n",
       "3                                  7.977324   \n",
       "4                                  7.894242   \n",
       "\n",
       "   secondary_cleaner.state.floatbank5_b_level  \\\n",
       "0                                 -500.470978   \n",
       "1                                 -500.582168   \n",
       "2                                 -500.517572   \n",
       "3                                 -500.255908   \n",
       "4                                 -500.356035   \n",
       "\n",
       "   secondary_cleaner.state.floatbank6_a_air  \\\n",
       "0                                 14.151341   \n",
       "1                                 13.998353   \n",
       "2                                 14.028663   \n",
       "3                                 14.005551   \n",
       "4                                 13.996647   \n",
       "\n",
       "   secondary_cleaner.state.floatbank6_a_level  \n",
       "0                                 -605.841980  \n",
       "1                                 -599.787184  \n",
       "2                                 -601.427363  \n",
       "3                                 -599.996129  \n",
       "4                                 -601.496691  \n",
       "\n",
       "[5 rows x 87 columns]"
      ]
     },
     "execution_count": 71,
     "metadata": {},
     "output_type": "execute_result"
    }
   ],
   "source": [
    "data_train.head()"
   ]
  },
  {
   "cell_type": "code",
   "execution_count": 72,
   "metadata": {},
   "outputs": [
    {
     "name": "stdout",
     "output_type": "stream",
     "text": [
      "<class 'pandas.core.frame.DataFrame'>\n",
      "RangeIndex: 5290 entries, 0 to 5289\n",
      "Data columns (total 53 columns):\n",
      " #   Column                                      Non-Null Count  Dtype  \n",
      "---  ------                                      --------------  -----  \n",
      " 0   date                                        5290 non-null   object \n",
      " 1   primary_cleaner.input.sulfate               5286 non-null   float64\n",
      " 2   primary_cleaner.input.depressant            5285 non-null   float64\n",
      " 3   primary_cleaner.input.feed_size             5290 non-null   float64\n",
      " 4   primary_cleaner.input.xanthate              5286 non-null   float64\n",
      " 5   primary_cleaner.state.floatbank8_a_air      5290 non-null   float64\n",
      " 6   primary_cleaner.state.floatbank8_a_level    5290 non-null   float64\n",
      " 7   primary_cleaner.state.floatbank8_b_air      5290 non-null   float64\n",
      " 8   primary_cleaner.state.floatbank8_b_level    5290 non-null   float64\n",
      " 9   primary_cleaner.state.floatbank8_c_air      5290 non-null   float64\n",
      " 10  primary_cleaner.state.floatbank8_c_level    5290 non-null   float64\n",
      " 11  primary_cleaner.state.floatbank8_d_air      5290 non-null   float64\n",
      " 12  primary_cleaner.state.floatbank8_d_level    5290 non-null   float64\n",
      " 13  rougher.input.feed_ag                       5290 non-null   float64\n",
      " 14  rougher.input.feed_pb                       5290 non-null   float64\n",
      " 15  rougher.input.feed_rate                     5287 non-null   float64\n",
      " 16  rougher.input.feed_size                     5289 non-null   float64\n",
      " 17  rougher.input.feed_sol                      5269 non-null   float64\n",
      " 18  rougher.input.feed_au                       5290 non-null   float64\n",
      " 19  rougher.input.floatbank10_sulfate           5285 non-null   float64\n",
      " 20  rougher.input.floatbank10_xanthate          5290 non-null   float64\n",
      " 21  rougher.input.floatbank11_sulfate           5282 non-null   float64\n",
      " 22  rougher.input.floatbank11_xanthate          5265 non-null   float64\n",
      " 23  rougher.state.floatbank10_a_air             5290 non-null   float64\n",
      " 24  rougher.state.floatbank10_a_level           5290 non-null   float64\n",
      " 25  rougher.state.floatbank10_b_air             5290 non-null   float64\n",
      " 26  rougher.state.floatbank10_b_level           5290 non-null   float64\n",
      " 27  rougher.state.floatbank10_c_air             5290 non-null   float64\n",
      " 28  rougher.state.floatbank10_c_level           5290 non-null   float64\n",
      " 29  rougher.state.floatbank10_d_air             5290 non-null   float64\n",
      " 30  rougher.state.floatbank10_d_level           5290 non-null   float64\n",
      " 31  rougher.state.floatbank10_e_air             5290 non-null   float64\n",
      " 32  rougher.state.floatbank10_e_level           5290 non-null   float64\n",
      " 33  rougher.state.floatbank10_f_air             5290 non-null   float64\n",
      " 34  rougher.state.floatbank10_f_level           5290 non-null   float64\n",
      " 35  secondary_cleaner.state.floatbank2_a_air    5287 non-null   float64\n",
      " 36  secondary_cleaner.state.floatbank2_a_level  5290 non-null   float64\n",
      " 37  secondary_cleaner.state.floatbank2_b_air    5288 non-null   float64\n",
      " 38  secondary_cleaner.state.floatbank2_b_level  5290 non-null   float64\n",
      " 39  secondary_cleaner.state.floatbank3_a_air    5281 non-null   float64\n",
      " 40  secondary_cleaner.state.floatbank3_a_level  5290 non-null   float64\n",
      " 41  secondary_cleaner.state.floatbank3_b_air    5290 non-null   float64\n",
      " 42  secondary_cleaner.state.floatbank3_b_level  5290 non-null   float64\n",
      " 43  secondary_cleaner.state.floatbank4_a_air    5290 non-null   float64\n",
      " 44  secondary_cleaner.state.floatbank4_a_level  5290 non-null   float64\n",
      " 45  secondary_cleaner.state.floatbank4_b_air    5290 non-null   float64\n",
      " 46  secondary_cleaner.state.floatbank4_b_level  5290 non-null   float64\n",
      " 47  secondary_cleaner.state.floatbank5_a_air    5290 non-null   float64\n",
      " 48  secondary_cleaner.state.floatbank5_a_level  5290 non-null   float64\n",
      " 49  secondary_cleaner.state.floatbank5_b_air    5290 non-null   float64\n",
      " 50  secondary_cleaner.state.floatbank5_b_level  5290 non-null   float64\n",
      " 51  secondary_cleaner.state.floatbank6_a_air    5290 non-null   float64\n",
      " 52  secondary_cleaner.state.floatbank6_a_level  5290 non-null   float64\n",
      "dtypes: float64(52), object(1)\n",
      "memory usage: 2.1+ MB\n"
     ]
    }
   ],
   "source": [
    "data_test.info()"
   ]
  },
  {
   "cell_type": "code",
   "execution_count": 73,
   "metadata": {},
   "outputs": [
    {
     "data": {
      "text/html": [
       "<div>\n",
       "<style scoped>\n",
       "    .dataframe tbody tr th:only-of-type {\n",
       "        vertical-align: middle;\n",
       "    }\n",
       "\n",
       "    .dataframe tbody tr th {\n",
       "        vertical-align: top;\n",
       "    }\n",
       "\n",
       "    .dataframe thead th {\n",
       "        text-align: right;\n",
       "    }\n",
       "</style>\n",
       "<table border=\"1\" class=\"dataframe\">\n",
       "  <thead>\n",
       "    <tr style=\"text-align: right;\">\n",
       "      <th></th>\n",
       "      <th>date</th>\n",
       "      <th>primary_cleaner.input.sulfate</th>\n",
       "      <th>primary_cleaner.input.depressant</th>\n",
       "      <th>primary_cleaner.input.feed_size</th>\n",
       "      <th>primary_cleaner.input.xanthate</th>\n",
       "      <th>primary_cleaner.state.floatbank8_a_air</th>\n",
       "      <th>primary_cleaner.state.floatbank8_a_level</th>\n",
       "      <th>primary_cleaner.state.floatbank8_b_air</th>\n",
       "      <th>primary_cleaner.state.floatbank8_b_level</th>\n",
       "      <th>primary_cleaner.state.floatbank8_c_air</th>\n",
       "      <th>...</th>\n",
       "      <th>secondary_cleaner.state.floatbank4_a_air</th>\n",
       "      <th>secondary_cleaner.state.floatbank4_a_level</th>\n",
       "      <th>secondary_cleaner.state.floatbank4_b_air</th>\n",
       "      <th>secondary_cleaner.state.floatbank4_b_level</th>\n",
       "      <th>secondary_cleaner.state.floatbank5_a_air</th>\n",
       "      <th>secondary_cleaner.state.floatbank5_a_level</th>\n",
       "      <th>secondary_cleaner.state.floatbank5_b_air</th>\n",
       "      <th>secondary_cleaner.state.floatbank5_b_level</th>\n",
       "      <th>secondary_cleaner.state.floatbank6_a_air</th>\n",
       "      <th>secondary_cleaner.state.floatbank6_a_level</th>\n",
       "    </tr>\n",
       "  </thead>\n",
       "  <tbody>\n",
       "    <tr>\n",
       "      <th>0</th>\n",
       "      <td>2016-09-01 00:59:59</td>\n",
       "      <td>210.800909</td>\n",
       "      <td>14.993118</td>\n",
       "      <td>8.080000</td>\n",
       "      <td>1.005021</td>\n",
       "      <td>1398.981301</td>\n",
       "      <td>-500.225577</td>\n",
       "      <td>1399.144926</td>\n",
       "      <td>-499.919735</td>\n",
       "      <td>1400.102998</td>\n",
       "      <td>...</td>\n",
       "      <td>12.023554</td>\n",
       "      <td>-497.795834</td>\n",
       "      <td>8.016656</td>\n",
       "      <td>-501.289139</td>\n",
       "      <td>7.946562</td>\n",
       "      <td>-432.317850</td>\n",
       "      <td>4.872511</td>\n",
       "      <td>-500.037437</td>\n",
       "      <td>26.705889</td>\n",
       "      <td>-499.709414</td>\n",
       "    </tr>\n",
       "    <tr>\n",
       "      <th>1</th>\n",
       "      <td>2016-09-01 01:59:59</td>\n",
       "      <td>215.392455</td>\n",
       "      <td>14.987471</td>\n",
       "      <td>8.080000</td>\n",
       "      <td>0.990469</td>\n",
       "      <td>1398.777912</td>\n",
       "      <td>-500.057435</td>\n",
       "      <td>1398.055362</td>\n",
       "      <td>-499.778182</td>\n",
       "      <td>1396.151033</td>\n",
       "      <td>...</td>\n",
       "      <td>12.058140</td>\n",
       "      <td>-498.695773</td>\n",
       "      <td>8.130979</td>\n",
       "      <td>-499.634209</td>\n",
       "      <td>7.958270</td>\n",
       "      <td>-525.839648</td>\n",
       "      <td>4.878850</td>\n",
       "      <td>-500.162375</td>\n",
       "      <td>25.019940</td>\n",
       "      <td>-499.819438</td>\n",
       "    </tr>\n",
       "    <tr>\n",
       "      <th>2</th>\n",
       "      <td>2016-09-01 02:59:59</td>\n",
       "      <td>215.259946</td>\n",
       "      <td>12.884934</td>\n",
       "      <td>7.786667</td>\n",
       "      <td>0.996043</td>\n",
       "      <td>1398.493666</td>\n",
       "      <td>-500.868360</td>\n",
       "      <td>1398.860436</td>\n",
       "      <td>-499.764529</td>\n",
       "      <td>1398.075709</td>\n",
       "      <td>...</td>\n",
       "      <td>11.962366</td>\n",
       "      <td>-498.767484</td>\n",
       "      <td>8.096893</td>\n",
       "      <td>-500.827423</td>\n",
       "      <td>8.071056</td>\n",
       "      <td>-500.801673</td>\n",
       "      <td>4.905125</td>\n",
       "      <td>-499.828510</td>\n",
       "      <td>24.994862</td>\n",
       "      <td>-500.622559</td>\n",
       "    </tr>\n",
       "    <tr>\n",
       "      <th>3</th>\n",
       "      <td>2016-09-01 03:59:59</td>\n",
       "      <td>215.336236</td>\n",
       "      <td>12.006805</td>\n",
       "      <td>7.640000</td>\n",
       "      <td>0.863514</td>\n",
       "      <td>1399.618111</td>\n",
       "      <td>-498.863574</td>\n",
       "      <td>1397.440120</td>\n",
       "      <td>-499.211024</td>\n",
       "      <td>1400.129303</td>\n",
       "      <td>...</td>\n",
       "      <td>12.033091</td>\n",
       "      <td>-498.350935</td>\n",
       "      <td>8.074946</td>\n",
       "      <td>-499.474407</td>\n",
       "      <td>7.897085</td>\n",
       "      <td>-500.868509</td>\n",
       "      <td>4.931400</td>\n",
       "      <td>-499.963623</td>\n",
       "      <td>24.948919</td>\n",
       "      <td>-498.709987</td>\n",
       "    </tr>\n",
       "    <tr>\n",
       "      <th>4</th>\n",
       "      <td>2016-09-01 04:59:59</td>\n",
       "      <td>199.099327</td>\n",
       "      <td>10.682530</td>\n",
       "      <td>7.530000</td>\n",
       "      <td>0.805575</td>\n",
       "      <td>1401.268123</td>\n",
       "      <td>-500.808305</td>\n",
       "      <td>1398.128818</td>\n",
       "      <td>-499.504543</td>\n",
       "      <td>1402.172226</td>\n",
       "      <td>...</td>\n",
       "      <td>12.025367</td>\n",
       "      <td>-500.786497</td>\n",
       "      <td>8.054678</td>\n",
       "      <td>-500.397500</td>\n",
       "      <td>8.107890</td>\n",
       "      <td>-509.526725</td>\n",
       "      <td>4.957674</td>\n",
       "      <td>-500.360026</td>\n",
       "      <td>25.003331</td>\n",
       "      <td>-500.856333</td>\n",
       "    </tr>\n",
       "  </tbody>\n",
       "</table>\n",
       "<p>5 rows × 53 columns</p>\n",
       "</div>"
      ],
      "text/plain": [
       "                  date  primary_cleaner.input.sulfate  \\\n",
       "0  2016-09-01 00:59:59                     210.800909   \n",
       "1  2016-09-01 01:59:59                     215.392455   \n",
       "2  2016-09-01 02:59:59                     215.259946   \n",
       "3  2016-09-01 03:59:59                     215.336236   \n",
       "4  2016-09-01 04:59:59                     199.099327   \n",
       "\n",
       "   primary_cleaner.input.depressant  primary_cleaner.input.feed_size  \\\n",
       "0                         14.993118                         8.080000   \n",
       "1                         14.987471                         8.080000   \n",
       "2                         12.884934                         7.786667   \n",
       "3                         12.006805                         7.640000   \n",
       "4                         10.682530                         7.530000   \n",
       "\n",
       "   primary_cleaner.input.xanthate  primary_cleaner.state.floatbank8_a_air  \\\n",
       "0                        1.005021                             1398.981301   \n",
       "1                        0.990469                             1398.777912   \n",
       "2                        0.996043                             1398.493666   \n",
       "3                        0.863514                             1399.618111   \n",
       "4                        0.805575                             1401.268123   \n",
       "\n",
       "   primary_cleaner.state.floatbank8_a_level  \\\n",
       "0                               -500.225577   \n",
       "1                               -500.057435   \n",
       "2                               -500.868360   \n",
       "3                               -498.863574   \n",
       "4                               -500.808305   \n",
       "\n",
       "   primary_cleaner.state.floatbank8_b_air  \\\n",
       "0                             1399.144926   \n",
       "1                             1398.055362   \n",
       "2                             1398.860436   \n",
       "3                             1397.440120   \n",
       "4                             1398.128818   \n",
       "\n",
       "   primary_cleaner.state.floatbank8_b_level  \\\n",
       "0                               -499.919735   \n",
       "1                               -499.778182   \n",
       "2                               -499.764529   \n",
       "3                               -499.211024   \n",
       "4                               -499.504543   \n",
       "\n",
       "   primary_cleaner.state.floatbank8_c_air  ...  \\\n",
       "0                             1400.102998  ...   \n",
       "1                             1396.151033  ...   \n",
       "2                             1398.075709  ...   \n",
       "3                             1400.129303  ...   \n",
       "4                             1402.172226  ...   \n",
       "\n",
       "   secondary_cleaner.state.floatbank4_a_air  \\\n",
       "0                                 12.023554   \n",
       "1                                 12.058140   \n",
       "2                                 11.962366   \n",
       "3                                 12.033091   \n",
       "4                                 12.025367   \n",
       "\n",
       "   secondary_cleaner.state.floatbank4_a_level  \\\n",
       "0                                 -497.795834   \n",
       "1                                 -498.695773   \n",
       "2                                 -498.767484   \n",
       "3                                 -498.350935   \n",
       "4                                 -500.786497   \n",
       "\n",
       "   secondary_cleaner.state.floatbank4_b_air  \\\n",
       "0                                  8.016656   \n",
       "1                                  8.130979   \n",
       "2                                  8.096893   \n",
       "3                                  8.074946   \n",
       "4                                  8.054678   \n",
       "\n",
       "   secondary_cleaner.state.floatbank4_b_level  \\\n",
       "0                                 -501.289139   \n",
       "1                                 -499.634209   \n",
       "2                                 -500.827423   \n",
       "3                                 -499.474407   \n",
       "4                                 -500.397500   \n",
       "\n",
       "   secondary_cleaner.state.floatbank5_a_air  \\\n",
       "0                                  7.946562   \n",
       "1                                  7.958270   \n",
       "2                                  8.071056   \n",
       "3                                  7.897085   \n",
       "4                                  8.107890   \n",
       "\n",
       "   secondary_cleaner.state.floatbank5_a_level  \\\n",
       "0                                 -432.317850   \n",
       "1                                 -525.839648   \n",
       "2                                 -500.801673   \n",
       "3                                 -500.868509   \n",
       "4                                 -509.526725   \n",
       "\n",
       "   secondary_cleaner.state.floatbank5_b_air  \\\n",
       "0                                  4.872511   \n",
       "1                                  4.878850   \n",
       "2                                  4.905125   \n",
       "3                                  4.931400   \n",
       "4                                  4.957674   \n",
       "\n",
       "   secondary_cleaner.state.floatbank5_b_level  \\\n",
       "0                                 -500.037437   \n",
       "1                                 -500.162375   \n",
       "2                                 -499.828510   \n",
       "3                                 -499.963623   \n",
       "4                                 -500.360026   \n",
       "\n",
       "   secondary_cleaner.state.floatbank6_a_air  \\\n",
       "0                                 26.705889   \n",
       "1                                 25.019940   \n",
       "2                                 24.994862   \n",
       "3                                 24.948919   \n",
       "4                                 25.003331   \n",
       "\n",
       "   secondary_cleaner.state.floatbank6_a_level  \n",
       "0                                 -499.709414  \n",
       "1                                 -499.819438  \n",
       "2                                 -500.622559  \n",
       "3                                 -498.709987  \n",
       "4                                 -500.856333  \n",
       "\n",
       "[5 rows x 53 columns]"
      ]
     },
     "execution_count": 73,
     "metadata": {},
     "output_type": "execute_result"
    }
   ],
   "source": [
    "data_test.head()"
   ]
  },
  {
   "cell_type": "code",
   "execution_count": 74,
   "metadata": {},
   "outputs": [
    {
     "name": "stdout",
     "output_type": "stream",
     "text": [
      "<class 'pandas.core.frame.DataFrame'>\n",
      "RangeIndex: 19439 entries, 0 to 19438\n",
      "Data columns (total 87 columns):\n",
      " #   Column                                              Non-Null Count  Dtype  \n",
      "---  ------                                              --------------  -----  \n",
      " 0   date                                                19439 non-null  object \n",
      " 1   final.output.concentrate_ag                         19438 non-null  float64\n",
      " 2   final.output.concentrate_pb                         19438 non-null  float64\n",
      " 3   final.output.concentrate_sol                        19228 non-null  float64\n",
      " 4   final.output.concentrate_au                         19439 non-null  float64\n",
      " 5   final.output.recovery                               19439 non-null  float64\n",
      " 6   final.output.tail_ag                                19438 non-null  float64\n",
      " 7   final.output.tail_pb                                19338 non-null  float64\n",
      " 8   final.output.tail_sol                               19433 non-null  float64\n",
      " 9   final.output.tail_au                                19439 non-null  float64\n",
      " 10  primary_cleaner.input.sulfate                       19415 non-null  float64\n",
      " 11  primary_cleaner.input.depressant                    19402 non-null  float64\n",
      " 12  primary_cleaner.input.feed_size                     19439 non-null  float64\n",
      " 13  primary_cleaner.input.xanthate                      19335 non-null  float64\n",
      " 14  primary_cleaner.output.concentrate_ag               19439 non-null  float64\n",
      " 15  primary_cleaner.output.concentrate_pb               19323 non-null  float64\n",
      " 16  primary_cleaner.output.concentrate_sol              19069 non-null  float64\n",
      " 17  primary_cleaner.output.concentrate_au               19439 non-null  float64\n",
      " 18  primary_cleaner.output.tail_ag                      19435 non-null  float64\n",
      " 19  primary_cleaner.output.tail_pb                      19418 non-null  float64\n",
      " 20  primary_cleaner.output.tail_sol                     19377 non-null  float64\n",
      " 21  primary_cleaner.output.tail_au                      19439 non-null  float64\n",
      " 22  primary_cleaner.state.floatbank8_a_air              19435 non-null  float64\n",
      " 23  primary_cleaner.state.floatbank8_a_level            19438 non-null  float64\n",
      " 24  primary_cleaner.state.floatbank8_b_air              19435 non-null  float64\n",
      " 25  primary_cleaner.state.floatbank8_b_level            19438 non-null  float64\n",
      " 26  primary_cleaner.state.floatbank8_c_air              19437 non-null  float64\n",
      " 27  primary_cleaner.state.floatbank8_c_level            19438 non-null  float64\n",
      " 28  primary_cleaner.state.floatbank8_d_air              19436 non-null  float64\n",
      " 29  primary_cleaner.state.floatbank8_d_level            19438 non-null  float64\n",
      " 30  rougher.calculation.sulfate_to_au_concentrate       19437 non-null  float64\n",
      " 31  rougher.calculation.floatbank10_sulfate_to_au_feed  19437 non-null  float64\n",
      " 32  rougher.calculation.floatbank11_sulfate_to_au_feed  19437 non-null  float64\n",
      " 33  rougher.calculation.au_pb_ratio                     19439 non-null  float64\n",
      " 34  rougher.input.feed_ag                               19439 non-null  float64\n",
      " 35  rougher.input.feed_pb                               19339 non-null  float64\n",
      " 36  rougher.input.feed_rate                             19428 non-null  float64\n",
      " 37  rougher.input.feed_size                             19294 non-null  float64\n",
      " 38  rougher.input.feed_sol                              19340 non-null  float64\n",
      " 39  rougher.input.feed_au                               19439 non-null  float64\n",
      " 40  rougher.input.floatbank10_sulfate                   19405 non-null  float64\n",
      " 41  rougher.input.floatbank10_xanthate                  19431 non-null  float64\n",
      " 42  rougher.input.floatbank11_sulfate                   19395 non-null  float64\n",
      " 43  rougher.input.floatbank11_xanthate                  18986 non-null  float64\n",
      " 44  rougher.output.concentrate_ag                       19439 non-null  float64\n",
      " 45  rougher.output.concentrate_pb                       19439 non-null  float64\n",
      " 46  rougher.output.concentrate_sol                      19416 non-null  float64\n",
      " 47  rougher.output.concentrate_au                       19439 non-null  float64\n",
      " 48  rougher.output.recovery                             19439 non-null  float64\n",
      " 49  rougher.output.tail_ag                              19438 non-null  float64\n",
      " 50  rougher.output.tail_pb                              19439 non-null  float64\n",
      " 51  rougher.output.tail_sol                             19439 non-null  float64\n",
      " 52  rougher.output.tail_au                              19439 non-null  float64\n",
      " 53  rougher.state.floatbank10_a_air                     19438 non-null  float64\n",
      " 54  rougher.state.floatbank10_a_level                   19438 non-null  float64\n",
      " 55  rougher.state.floatbank10_b_air                     19438 non-null  float64\n",
      " 56  rougher.state.floatbank10_b_level                   19438 non-null  float64\n",
      " 57  rougher.state.floatbank10_c_air                     19438 non-null  float64\n",
      " 58  rougher.state.floatbank10_c_level                   19438 non-null  float64\n",
      " 59  rougher.state.floatbank10_d_air                     19439 non-null  float64\n",
      " 60  rougher.state.floatbank10_d_level                   19439 non-null  float64\n",
      " 61  rougher.state.floatbank10_e_air                     19003 non-null  float64\n",
      " 62  rougher.state.floatbank10_e_level                   19439 non-null  float64\n",
      " 63  rougher.state.floatbank10_f_air                     19439 non-null  float64\n",
      " 64  rougher.state.floatbank10_f_level                   19439 non-null  float64\n",
      " 65  secondary_cleaner.output.tail_ag                    19437 non-null  float64\n",
      " 66  secondary_cleaner.output.tail_pb                    19427 non-null  float64\n",
      " 67  secondary_cleaner.output.tail_sol                   17691 non-null  float64\n",
      " 68  secondary_cleaner.output.tail_au                    19439 non-null  float64\n",
      " 69  secondary_cleaner.state.floatbank2_a_air            19219 non-null  float64\n",
      " 70  secondary_cleaner.state.floatbank2_a_level          19438 non-null  float64\n",
      " 71  secondary_cleaner.state.floatbank2_b_air            19416 non-null  float64\n",
      " 72  secondary_cleaner.state.floatbank2_b_level          19438 non-null  float64\n",
      " 73  secondary_cleaner.state.floatbank3_a_air            19426 non-null  float64\n",
      " 74  secondary_cleaner.state.floatbank3_a_level          19438 non-null  float64\n",
      " 75  secondary_cleaner.state.floatbank3_b_air            19438 non-null  float64\n",
      " 76  secondary_cleaner.state.floatbank3_b_level          19438 non-null  float64\n",
      " 77  secondary_cleaner.state.floatbank4_a_air            19433 non-null  float64\n",
      " 78  secondary_cleaner.state.floatbank4_a_level          19438 non-null  float64\n",
      " 79  secondary_cleaner.state.floatbank4_b_air            19438 non-null  float64\n",
      " 80  secondary_cleaner.state.floatbank4_b_level          19438 non-null  float64\n",
      " 81  secondary_cleaner.state.floatbank5_a_air            19438 non-null  float64\n",
      " 82  secondary_cleaner.state.floatbank5_a_level          19438 non-null  float64\n",
      " 83  secondary_cleaner.state.floatbank5_b_air            19438 non-null  float64\n",
      " 84  secondary_cleaner.state.floatbank5_b_level          19438 non-null  float64\n",
      " 85  secondary_cleaner.state.floatbank6_a_air            19437 non-null  float64\n",
      " 86  secondary_cleaner.state.floatbank6_a_level          19438 non-null  float64\n",
      "dtypes: float64(86), object(1)\n",
      "memory usage: 12.9+ MB\n"
     ]
    }
   ],
   "source": [
    "data_full.info()"
   ]
  },
  {
   "cell_type": "code",
   "execution_count": 75,
   "metadata": {},
   "outputs": [
    {
     "data": {
      "text/html": [
       "<div>\n",
       "<style scoped>\n",
       "    .dataframe tbody tr th:only-of-type {\n",
       "        vertical-align: middle;\n",
       "    }\n",
       "\n",
       "    .dataframe tbody tr th {\n",
       "        vertical-align: top;\n",
       "    }\n",
       "\n",
       "    .dataframe thead th {\n",
       "        text-align: right;\n",
       "    }\n",
       "</style>\n",
       "<table border=\"1\" class=\"dataframe\">\n",
       "  <thead>\n",
       "    <tr style=\"text-align: right;\">\n",
       "      <th></th>\n",
       "      <th>date</th>\n",
       "      <th>final.output.concentrate_ag</th>\n",
       "      <th>final.output.concentrate_pb</th>\n",
       "      <th>final.output.concentrate_sol</th>\n",
       "      <th>final.output.concentrate_au</th>\n",
       "      <th>final.output.recovery</th>\n",
       "      <th>final.output.tail_ag</th>\n",
       "      <th>final.output.tail_pb</th>\n",
       "      <th>final.output.tail_sol</th>\n",
       "      <th>final.output.tail_au</th>\n",
       "      <th>...</th>\n",
       "      <th>secondary_cleaner.state.floatbank4_a_air</th>\n",
       "      <th>secondary_cleaner.state.floatbank4_a_level</th>\n",
       "      <th>secondary_cleaner.state.floatbank4_b_air</th>\n",
       "      <th>secondary_cleaner.state.floatbank4_b_level</th>\n",
       "      <th>secondary_cleaner.state.floatbank5_a_air</th>\n",
       "      <th>secondary_cleaner.state.floatbank5_a_level</th>\n",
       "      <th>secondary_cleaner.state.floatbank5_b_air</th>\n",
       "      <th>secondary_cleaner.state.floatbank5_b_level</th>\n",
       "      <th>secondary_cleaner.state.floatbank6_a_air</th>\n",
       "      <th>secondary_cleaner.state.floatbank6_a_level</th>\n",
       "    </tr>\n",
       "  </thead>\n",
       "  <tbody>\n",
       "    <tr>\n",
       "      <th>0</th>\n",
       "      <td>2016-01-15 00:00:00</td>\n",
       "      <td>6.055403</td>\n",
       "      <td>9.889648</td>\n",
       "      <td>5.507324</td>\n",
       "      <td>42.192020</td>\n",
       "      <td>70.541216</td>\n",
       "      <td>10.411962</td>\n",
       "      <td>0.895447</td>\n",
       "      <td>16.904297</td>\n",
       "      <td>2.143149</td>\n",
       "      <td>...</td>\n",
       "      <td>14.016835</td>\n",
       "      <td>-502.488007</td>\n",
       "      <td>12.099931</td>\n",
       "      <td>-504.715942</td>\n",
       "      <td>9.925633</td>\n",
       "      <td>-498.310211</td>\n",
       "      <td>8.079666</td>\n",
       "      <td>-500.470978</td>\n",
       "      <td>14.151341</td>\n",
       "      <td>-605.841980</td>\n",
       "    </tr>\n",
       "    <tr>\n",
       "      <th>1</th>\n",
       "      <td>2016-01-15 01:00:00</td>\n",
       "      <td>6.029369</td>\n",
       "      <td>9.968944</td>\n",
       "      <td>5.257781</td>\n",
       "      <td>42.701629</td>\n",
       "      <td>69.266198</td>\n",
       "      <td>10.462676</td>\n",
       "      <td>0.927452</td>\n",
       "      <td>16.634514</td>\n",
       "      <td>2.224930</td>\n",
       "      <td>...</td>\n",
       "      <td>13.992281</td>\n",
       "      <td>-505.503262</td>\n",
       "      <td>11.950531</td>\n",
       "      <td>-501.331529</td>\n",
       "      <td>10.039245</td>\n",
       "      <td>-500.169983</td>\n",
       "      <td>7.984757</td>\n",
       "      <td>-500.582168</td>\n",
       "      <td>13.998353</td>\n",
       "      <td>-599.787184</td>\n",
       "    </tr>\n",
       "    <tr>\n",
       "      <th>2</th>\n",
       "      <td>2016-01-15 02:00:00</td>\n",
       "      <td>6.055926</td>\n",
       "      <td>10.213995</td>\n",
       "      <td>5.383759</td>\n",
       "      <td>42.657501</td>\n",
       "      <td>68.116445</td>\n",
       "      <td>10.507046</td>\n",
       "      <td>0.953716</td>\n",
       "      <td>16.208849</td>\n",
       "      <td>2.257889</td>\n",
       "      <td>...</td>\n",
       "      <td>14.015015</td>\n",
       "      <td>-502.520901</td>\n",
       "      <td>11.912783</td>\n",
       "      <td>-501.133383</td>\n",
       "      <td>10.070913</td>\n",
       "      <td>-500.129135</td>\n",
       "      <td>8.013877</td>\n",
       "      <td>-500.517572</td>\n",
       "      <td>14.028663</td>\n",
       "      <td>-601.427363</td>\n",
       "    </tr>\n",
       "    <tr>\n",
       "      <th>3</th>\n",
       "      <td>2016-01-15 03:00:00</td>\n",
       "      <td>6.047977</td>\n",
       "      <td>9.977019</td>\n",
       "      <td>4.858634</td>\n",
       "      <td>42.689819</td>\n",
       "      <td>68.347543</td>\n",
       "      <td>10.422762</td>\n",
       "      <td>0.883763</td>\n",
       "      <td>16.532835</td>\n",
       "      <td>2.146849</td>\n",
       "      <td>...</td>\n",
       "      <td>14.036510</td>\n",
       "      <td>-500.857308</td>\n",
       "      <td>11.999550</td>\n",
       "      <td>-501.193686</td>\n",
       "      <td>9.970366</td>\n",
       "      <td>-499.201640</td>\n",
       "      <td>7.977324</td>\n",
       "      <td>-500.255908</td>\n",
       "      <td>14.005551</td>\n",
       "      <td>-599.996129</td>\n",
       "    </tr>\n",
       "    <tr>\n",
       "      <th>4</th>\n",
       "      <td>2016-01-15 04:00:00</td>\n",
       "      <td>6.148599</td>\n",
       "      <td>10.142511</td>\n",
       "      <td>4.939416</td>\n",
       "      <td>42.774141</td>\n",
       "      <td>66.927016</td>\n",
       "      <td>10.360302</td>\n",
       "      <td>0.792826</td>\n",
       "      <td>16.525686</td>\n",
       "      <td>2.055292</td>\n",
       "      <td>...</td>\n",
       "      <td>14.027298</td>\n",
       "      <td>-499.838632</td>\n",
       "      <td>11.953070</td>\n",
       "      <td>-501.053894</td>\n",
       "      <td>9.925709</td>\n",
       "      <td>-501.686727</td>\n",
       "      <td>7.894242</td>\n",
       "      <td>-500.356035</td>\n",
       "      <td>13.996647</td>\n",
       "      <td>-601.496691</td>\n",
       "    </tr>\n",
       "  </tbody>\n",
       "</table>\n",
       "<p>5 rows × 87 columns</p>\n",
       "</div>"
      ],
      "text/plain": [
       "                  date  final.output.concentrate_ag  \\\n",
       "0  2016-01-15 00:00:00                     6.055403   \n",
       "1  2016-01-15 01:00:00                     6.029369   \n",
       "2  2016-01-15 02:00:00                     6.055926   \n",
       "3  2016-01-15 03:00:00                     6.047977   \n",
       "4  2016-01-15 04:00:00                     6.148599   \n",
       "\n",
       "   final.output.concentrate_pb  final.output.concentrate_sol  \\\n",
       "0                     9.889648                      5.507324   \n",
       "1                     9.968944                      5.257781   \n",
       "2                    10.213995                      5.383759   \n",
       "3                     9.977019                      4.858634   \n",
       "4                    10.142511                      4.939416   \n",
       "\n",
       "   final.output.concentrate_au  final.output.recovery  final.output.tail_ag  \\\n",
       "0                    42.192020              70.541216             10.411962   \n",
       "1                    42.701629              69.266198             10.462676   \n",
       "2                    42.657501              68.116445             10.507046   \n",
       "3                    42.689819              68.347543             10.422762   \n",
       "4                    42.774141              66.927016             10.360302   \n",
       "\n",
       "   final.output.tail_pb  final.output.tail_sol  final.output.tail_au  ...  \\\n",
       "0              0.895447              16.904297              2.143149  ...   \n",
       "1              0.927452              16.634514              2.224930  ...   \n",
       "2              0.953716              16.208849              2.257889  ...   \n",
       "3              0.883763              16.532835              2.146849  ...   \n",
       "4              0.792826              16.525686              2.055292  ...   \n",
       "\n",
       "   secondary_cleaner.state.floatbank4_a_air  \\\n",
       "0                                 14.016835   \n",
       "1                                 13.992281   \n",
       "2                                 14.015015   \n",
       "3                                 14.036510   \n",
       "4                                 14.027298   \n",
       "\n",
       "   secondary_cleaner.state.floatbank4_a_level  \\\n",
       "0                                 -502.488007   \n",
       "1                                 -505.503262   \n",
       "2                                 -502.520901   \n",
       "3                                 -500.857308   \n",
       "4                                 -499.838632   \n",
       "\n",
       "   secondary_cleaner.state.floatbank4_b_air  \\\n",
       "0                                 12.099931   \n",
       "1                                 11.950531   \n",
       "2                                 11.912783   \n",
       "3                                 11.999550   \n",
       "4                                 11.953070   \n",
       "\n",
       "   secondary_cleaner.state.floatbank4_b_level  \\\n",
       "0                                 -504.715942   \n",
       "1                                 -501.331529   \n",
       "2                                 -501.133383   \n",
       "3                                 -501.193686   \n",
       "4                                 -501.053894   \n",
       "\n",
       "   secondary_cleaner.state.floatbank5_a_air  \\\n",
       "0                                  9.925633   \n",
       "1                                 10.039245   \n",
       "2                                 10.070913   \n",
       "3                                  9.970366   \n",
       "4                                  9.925709   \n",
       "\n",
       "   secondary_cleaner.state.floatbank5_a_level  \\\n",
       "0                                 -498.310211   \n",
       "1                                 -500.169983   \n",
       "2                                 -500.129135   \n",
       "3                                 -499.201640   \n",
       "4                                 -501.686727   \n",
       "\n",
       "   secondary_cleaner.state.floatbank5_b_air  \\\n",
       "0                                  8.079666   \n",
       "1                                  7.984757   \n",
       "2                                  8.013877   \n",
       "3                                  7.977324   \n",
       "4                                  7.894242   \n",
       "\n",
       "   secondary_cleaner.state.floatbank5_b_level  \\\n",
       "0                                 -500.470978   \n",
       "1                                 -500.582168   \n",
       "2                                 -500.517572   \n",
       "3                                 -500.255908   \n",
       "4                                 -500.356035   \n",
       "\n",
       "   secondary_cleaner.state.floatbank6_a_air  \\\n",
       "0                                 14.151341   \n",
       "1                                 13.998353   \n",
       "2                                 14.028663   \n",
       "3                                 14.005551   \n",
       "4                                 13.996647   \n",
       "\n",
       "   secondary_cleaner.state.floatbank6_a_level  \n",
       "0                                 -605.841980  \n",
       "1                                 -599.787184  \n",
       "2                                 -601.427363  \n",
       "3                                 -599.996129  \n",
       "4                                 -601.496691  \n",
       "\n",
       "[5 rows x 87 columns]"
      ]
     },
     "execution_count": 75,
     "metadata": {},
     "output_type": "execute_result"
    }
   ],
   "source": [
    "data_full.head()"
   ]
  },
  {
   "cell_type": "markdown",
   "metadata": {},
   "source": [
    "### Проверка расчета эффективности обогащения\n",
    "\n",
    "Проверим на обучающей выборке, что эффективность обогащения чернового концентрата рассчитана правильно. Это признак `rougher.output.recovery`\n",
    "\n",
    "Эффективность обогащения рассчитывается по формуле:\n",
    "\n",
    "$$Recovery = C \\frac{(F - T)}{F (C - T)} * 100\\% ,$$\n",
    "где \n",
    "\n",
    "- \\\\(C\\\\) - доля золота в концентрате после флотации, признак `rougher.output.concentrate_au`,\n",
    "- \\\\(F\\\\) - доля золота в сырье до флотации, признак `rougher.input.feed_au`,\n",
    "- \\\\(T\\\\) - доля золота в отвальных хвостах, признак `rougher.output.tail_au`."
   ]
  },
  {
   "cell_type": "code",
   "execution_count": 76,
   "metadata": {},
   "outputs": [
    {
     "data": {
      "text/plain": [
       "0        87.107763\n",
       "1        86.843261\n",
       "2        86.842308\n",
       "3        87.226430\n",
       "4        86.688794\n",
       "           ...    \n",
       "14144    89.574376\n",
       "14145    87.724007\n",
       "14146    88.890579\n",
       "14147    89.858126\n",
       "14148    89.514960\n",
       "Length: 14149, dtype: float64"
      ]
     },
     "execution_count": 76,
     "metadata": {},
     "output_type": "execute_result"
    }
   ],
   "source": [
    "rougher_recovery_calc = data_train['rougher.output.concentrate_au']*(data_train['rougher.input.feed_au'] \\\n",
    "                                                                     - data_train['rougher.output.tail_au']) \\\n",
    "                      /(data_train['rougher.input.feed_au'] * (data_train['rougher.output.concentrate_au'] \\\n",
    "                                                               - data_train['rougher.output.tail_au'])) * 100\n",
    "\n",
    "rougher_recovery_calc"
   ]
  },
  {
   "cell_type": "markdown",
   "metadata": {},
   "source": [
    "Посчитаем MAE - среднюю абсолютную ошибку между рассчитанной эффективностью и значением признака."
   ]
  },
  {
   "cell_type": "code",
   "execution_count": 77,
   "metadata": {},
   "outputs": [
    {
     "data": {
      "text/plain": [
       "9.73512347450521e-15"
      ]
     },
     "execution_count": 77,
     "metadata": {},
     "output_type": "execute_result"
    }
   ],
   "source": [
    "mean_absolute_error(rougher_recovery_calc, data_train['rougher.output.recovery'])"
   ]
  },
  {
   "cell_type": "markdown",
   "metadata": {},
   "source": [
    "**Промежуточный вывод**\n",
    "\n",
    "Видим, что MAE между рассчитанной эффективностью обогащения чернового концентрата и значением признака ничтожно мала. Можно сделать вывод, что формула для расчета эффективности обогащения корректна."
   ]
  },
  {
   "cell_type": "markdown",
   "metadata": {},
   "source": [
    "### Анализ признаков, недоступных в тестовой выборке\n",
    "Как мы видим из информации о датасетах, в тестовой выборке (`data_test`) меньше столбцов с данными по сравнению с обучающей выборкой (`data_train`). Посмотрим, каких столбцов нет:"
   ]
  },
  {
   "cell_type": "code",
   "execution_count": 78,
   "metadata": {},
   "outputs": [
    {
     "data": {
      "text/plain": [
       "{'final.output.concentrate_ag',\n",
       " 'final.output.concentrate_au',\n",
       " 'final.output.concentrate_pb',\n",
       " 'final.output.concentrate_sol',\n",
       " 'final.output.recovery',\n",
       " 'final.output.tail_ag',\n",
       " 'final.output.tail_au',\n",
       " 'final.output.tail_pb',\n",
       " 'final.output.tail_sol',\n",
       " 'primary_cleaner.output.concentrate_ag',\n",
       " 'primary_cleaner.output.concentrate_au',\n",
       " 'primary_cleaner.output.concentrate_pb',\n",
       " 'primary_cleaner.output.concentrate_sol',\n",
       " 'primary_cleaner.output.tail_ag',\n",
       " 'primary_cleaner.output.tail_au',\n",
       " 'primary_cleaner.output.tail_pb',\n",
       " 'primary_cleaner.output.tail_sol',\n",
       " 'rougher.calculation.au_pb_ratio',\n",
       " 'rougher.calculation.floatbank10_sulfate_to_au_feed',\n",
       " 'rougher.calculation.floatbank11_sulfate_to_au_feed',\n",
       " 'rougher.calculation.sulfate_to_au_concentrate',\n",
       " 'rougher.output.concentrate_ag',\n",
       " 'rougher.output.concentrate_au',\n",
       " 'rougher.output.concentrate_pb',\n",
       " 'rougher.output.concentrate_sol',\n",
       " 'rougher.output.recovery',\n",
       " 'rougher.output.tail_ag',\n",
       " 'rougher.output.tail_au',\n",
       " 'rougher.output.tail_pb',\n",
       " 'rougher.output.tail_sol',\n",
       " 'secondary_cleaner.output.tail_ag',\n",
       " 'secondary_cleaner.output.tail_au',\n",
       " 'secondary_cleaner.output.tail_pb',\n",
       " 'secondary_cleaner.output.tail_sol'}"
      ]
     },
     "execution_count": 78,
     "metadata": {},
     "output_type": "execute_result"
    }
   ],
   "source": [
    "missing_columns = set(data_train.columns).difference(data_test.columns)\n",
    "missing_columns"
   ]
  },
  {
   "cell_type": "markdown",
   "metadata": {},
   "source": [
    "Отсутствуют:\n",
    "- все финальные параметры продукта\n",
    "- расчетные характеристики на этапе флотации\n",
    "- параметры продукта после флотации\n",
    "- параметры продукта после первичной очистки\n",
    "- параметры продукта после вторичной очистки"
   ]
  },
  {
   "cell_type": "markdown",
   "metadata": {},
   "source": [
    "### Предобработка данных\n"
   ]
  },
  {
   "cell_type": "markdown",
   "metadata": {},
   "source": [
    "#### Обработка пропусков в данных\n",
    "\n",
    "Посмотрим, сколько пропусков в датасетах в процентном соотношении.\n",
    "\n",
    "**Обучающая выборка**"
   ]
  },
  {
   "cell_type": "code",
   "execution_count": 79,
   "metadata": {},
   "outputs": [
    {
     "data": {
      "text/plain": [
       "secondary_cleaner.output.tail_sol           11.34\n",
       "rougher.state.floatbank10_e_air              3.08\n",
       "rougher.input.floatbank11_xanthate           3.02\n",
       "primary_cleaner.output.concentrate_sol       2.02\n",
       "secondary_cleaner.state.floatbank2_a_air     1.53\n",
       "final.output.concentrate_sol                 1.49\n",
       "rougher.input.feed_size                      1.02\n",
       "rougher.input.feed_pb                        0.71\n",
       "primary_cleaner.input.xanthate               0.71\n",
       "final.output.tail_pb                         0.71\n",
       "primary_cleaner.output.concentrate_pb        0.61\n",
       "rougher.input.feed_sol                       0.55\n",
       "primary_cleaner.output.tail_sol              0.33\n",
       "rougher.input.floatbank11_sulfate            0.25\n",
       "primary_cleaner.input.depressant             0.23\n",
       "rougher.input.floatbank10_sulfate            0.20\n",
       "rougher.output.concentrate_sol               0.16\n",
       "secondary_cleaner.state.floatbank2_b_air     0.15\n",
       "primary_cleaner.input.sulfate                0.14\n",
       "primary_cleaner.output.tail_pb               0.11\n",
       "dtype: float64"
      ]
     },
     "execution_count": 79,
     "metadata": {},
     "output_type": "execute_result"
    }
   ],
   "source": [
    "original_size_train = data_train.shape[0]\n",
    "gaps_train_percents = pd.Series(round(data_train.isna().mean()*100, 2)).sort_values(ascending=False)\n",
    "gaps_train_percents[gaps_train_percents > 0].head(20)"
   ]
  },
  {
   "cell_type": "markdown",
   "metadata": {},
   "source": [
    "Больше всего пропусков (более 11%) в признаке `secondary_cleaner.output.tail_sol` - хвосты солей после вторичной очистки.\n",
    "Посмотрим, какие значения в принципе есть в этих хвостах."
   ]
  },
  {
   "cell_type": "code",
   "execution_count": 80,
   "metadata": {},
   "outputs": [
    {
     "data": {
      "text/plain": [
       "NaN         1605\n",
       "0.000000     739\n",
       "2.316162       5\n",
       "8.764648       1\n",
       "2.882617       1\n",
       "            ... \n",
       "7.762466       1\n",
       "7.434119       1\n",
       "7.628932       1\n",
       "7.584453       1\n",
       "0.274862       1\n",
       "Name: secondary_cleaner.output.tail_sol, Length: 11803, dtype: int64"
      ]
     },
     "execution_count": 80,
     "metadata": {},
     "output_type": "execute_result"
    }
   ],
   "source": [
    "data_train['secondary_cleaner.output.tail_sol'].value_counts(dropna=False)"
   ]
  },
  {
   "cell_type": "code",
   "execution_count": 81,
   "metadata": {},
   "outputs": [
    {
     "data": {
      "text/plain": [
       "rougher.state.floatbank10_e_air                  3.08\n",
       "rougher.input.floatbank11_xanthate               3.02\n",
       "primary_cleaner.output.concentrate_sol           2.02\n",
       "secondary_cleaner.state.floatbank2_a_air         1.53\n",
       "final.output.concentrate_sol                     1.49\n",
       "                                                 ... \n",
       "final.output.concentrate_ag                      0.01\n",
       "primary_cleaner.state.floatbank8_b_level         0.01\n",
       "primary_cleaner.state.floatbank8_a_level         0.01\n",
       "rougher.calculation.sulfate_to_au_concentrate    0.01\n",
       "primary_cleaner.output.tail_ag                   0.01\n",
       "Length: 61, dtype: float64"
      ]
     },
     "execution_count": 81,
     "metadata": {},
     "output_type": "execute_result"
    }
   ],
   "source": [
    "# заполним пропуски методом ffill, тк по условиям задачи соседние данные похожи\n",
    "data_train['secondary_cleaner.output.tail_sol'] = data_train['secondary_cleaner.output.tail_sol'].fillna(method=\"ffill\")\n",
    "\n",
    "# посмотрим на оставшиеся пропуски\n",
    "gaps_train_percents = pd.Series(round(data_train.isna().mean()*100, 2)).sort_values(ascending=False)\n",
    "gaps_train_percents[gaps_train_percents > 0]"
   ]
  },
  {
   "cell_type": "code",
   "execution_count": 82,
   "metadata": {},
   "outputs": [
    {
     "name": "stdout",
     "output_type": "stream",
     "text": [
      "Из обучающей выборки удалено 0.34% строк\n"
     ]
    }
   ],
   "source": [
    "# заполним столбцы медианой там, где более 0.1% пропусков\n",
    "for i in gaps_train_percents.index:  \n",
    "    if gaps_train_percents[i] > 0.1:\n",
    "        data_train[i] = data_train[i].fillna(data_train[i].median())\n",
    "    \n",
    "# остальные пропуски удалим    \n",
    "data_train = data_train.dropna()\n",
    "print(f'Из обучающей выборки удалено {1 - data_train.shape[0]/original_size_train:.2%} строк')"
   ]
  },
  {
   "cell_type": "markdown",
   "metadata": {},
   "source": [
    "Такая потеря данных не является критической.\n"
   ]
  },
  {
   "cell_type": "markdown",
   "metadata": {},
   "source": [
    "**Тестовая выборка:**"
   ]
  },
  {
   "cell_type": "code",
   "execution_count": 83,
   "metadata": {},
   "outputs": [
    {
     "data": {
      "text/plain": [
       "1.71"
      ]
     },
     "execution_count": 83,
     "metadata": {},
     "output_type": "execute_result"
    }
   ],
   "source": [
    "gaps_test_percents = pd.Series(round(data_test.isna().mean()*100, 2)).sort_values(ascending=False)\n",
    "gaps_test_percents.sum()"
   ]
  },
  {
   "cell_type": "markdown",
   "metadata": {},
   "source": [
    "В тестовой выборке 1,71% строк с пропусками. Удалим их без критического ущерба для выборки"
   ]
  },
  {
   "cell_type": "code",
   "execution_count": 84,
   "metadata": {},
   "outputs": [],
   "source": [
    "data_test = data_test.dropna()"
   ]
  },
  {
   "cell_type": "markdown",
   "metadata": {},
   "source": [
    "#### Проверка на дубликаты"
   ]
  },
  {
   "cell_type": "code",
   "execution_count": 85,
   "metadata": {},
   "outputs": [
    {
     "data": {
      "text/plain": [
       "0"
      ]
     },
     "execution_count": 85,
     "metadata": {},
     "output_type": "execute_result"
    }
   ],
   "source": [
    "data_train.duplicated().sum()"
   ]
  },
  {
   "cell_type": "code",
   "execution_count": 86,
   "metadata": {},
   "outputs": [
    {
     "data": {
      "text/plain": [
       "0"
      ]
     },
     "execution_count": 86,
     "metadata": {},
     "output_type": "execute_result"
    }
   ],
   "source": [
    "data_test.duplicated().sum()"
   ]
  },
  {
   "cell_type": "markdown",
   "metadata": {},
   "source": [
    "Полностью совпадающих строк ни в одном датасете нет.\n",
    "\n",
    "### Обработка аномальных значений"
   ]
  },
  {
   "cell_type": "markdown",
   "metadata": {},
   "source": [
    "## Исследовательский анализ данных\n",
    "### Концентрация металлов на разных этапах очистки\n",
    "\n",
    "Проанализируем, как меняется концентрация металлов (`Au` - золото, `Ag` - серебро, `Pb` - свинец) на различных этапах очистки.\n",
    "\n",
    "Посмотрим, какие столбцы нам нужны."
   ]
  },
  {
   "cell_type": "code",
   "execution_count": 87,
   "metadata": {},
   "outputs": [
    {
     "data": {
      "text/plain": [
       "['final.output.concentrate_ag',\n",
       " 'final.output.concentrate_pb',\n",
       " 'final.output.concentrate_sol',\n",
       " 'final.output.concentrate_au',\n",
       " 'primary_cleaner.output.concentrate_ag',\n",
       " 'primary_cleaner.output.concentrate_pb',\n",
       " 'primary_cleaner.output.concentrate_sol',\n",
       " 'primary_cleaner.output.concentrate_au',\n",
       " 'rougher.calculation.sulfate_to_au_concentrate',\n",
       " 'rougher.output.concentrate_ag',\n",
       " 'rougher.output.concentrate_pb',\n",
       " 'rougher.output.concentrate_sol',\n",
       " 'rougher.output.concentrate_au']"
      ]
     },
     "execution_count": 87,
     "metadata": {},
     "output_type": "execute_result"
    }
   ],
   "source": [
    "[concentrate_columns for concentrate_columns in data_train.columns if 'concentrate' in concentrate_columns]"
   ]
  },
  {
   "cell_type": "code",
   "execution_count": 88,
   "metadata": {},
   "outputs": [],
   "source": [
    "\"\"\"\n",
    "Вспомогательная функция для построения гистограммы для каждого металла\n",
    "получает на вход датасет и исследуемый металл\n",
    "строит гистограмму\n",
    "\"\"\"\n",
    "def concentration_hist(data, metall):\n",
    "    bins = 40\n",
    "    alpha=0.75\n",
    "    fig, ax = plt.subplots(figsize=(8, 5))\n",
    "    \n",
    "    ax.hist(data['final.output.concentrate_'+metall], label=metall+' - final', bins=bins, alpha=alpha)\n",
    "    ax.hist(data['rougher.output.concentrate_'+metall], label=metall+' - rougher', bins=bins, alpha=alpha)\n",
    "    ax.hist(data['primary_cleaner.output.concentrate_'+metall], label=metall+' - primary cleaner', bins=bins, alpha=alpha)\n",
    "    ax.legend()\n",
    "    ax.grid(True)\n",
    "    ax.set_title('Гистограмма концентрации '+metall+' на раличных этапах очистки');"
   ]
  },
  {
   "cell_type": "code",
   "execution_count": 89,
   "metadata": {
    "scrolled": true
   },
   "outputs": [
    {
     "data": {
      "image/png": "[encoded data removed]",
      "text/plain": [
       "<Figure size 576x360 with 1 Axes>"
      ]
     },
     "metadata": {
      "needs_background": "light"
     },
     "output_type": "display_data"
    }
   ],
   "source": [
    "concentration_hist(data_train, 'ag')"
   ]
  },
  {
   "cell_type": "code",
   "execution_count": 90,
   "metadata": {},
   "outputs": [
    {
     "data": {
      "image/png": "[encoded data removed]",
      "text/plain": [
       "<Figure size 576x360 with 1 Axes>"
      ]
     },
     "metadata": {
      "needs_background": "light"
     },
     "output_type": "display_data"
    }
   ],
   "source": [
    "concentration_hist(data_train, 'pb')"
   ]
  },
  {
   "cell_type": "code",
   "execution_count": 91,
   "metadata": {},
   "outputs": [
    {
     "data": {
      "image/png": "[encoded data removed]",
      "text/plain": [
       "<Figure size 576x360 with 1 Axes>"
      ]
     },
     "metadata": {
      "needs_background": "light"
     },
     "output_type": "display_data"
    }
   ],
   "source": [
    "concentration_hist(data_train, 'au')"
   ]
  },
  {
   "cell_type": "markdown",
   "metadata": {},
   "source": [
    "Видим, что концентрация золота (`au`) от этапа к этапу растет.\n",
    "\n",
    "Концентрация свинца (`pb`) уменьшается.\n",
    "\n",
    "Концентрация серебра (`ag`) после первичной очистки меньше, чем после флотации, но после вторичной очистки (финальная концентрация) ее значение увеличивается"
   ]
  },
  {
   "cell_type": "markdown",
   "metadata": {},
   "source": [
    "### Сравнение распределения размеров гранул сырья на обучающей и тестовой выборках"
   ]
  },
  {
   "cell_type": "markdown",
   "metadata": {},
   "source": [
    "Посмотрим, какие признаки содержат в себе размер гранул."
   ]
  },
  {
   "cell_type": "code",
   "execution_count": 92,
   "metadata": {},
   "outputs": [
    {
     "data": {
      "text/plain": [
       "['primary_cleaner.input.feed_size', 'rougher.input.feed_size']"
      ]
     },
     "execution_count": 92,
     "metadata": {},
     "output_type": "execute_result"
    }
   ],
   "source": [
    "[size_columns for size_columns in data_train.columns if 'size' in size_columns]"
   ]
  },
  {
   "cell_type": "markdown",
   "metadata": {},
   "source": [
    "Признаки с размером гранул появляются на этапе флотации и на этапе первичной очистки"
   ]
  },
  {
   "cell_type": "code",
   "execution_count": 93,
   "metadata": {},
   "outputs": [],
   "source": [
    "\"\"\"\n",
    "Вспомогательная функция для построения гистограммы\n",
    "получает на вход 2 датасета и исследуемый признак\n",
    "строит гистограмму\n",
    "\"\"\"\n",
    "def size_hist(data_train, data_test, feature):\n",
    "\n",
    "    fig, ax = plt.subplots(figsize=(10, 6))\n",
    "    alpha=0.75\n",
    "    bins=35\n",
    "    \n",
    "    ax.hist(data_train[feature], label='train', bins=bins, alpha=alpha)\n",
    "    ax.hist(data_test[feature], label='test', bins=bins, alpha=alpha)\n",
    "    ax.legend()\n",
    "    ax.grid(True)\n",
    "    ax.set_title('Гистограмма распределения размеров гранул сырья на обучающей и тестовой выборках');"
   ]
  },
  {
   "cell_type": "code",
   "execution_count": 94,
   "metadata": {},
   "outputs": [
    {
     "data": {
      "image/png": "[encoded data removed]",
      "text/plain": [
       "<Figure size 720x432 with 1 Axes>"
      ]
     },
     "metadata": {
      "needs_background": "light"
     },
     "output_type": "display_data"
    }
   ],
   "source": [
    "size_hist(data_train, data_test, 'primary_cleaner.input.feed_size')"
   ]
  },
  {
   "cell_type": "code",
   "execution_count": 95,
   "metadata": {},
   "outputs": [
    {
     "data": {
      "text/plain": [
       "count    14101.000000\n",
       "mean         7.323164\n",
       "std          0.614199\n",
       "min          1.080000\n",
       "25%          6.960000\n",
       "50%          7.293334\n",
       "75%          7.700000\n",
       "max         10.470000\n",
       "Name: primary_cleaner.input.feed_size, dtype: float64"
      ]
     },
     "execution_count": 95,
     "metadata": {},
     "output_type": "execute_result"
    }
   ],
   "source": [
    "data_train['primary_cleaner.input.feed_size'].describe()"
   ]
  },
  {
   "cell_type": "code",
   "execution_count": 96,
   "metadata": {},
   "outputs": [
    {
     "data": {
      "text/plain": [
       "count    5229.000000\n",
       "mean        7.271546\n",
       "std         0.605887\n",
       "min         5.650000\n",
       "25%         6.900000\n",
       "50%         7.250000\n",
       "75%         7.600000\n",
       "max        15.500000\n",
       "Name: primary_cleaner.input.feed_size, dtype: float64"
      ]
     },
     "execution_count": 96,
     "metadata": {},
     "output_type": "execute_result"
    }
   ],
   "source": [
    "data_test['primary_cleaner.input.feed_size'].describe()"
   ]
  },
  {
   "cell_type": "markdown",
   "metadata": {},
   "source": [
    "Признак `primary_cleaner.input.feed_size`:\n",
    "Видим по гистограмме, что распределения очень похожи. Средние и медианы у обоих распределений отличаются незначительно."
   ]
  },
  {
   "cell_type": "code",
   "execution_count": 97,
   "metadata": {},
   "outputs": [
    {
     "data": {
      "image/png": "[encoded data removed]",
      "text/plain": [
       "<Figure size 720x432 with 1 Axes>"
      ]
     },
     "metadata": {
      "needs_background": "light"
     },
     "output_type": "display_data"
    }
   ],
   "source": [
    "size_hist(data_train, data_test, 'rougher.input.feed_size')"
   ]
  },
  {
   "cell_type": "code",
   "execution_count": 98,
   "metadata": {},
   "outputs": [
    {
     "data": {
      "text/plain": [
       "count    14101.000000\n",
       "mean        60.090096\n",
       "std         22.318137\n",
       "min          9.659576\n",
       "25%         49.012879\n",
       "50%         55.373885\n",
       "75%         65.943741\n",
       "max        484.967466\n",
       "Name: rougher.input.feed_size, dtype: float64"
      ]
     },
     "execution_count": 98,
     "metadata": {},
     "output_type": "execute_result"
    }
   ],
   "source": [
    "data_train['rougher.input.feed_size'].describe()"
   ]
  },
  {
   "cell_type": "code",
   "execution_count": 99,
   "metadata": {},
   "outputs": [
    {
     "data": {
      "text/plain": [
       "count    5229.000000\n",
       "mean       55.863978\n",
       "std        18.914656\n",
       "min         0.046369\n",
       "25%        43.911874\n",
       "50%        50.772729\n",
       "75%        62.265394\n",
       "max       392.494040\n",
       "Name: rougher.input.feed_size, dtype: float64"
      ]
     },
     "execution_count": 99,
     "metadata": {},
     "output_type": "execute_result"
    }
   ],
   "source": [
    "data_test['rougher.input.feed_size'].describe()"
   ]
  },
  {
   "cell_type": "markdown",
   "metadata": {},
   "source": [
    "Аналогичные выводы можем сделать для признака `rougher.input.feed_size`:\n",
    "видим по гистограмме, что распределения очень похожи. Средние и медианы у обоих распределений отличаются незначительно."
   ]
  },
  {
   "cell_type": "markdown",
   "metadata": {},
   "source": [
    "### Исследование суммарной концентрации всех веществ на разных стадиях\n",
    "\n",
    "Исследуем суммарную концентрацию всех веществ на разных стадиях: в сырье, в черновом и финальном концентратах. \n",
    "\n",
    "- Концентрации веществ в сырье хранятся в столбцах с префиксом `rougher.input.feed_`\n",
    "- Концентрации веществ в черновом концентрате хранятся в столбцах с префиксом `rougher.output.concentrate_`\n",
    "- Концентрации веществ в финальном концентрате хранятся в столбцах с префиксом `final.output.concentrate_`"
   ]
  },
  {
   "cell_type": "code",
   "execution_count": 100,
   "metadata": {},
   "outputs": [
    {
     "data": {
      "text/plain": [
       "['final.output.concentrate_ag',\n",
       " 'final.output.concentrate_pb',\n",
       " 'final.output.concentrate_sol',\n",
       " 'final.output.concentrate_au',\n",
       " 'primary_cleaner.output.concentrate_ag',\n",
       " 'primary_cleaner.output.concentrate_pb',\n",
       " 'primary_cleaner.output.concentrate_sol',\n",
       " 'primary_cleaner.output.concentrate_au',\n",
       " 'rougher.calculation.sulfate_to_au_concentrate',\n",
       " 'rougher.output.concentrate_ag',\n",
       " 'rougher.output.concentrate_pb',\n",
       " 'rougher.output.concentrate_sol',\n",
       " 'rougher.output.concentrate_au']"
      ]
     },
     "execution_count": 100,
     "metadata": {},
     "output_type": "execute_result"
    }
   ],
   "source": [
    "[concentrate_columns for concentrate_columns in data_train.columns if 'concentrate' in concentrate_columns]"
   ]
  },
  {
   "cell_type": "code",
   "execution_count": 101,
   "metadata": {},
   "outputs": [],
   "source": [
    "\"\"\"\n",
    "Вспомогательная функция для вычисления суммарной концентрации всех веществ\n",
    "Аргумент: строка - стадия очистки\n",
    "\"\"\"\n",
    "def sum_concentrate(stage):\n",
    "    return (data_train[[stage+'_ag', \n",
    "                        stage+'_pb',\n",
    "                        stage+'_sol',\n",
    "                        stage+'_au']].sum(axis=1))"
   ]
  },
  {
   "cell_type": "code",
   "execution_count": 102,
   "metadata": {},
   "outputs": [],
   "source": [
    "data_train['final.output.concentrate'] = sum_concentrate('final.output.concentrate')\n",
    "data_train['rougher.output.concentrate'] = sum_concentrate('rougher.output.concentrate')\n",
    "data_train['rougher.input.feed'] = sum_concentrate('rougher.input.feed')"
   ]
  },
  {
   "cell_type": "code",
   "execution_count": 103,
   "metadata": {},
   "outputs": [
    {
     "data": {
      "image/png": "[encoded data removed]",
      "text/plain": [
       "<Figure size 720x432 with 1 Axes>"
      ]
     },
     "metadata": {
      "needs_background": "light"
     },
     "output_type": "display_data"
    }
   ],
   "source": [
    "fig, ax = plt.subplots(figsize=(10,6))\n",
    "alpha=0.75\n",
    "bins=35\n",
    "\n",
    "ax.hist(data_train['rougher.input.feed'], label='rougher.input', bins=bins, alpha=alpha)\n",
    "ax.hist(data_train['rougher.output.concentrate'], label='rougher.output', bins=bins, alpha=alpha)\n",
    "ax.hist(data_train['final.output.concentrate'], label='final.output', bins=bins, alpha=alpha)\n",
    "\n",
    "ax.legend()\n",
    "ax.grid(True)\n",
    "ax.set_title('Распределение суммарной концентрации веществ на разных стадиях');"
   ]
  },
  {
   "cell_type": "markdown",
   "metadata": {},
   "source": [
    "Видим, что на каждом из этапов есть аномальные значения концентраций, близкие к нулю. Посмотрим эти данные в диаграмме размаха"
   ]
  },
  {
   "cell_type": "code",
   "execution_count": 104,
   "metadata": {},
   "outputs": [
    {
     "data": {
      "image/png": "[encoded data removed]",
      "text/plain": [
       "<Figure size 1080x576 with 3 Axes>"
      ]
     },
     "metadata": {
      "needs_background": "light"
     },
     "output_type": "display_data"
    }
   ],
   "source": [
    "fig, ax = plt.subplots(nrows=1, ncols=3, figsize=(15,8))\n",
    "\n",
    "ax[0].boxplot(data_train['rougher.input.feed'])\n",
    "ax[0].set_title('rougher.input')\n",
    "ax[1].boxplot(data_train['rougher.output.concentrate'])\n",
    "ax[1].set_title('rougher.output')\n",
    "ax[2].boxplot(data_train['final.output.concentrate'])\n",
    "ax[2].set_title('final')\n",
    "\n",
    "fig.suptitle('Диаграммы размаха для суммарной концентрации веществ на разных стадиях');"
   ]
  },
  {
   "cell_type": "markdown",
   "metadata": {},
   "source": [
    "Удалим данные, сильно выходящие вниз за нижний \"ус\"."
   ]
  },
  {
   "cell_type": "code",
   "execution_count": 105,
   "metadata": {},
   "outputs": [
    {
     "data": {
      "text/plain": [
       "0.0035338186444271447"
      ]
     },
     "execution_count": 105,
     "metadata": {},
     "output_type": "execute_result"
    }
   ],
   "source": [
    "data_train = data_train[(data_train['final.output.concentrate'] > 15) |\\\n",
    "                        (data_train['rougher.output.concentrate'] > 15) |\\\n",
    "                        (data_train['rougher.input.feed'] > 15)]\n",
    "1 - data_train.shape[0]/original_size_train"
   ]
  },
  {
   "cell_type": "markdown",
   "metadata": {},
   "source": [
    "Удалили менее 0,3% выборки, это не критично для исследования"
   ]
  },
  {
   "cell_type": "markdown",
   "metadata": {},
   "source": [
    "## Модель\n",
    "### Подготовка признаков"
   ]
  },
  {
   "cell_type": "markdown",
   "metadata": {},
   "source": [
    "В предыдущем разделе мы увидели, что в тестовой выборке не хватает части признаков (эти параметры недоступны, потому что измеряются/рассчитываются значительно позже). Значит, мы не сможем использовать эти признаки в обучении модели. Удалим их из обучающей выборки. При этом оставим в обучающей выборке целевые признаки:\n",
    "- `rougher.output.recovery`\n",
    "- `final.output.recovery`"
   ]
  },
  {
   "cell_type": "code",
   "execution_count": 106,
   "metadata": {},
   "outputs": [
    {
     "data": {
      "text/plain": [
       "['final.output.concentrate_ag',\n",
       " 'final.output.concentrate_pb',\n",
       " 'final.output.concentrate_sol',\n",
       " 'final.output.concentrate_au',\n",
       " 'final.output.tail_ag',\n",
       " 'final.output.tail_pb',\n",
       " 'final.output.tail_sol',\n",
       " 'final.output.tail_au',\n",
       " 'primary_cleaner.output.concentrate_ag',\n",
       " 'primary_cleaner.output.concentrate_pb',\n",
       " 'primary_cleaner.output.concentrate_sol',\n",
       " 'primary_cleaner.output.concentrate_au',\n",
       " 'primary_cleaner.output.tail_ag',\n",
       " 'primary_cleaner.output.tail_pb',\n",
       " 'primary_cleaner.output.tail_sol',\n",
       " 'primary_cleaner.output.tail_au',\n",
       " 'rougher.calculation.sulfate_to_au_concentrate',\n",
       " 'rougher.calculation.floatbank10_sulfate_to_au_feed',\n",
       " 'rougher.calculation.floatbank11_sulfate_to_au_feed',\n",
       " 'rougher.calculation.au_pb_ratio',\n",
       " 'rougher.output.concentrate_ag',\n",
       " 'rougher.output.concentrate_pb',\n",
       " 'rougher.output.concentrate_sol',\n",
       " 'rougher.output.concentrate_au',\n",
       " 'rougher.output.tail_ag',\n",
       " 'rougher.output.tail_pb',\n",
       " 'rougher.output.tail_sol',\n",
       " 'rougher.output.tail_au',\n",
       " 'secondary_cleaner.output.tail_ag',\n",
       " 'secondary_cleaner.output.tail_pb',\n",
       " 'secondary_cleaner.output.tail_sol',\n",
       " 'secondary_cleaner.output.tail_au',\n",
       " 'final.output.concentrate',\n",
       " 'rougher.output.concentrate',\n",
       " 'rougher.input.feed']"
      ]
     },
     "execution_count": 106,
     "metadata": {},
     "output_type": "execute_result"
    }
   ],
   "source": [
    "missing_columns = [column for column in data_train if column not in data_test]\n",
    "targets = ['rougher.output.recovery', 'final.output.recovery']\n",
    "missing_columns = [column for column in missing_columns if column not in targets]\n",
    "missing_columns"
   ]
  },
  {
   "cell_type": "code",
   "execution_count": 107,
   "metadata": {},
   "outputs": [
    {
     "name": "stdout",
     "output_type": "stream",
     "text": [
      "<class 'pandas.core.frame.DataFrame'>\n",
      "Int64Index: 14099 entries, 0 to 14148\n",
      "Data columns (total 55 columns):\n",
      " #   Column                                      Non-Null Count  Dtype  \n",
      "---  ------                                      --------------  -----  \n",
      " 0   date                                        14099 non-null  object \n",
      " 1   final.output.recovery                       14099 non-null  float64\n",
      " 2   primary_cleaner.input.sulfate               14099 non-null  float64\n",
      " 3   primary_cleaner.input.depressant            14099 non-null  float64\n",
      " 4   primary_cleaner.input.feed_size             14099 non-null  float64\n",
      " 5   primary_cleaner.input.xanthate              14099 non-null  float64\n",
      " 6   primary_cleaner.state.floatbank8_a_air      14099 non-null  float64\n",
      " 7   primary_cleaner.state.floatbank8_a_level    14099 non-null  float64\n",
      " 8   primary_cleaner.state.floatbank8_b_air      14099 non-null  float64\n",
      " 9   primary_cleaner.state.floatbank8_b_level    14099 non-null  float64\n",
      " 10  primary_cleaner.state.floatbank8_c_air      14099 non-null  float64\n",
      " 11  primary_cleaner.state.floatbank8_c_level    14099 non-null  float64\n",
      " 12  primary_cleaner.state.floatbank8_d_air      14099 non-null  float64\n",
      " 13  primary_cleaner.state.floatbank8_d_level    14099 non-null  float64\n",
      " 14  rougher.input.feed_ag                       14099 non-null  float64\n",
      " 15  rougher.input.feed_pb                       14099 non-null  float64\n",
      " 16  rougher.input.feed_rate                     14099 non-null  float64\n",
      " 17  rougher.input.feed_size                     14099 non-null  float64\n",
      " 18  rougher.input.feed_sol                      14099 non-null  float64\n",
      " 19  rougher.input.feed_au                       14099 non-null  float64\n",
      " 20  rougher.input.floatbank10_sulfate           14099 non-null  float64\n",
      " 21  rougher.input.floatbank10_xanthate          14099 non-null  float64\n",
      " 22  rougher.input.floatbank11_sulfate           14099 non-null  float64\n",
      " 23  rougher.input.floatbank11_xanthate          14099 non-null  float64\n",
      " 24  rougher.output.recovery                     14099 non-null  float64\n",
      " 25  rougher.state.floatbank10_a_air             14099 non-null  float64\n",
      " 26  rougher.state.floatbank10_a_level           14099 non-null  float64\n",
      " 27  rougher.state.floatbank10_b_air             14099 non-null  float64\n",
      " 28  rougher.state.floatbank10_b_level           14099 non-null  float64\n",
      " 29  rougher.state.floatbank10_c_air             14099 non-null  float64\n",
      " 30  rougher.state.floatbank10_c_level           14099 non-null  float64\n",
      " 31  rougher.state.floatbank10_d_air             14099 non-null  float64\n",
      " 32  rougher.state.floatbank10_d_level           14099 non-null  float64\n",
      " 33  rougher.state.floatbank10_e_air             14099 non-null  float64\n",
      " 34  rougher.state.floatbank10_e_level           14099 non-null  float64\n",
      " 35  rougher.state.floatbank10_f_air             14099 non-null  float64\n",
      " 36  rougher.state.floatbank10_f_level           14099 non-null  float64\n",
      " 37  secondary_cleaner.state.floatbank2_a_air    14099 non-null  float64\n",
      " 38  secondary_cleaner.state.floatbank2_a_level  14099 non-null  float64\n",
      " 39  secondary_cleaner.state.floatbank2_b_air    14099 non-null  float64\n",
      " 40  secondary_cleaner.state.floatbank2_b_level  14099 non-null  float64\n",
      " 41  secondary_cleaner.state.floatbank3_a_air    14099 non-null  float64\n",
      " 42  secondary_cleaner.state.floatbank3_a_level  14099 non-null  float64\n",
      " 43  secondary_cleaner.state.floatbank3_b_air    14099 non-null  float64\n",
      " 44  secondary_cleaner.state.floatbank3_b_level  14099 non-null  float64\n",
      " 45  secondary_cleaner.state.floatbank4_a_air    14099 non-null  float64\n",
      " 46  secondary_cleaner.state.floatbank4_a_level  14099 non-null  float64\n",
      " 47  secondary_cleaner.state.floatbank4_b_air    14099 non-null  float64\n",
      " 48  secondary_cleaner.state.floatbank4_b_level  14099 non-null  float64\n",
      " 49  secondary_cleaner.state.floatbank5_a_air    14099 non-null  float64\n",
      " 50  secondary_cleaner.state.floatbank5_a_level  14099 non-null  float64\n",
      " 51  secondary_cleaner.state.floatbank5_b_air    14099 non-null  float64\n",
      " 52  secondary_cleaner.state.floatbank5_b_level  14099 non-null  float64\n",
      " 53  secondary_cleaner.state.floatbank6_a_air    14099 non-null  float64\n",
      " 54  secondary_cleaner.state.floatbank6_a_level  14099 non-null  float64\n",
      "dtypes: float64(54), object(1)\n",
      "memory usage: 6.0+ MB\n"
     ]
    }
   ],
   "source": [
    "data_train = data_train.drop(missing_columns, axis=1)\n",
    "data_train.info()"
   ]
  },
  {
   "cell_type": "markdown",
   "metadata": {},
   "source": [
    "В тестовую выборку `data_test` добавим из общей выборки `data_full` столбцы с целевыми признаками"
   ]
  },
  {
   "cell_type": "code",
   "execution_count": 108,
   "metadata": {},
   "outputs": [
    {
     "name": "stdout",
     "output_type": "stream",
     "text": [
      "<class 'pandas.core.frame.DataFrame'>\n",
      "Int64Index: 5229 entries, 0 to 5228\n",
      "Data columns (total 55 columns):\n",
      " #   Column                                      Non-Null Count  Dtype  \n",
      "---  ------                                      --------------  -----  \n",
      " 0   date                                        5229 non-null   object \n",
      " 1   primary_cleaner.input.sulfate               5229 non-null   float64\n",
      " 2   primary_cleaner.input.depressant            5229 non-null   float64\n",
      " 3   primary_cleaner.input.feed_size             5229 non-null   float64\n",
      " 4   primary_cleaner.input.xanthate              5229 non-null   float64\n",
      " 5   primary_cleaner.state.floatbank8_a_air      5229 non-null   float64\n",
      " 6   primary_cleaner.state.floatbank8_a_level    5229 non-null   float64\n",
      " 7   primary_cleaner.state.floatbank8_b_air      5229 non-null   float64\n",
      " 8   primary_cleaner.state.floatbank8_b_level    5229 non-null   float64\n",
      " 9   primary_cleaner.state.floatbank8_c_air      5229 non-null   float64\n",
      " 10  primary_cleaner.state.floatbank8_c_level    5229 non-null   float64\n",
      " 11  primary_cleaner.state.floatbank8_d_air      5229 non-null   float64\n",
      " 12  primary_cleaner.state.floatbank8_d_level    5229 non-null   float64\n",
      " 13  rougher.input.feed_ag                       5229 non-null   float64\n",
      " 14  rougher.input.feed_pb                       5229 non-null   float64\n",
      " 15  rougher.input.feed_rate                     5229 non-null   float64\n",
      " 16  rougher.input.feed_size                     5229 non-null   float64\n",
      " 17  rougher.input.feed_sol                      5229 non-null   float64\n",
      " 18  rougher.input.feed_au                       5229 non-null   float64\n",
      " 19  rougher.input.floatbank10_sulfate           5229 non-null   float64\n",
      " 20  rougher.input.floatbank10_xanthate          5229 non-null   float64\n",
      " 21  rougher.input.floatbank11_sulfate           5229 non-null   float64\n",
      " 22  rougher.input.floatbank11_xanthate          5229 non-null   float64\n",
      " 23  rougher.state.floatbank10_a_air             5229 non-null   float64\n",
      " 24  rougher.state.floatbank10_a_level           5229 non-null   float64\n",
      " 25  rougher.state.floatbank10_b_air             5229 non-null   float64\n",
      " 26  rougher.state.floatbank10_b_level           5229 non-null   float64\n",
      " 27  rougher.state.floatbank10_c_air             5229 non-null   float64\n",
      " 28  rougher.state.floatbank10_c_level           5229 non-null   float64\n",
      " 29  rougher.state.floatbank10_d_air             5229 non-null   float64\n",
      " 30  rougher.state.floatbank10_d_level           5229 non-null   float64\n",
      " 31  rougher.state.floatbank10_e_air             5229 non-null   float64\n",
      " 32  rougher.state.floatbank10_e_level           5229 non-null   float64\n",
      " 33  rougher.state.floatbank10_f_air             5229 non-null   float64\n",
      " 34  rougher.state.floatbank10_f_level           5229 non-null   float64\n",
      " 35  secondary_cleaner.state.floatbank2_a_air    5229 non-null   float64\n",
      " 36  secondary_cleaner.state.floatbank2_a_level  5229 non-null   float64\n",
      " 37  secondary_cleaner.state.floatbank2_b_air    5229 non-null   float64\n",
      " 38  secondary_cleaner.state.floatbank2_b_level  5229 non-null   float64\n",
      " 39  secondary_cleaner.state.floatbank3_a_air    5229 non-null   float64\n",
      " 40  secondary_cleaner.state.floatbank3_a_level  5229 non-null   float64\n",
      " 41  secondary_cleaner.state.floatbank3_b_air    5229 non-null   float64\n",
      " 42  secondary_cleaner.state.floatbank3_b_level  5229 non-null   float64\n",
      " 43  secondary_cleaner.state.floatbank4_a_air    5229 non-null   float64\n",
      " 44  secondary_cleaner.state.floatbank4_a_level  5229 non-null   float64\n",
      " 45  secondary_cleaner.state.floatbank4_b_air    5229 non-null   float64\n",
      " 46  secondary_cleaner.state.floatbank4_b_level  5229 non-null   float64\n",
      " 47  secondary_cleaner.state.floatbank5_a_air    5229 non-null   float64\n",
      " 48  secondary_cleaner.state.floatbank5_a_level  5229 non-null   float64\n",
      " 49  secondary_cleaner.state.floatbank5_b_air    5229 non-null   float64\n",
      " 50  secondary_cleaner.state.floatbank5_b_level  5229 non-null   float64\n",
      " 51  secondary_cleaner.state.floatbank6_a_air    5229 non-null   float64\n",
      " 52  secondary_cleaner.state.floatbank6_a_level  5229 non-null   float64\n",
      " 53  rougher.output.recovery                     5229 non-null   float64\n",
      " 54  final.output.recovery                       5229 non-null   float64\n",
      "dtypes: float64(54), object(1)\n",
      "memory usage: 2.2+ MB\n"
     ]
    }
   ],
   "source": [
    "data_test = data_test.merge(data_full[['rougher.output.recovery', 'final.output.recovery', 'date']], how='left', on='date')\n",
    "data_test.info()"
   ]
  },
  {
   "cell_type": "code",
   "execution_count": 109,
   "metadata": {},
   "outputs": [],
   "source": [
    "# формируем признаки и таргеты\n",
    "features_train = data_train.drop(['date', 'rougher.output.recovery', 'final.output.recovery'], axis=1)\n",
    "target_train_rougher = data_train['rougher.output.recovery'] \n",
    "target_train_final = data_train['final.output.recovery']\n",
    "    \n",
    "features_test = data_test.drop(['date', 'rougher.output.recovery', 'final.output.recovery'], axis=1)\n",
    "target_test_rougher = data_test['rougher.output.recovery'] \n",
    "target_test_final = data_test['final.output.recovery']\n",
    "\n",
    "target_train_rougher = target_train_rougher.to_numpy()\n",
    "target_test_final = target_test_final.to_numpy()\n",
    "target_train_final = target_train_final.to_numpy()\n",
    "target_test_rougher = target_test_rougher.to_numpy()"
   ]
  },
  {
   "cell_type": "markdown",
   "metadata": {},
   "source": [
    "### Функция для расчета sMAPE\n",
    "\n",
    "В проекте будем использовать следующую метрику качества — sMAPE (англ. Symmetric Mean Absolute Percentage Error, «симметричное среднее абсолютное процентное отклонение»).\n",
    "Она одинаково учитывает масштаб и целевого признака, и предсказания."
   ]
  },
  {
   "cell_type": "code",
   "execution_count": 110,
   "metadata": {},
   "outputs": [],
   "source": [
    "\"\"\"\n",
    "Функция для расчета оценки sMAPE\n",
    "на вход получает истинные значения признака и предсказанные\n",
    "возвращает sMAPE\n",
    "\"\"\"\n",
    "def smape_calc(target, predict):\n",
    "    smape = (1/len(target))*sum((abs(target - predict))/( (abs(target) + abs(predict))/2)) * 100\n",
    "    return smape"
   ]
  },
  {
   "cell_type": "markdown",
   "metadata": {},
   "source": [
    "### Модель \"Случайный лес\"\n",
    "\n",
    "Обучаем модель случайного леса с помощью кросс-валидации из алгоритма `GridSearchCV`:\n",
    "- количество фолдов = 5\n",
    "- в качестве оценки будем использовать sMAPE (функция для ее расчета написана выше)"
   ]
  },
  {
   "cell_type": "code",
   "execution_count": 111,
   "metadata": {},
   "outputs": [],
   "source": [
    "\"\"\"\n",
    "функция обучения модели случайного леса\n",
    "на вход получает признаки и целевой признак\n",
    "вовзвращает обученную модель и метрику sMAPE\n",
    "\"\"\"\n",
    "def random_forest(features, target):\n",
    "    model_rf = RandomForestRegressor(random_state=12345)\n",
    "\n",
    "    parameters = {'n_estimators': range (110, 121, 10),\n",
    "                  'max_depth': range (4 , 6, 1),\n",
    "                  'min_samples_split': [2] }\n",
    "\n",
    "    grid_rf = GridSearchCV(model_rf,\n",
    "                           parameters, \n",
    "                           cv=5,\n",
    "                           scoring=make_scorer(smape_calc, greater_is_better=False))\n",
    "    grid_rf.fit(features, target)\n",
    "    \n",
    "    return grid_rf.best_estimator_, grid_rf.best_params_, abs(grid_rf.best_score_) "
   ]
  },
  {
   "cell_type": "code",
   "execution_count": 112,
   "metadata": {},
   "outputs": [
    {
     "name": "stdout",
     "output_type": "stream",
     "text": [
      "Parameters: {'max_depth': 5, 'min_samples_split': 2, 'n_estimators': 110},\n",
      "SMAPE = 10.9766391364524\n",
      "CPU times: total: 6min 14s\n",
      "Wall time: 8min 37s\n"
     ]
    }
   ],
   "source": [
    "%%time\n",
    "# первый признак target_train_rougher, случайный лес\n",
    "model_rf_rougher, best_params_rf_rougher, smape_rf_rougher = random_forest(features_train, target_train_rougher)\n",
    "print(f'Parameters: {best_params_rf_rougher},\\nSMAPE = {smape_rf_rougher}')"
   ]
  },
  {
   "cell_type": "markdown",
   "metadata": {},
   "source": [
    "Мы нашли лучшие параметры для модели случайного леса с помощью алгоритма Grid Search CV. \n",
    "\n",
    "Сохраним их: \n",
    "- Parameters: {'max_depth': 5, 'min_samples_split': 2, 'n_estimators': 110},\n",
    "- SMAPE = 10.9766391364524\n",
    "\n",
    "Закомментируем код со словарем параметров, чтобы при следующем запуске не пришлось очень долго ждать.\n",
    "\n",
    "Обучим еще раз лучшую модель на всей обучающей выборке и вычислим sMAPE."
   ]
  },
  {
   "cell_type": "code",
   "execution_count": 113,
   "metadata": {},
   "outputs": [
    {
     "name": "stdout",
     "output_type": "stream",
     "text": [
      "CPU times: total: 27.7 s\n",
      "Wall time: 28.1 s\n"
     ]
    },
    {
     "data": {
      "text/plain": [
       "9.72664953172472"
      ]
     },
     "execution_count": 113,
     "metadata": {},
     "output_type": "execute_result"
    }
   ],
   "source": [
    "%%time\n",
    "model_rf_rougher.fit(features_train, target_train_rougher)\n",
    "predictions_rf_train_rougher = model_rf_rougher.predict(features_train)\n",
    "smape_calc(predictions_rf_train_rougher, target_train_rougher)"
   ]
  },
  {
   "cell_type": "code",
   "execution_count": 114,
   "metadata": {},
   "outputs": [
    {
     "name": "stdout",
     "output_type": "stream",
     "text": [
      "Parameters: {'max_depth': 4, 'min_samples_split': 2, 'n_estimators': 120},\n",
      "SMAPE = 10.102983872540358\n",
      "CPU times: total: 7min 15s\n",
      "Wall time: 7min 17s\n"
     ]
    },
    {
     "data": {
      "text/plain": [
       "RandomForestRegressor(max_depth=4, n_estimators=120, random_state=12345)"
      ]
     },
     "execution_count": 114,
     "metadata": {},
     "output_type": "execute_result"
    }
   ],
   "source": [
    "%%time\n",
    "# второй признак target_train_final, случайный лес\n",
    "model_rf_final, best_params_rf_final, smape_rf_final = random_forest(features_train, target_train_final)\n",
    "print(f'Parameters: {best_params_rf_final},\\nSMAPE = {smape_rf_final}')\n",
    "model_rf_final"
   ]
  },
  {
   "cell_type": "markdown",
   "metadata": {},
   "source": [
    "Для 2-го признака\n",
    "\n",
    "- Parameters: {'max_depth': 4, 'min_samples_split': 2, 'n_estimators': 120},\n",
    "- SMAPE = 10.102983872540358\n",
    "\n",
    "Обучим еще раз лучшую модель на всей обучающей выборке и вычислим sMAPE."
   ]
  },
  {
   "cell_type": "code",
   "execution_count": 115,
   "metadata": {},
   "outputs": [
    {
     "name": "stdout",
     "output_type": "stream",
     "text": [
      "CPU times: total: 24.8 s\n",
      "Wall time: 24.9 s\n"
     ]
    },
    {
     "data": {
      "text/plain": [
       "8.630285045722196"
      ]
     },
     "execution_count": 115,
     "metadata": {},
     "output_type": "execute_result"
    }
   ],
   "source": [
    "%%time\n",
    "model_rf_final.fit(features_train, target_train_final)\n",
    "predictions_rf_train_final = model_rf_final.predict(features_train)\n",
    "smape_calc(predictions_rf_train_final, target_train_final)"
   ]
  },
  {
   "cell_type": "markdown",
   "metadata": {},
   "source": [
    "### Модель \"Линейная регрессия\"\n",
    "\n",
    "Обучим модель линейной регрессии, используя алгоритм кросс-валидации"
   ]
  },
  {
   "cell_type": "code",
   "execution_count": 116,
   "metadata": {},
   "outputs": [],
   "source": [
    "\"\"\"\n",
    "функция обучения модели линейной регрессии\n",
    "на вход получает признаки и целевой признак\n",
    "вовзвращает обученныую модель и метрику sMAPE\n",
    "\"\"\"\n",
    "def linear_regression(features, target):\n",
    "    model_lr = LinearRegression()\n",
    "\n",
    "    scores = cross_val_score(model_lr, \n",
    "                             features, \n",
    "                             target, \n",
    "                             cv=5, \n",
    "                             scoring=make_scorer(smape_calc))    \n",
    "    return model_lr, abs(scores.mean())"
   ]
  },
  {
   "cell_type": "code",
   "execution_count": 117,
   "metadata": {},
   "outputs": [
    {
     "name": "stdout",
     "output_type": "stream",
     "text": [
      "SMAPE = 12.609590642193611\n",
      "CPU times: total: 750 ms\n",
      "Wall time: 191 ms\n"
     ]
    }
   ],
   "source": [
    "%%time\n",
    "# первый целевой признак\n",
    "model_lr_rougher, smape_lr_rougher = linear_regression(features_train, target_train_rougher)\n",
    "\n",
    "print(f'SMAPE = {smape_lr_rougher}')"
   ]
  },
  {
   "cell_type": "code",
   "execution_count": 118,
   "metadata": {},
   "outputs": [
    {
     "name": "stdout",
     "output_type": "stream",
     "text": [
      "SMAPE = 12.405881449447781\n",
      "CPU times: total: 578 ms\n",
      "Wall time: 100 ms\n"
     ]
    }
   ],
   "source": [
    "%%time\n",
    "# второй целевой признак\n",
    "model_lr_final, smape_lr_final = linear_regression(features_train, target_train_final)\n",
    "print(f'SMAPE = {smape_lr_final}')"
   ]
  },
  {
   "cell_type": "markdown",
   "metadata": {},
   "source": [
    "Видим, что значения sMAPE для линейной регрессии получились хуже, чем для модели случайного леса"
   ]
  },
  {
   "cell_type": "markdown",
   "metadata": {},
   "source": [
    "### Проверка модели на тестовой выборке\n",
    "\n",
    "Проверим лучшие модели (случайный лес) на тестовой выборке"
   ]
  },
  {
   "cell_type": "code",
   "execution_count": 119,
   "metadata": {},
   "outputs": [
    {
     "data": {
      "text/plain": [
       "10.120515013373096"
      ]
     },
     "execution_count": 119,
     "metadata": {},
     "output_type": "execute_result"
    }
   ],
   "source": [
    "predictions_test_rougher = model_rf_rougher.predict(features_test)\n",
    "smape_rougher = smape_calc(predictions_test_rougher, target_test_rougher)\n",
    "smape_rougher"
   ]
  },
  {
   "cell_type": "code",
   "execution_count": 120,
   "metadata": {},
   "outputs": [
    {
     "data": {
      "text/plain": [
       "8.883455170705625"
      ]
     },
     "execution_count": 120,
     "metadata": {},
     "output_type": "execute_result"
    }
   ],
   "source": [
    "predictions_test_final = model_rf_final.predict(features_test)\n",
    "smape_final = smape_calc(predictions_test_final, target_test_final)\n",
    "smape_final"
   ]
  },
  {
   "cell_type": "code",
   "execution_count": 121,
   "metadata": {},
   "outputs": [
    {
     "name": "stdout",
     "output_type": "stream",
     "text": [
      "Итоговая метрика качества sMAPE = 9.192720131372493\n"
     ]
    }
   ],
   "source": [
    "smape = 0.25 * smape_rougher + 0.75 * smape_final\n",
    "print(f'Итоговая метрика качества sMAPE = {smape}')"
   ]
  },
  {
   "cell_type": "markdown",
   "metadata": {},
   "source": [
    "Сравним полученное значение с предсказанием константной модели."
   ]
  },
  {
   "cell_type": "code",
   "execution_count": 122,
   "metadata": {},
   "outputs": [
    {
     "data": {
      "text/plain": [
       "10.26446977294864"
      ]
     },
     "execution_count": 122,
     "metadata": {},
     "output_type": "execute_result"
    }
   ],
   "source": [
    "dummy_regr = DummyRegressor(strategy='mean')\n",
    "dummy_regr.fit(features_train, target_train_rougher)\n",
    "predictions_dummy_regr_rougher = dummy_regr.predict(features_test)\n",
    "smape_dummy_regr_rougher = smape_calc(predictions_dummy_regr_rougher, target_test_rougher)\n",
    "smape_dummy_regr_rougher"
   ]
  },
  {
   "cell_type": "code",
   "execution_count": 123,
   "metadata": {},
   "outputs": [
    {
     "data": {
      "text/plain": [
       "9.730344715169496"
      ]
     },
     "execution_count": 123,
     "metadata": {},
     "output_type": "execute_result"
    }
   ],
   "source": [
    "dummy_regr.fit(features_train, target_train_final)\n",
    "predictions_dummy_regr_final = dummy_regr.predict(features_test)\n",
    "smape_dummy_regr_final = smape_calc(predictions_dummy_regr_final, target_test_final)\n",
    "smape_dummy_regr_final"
   ]
  },
  {
   "cell_type": "code",
   "execution_count": 124,
   "metadata": {},
   "outputs": [
    {
     "name": "stdout",
     "output_type": "stream",
     "text": [
      "Итоговая метрика качества в dummy regressor sMAPE = 9.863875979614281\n"
     ]
    }
   ],
   "source": [
    "smape = 0.25 * smape_dummy_regr_rougher + 0.75 * smape_dummy_regr_final\n",
    "print(f'Итоговая метрика качества в dummy regressor sMAPE = {smape}')"
   ]
  },
  {
   "cell_type": "markdown",
   "metadata": {},
   "source": [
    "## Выводы\n",
    "\n",
    "В проекте проведено исследование данных о восстановлении золота из золотосодержащей руды. Предсказаны эффективность обогащения чернового концентрата и эффективность обогащения финального концентрата.\n",
    "\n",
    "- Исследованы распределения данных\n",
    "- Проведена предобработка данных: обработаны пропуски, проверено наличие дубликатов, удалены аномалии\n",
    "- Для обоих целевых признаков обучены две модели: случайный лес и линейная регрессия. \n",
    "- Использованы алгоритмы кросс-валидации и GridSearchCV\n",
    "- Посчитаны необходимые метрики качества для обоих целевых признаков - sMAPE (англ. Symmetric Mean Absolute Percentage Error, «симметричное среднее абсолютное процентное отклонение»).\n",
    "- Выявлена модель с наилучшим показателем sMape.\n"
   ]
  }
 ],
 "metadata": {
  "ExecuteTimeLog": [
   {
    "duration": 415,
    "start_time": "2022-10-05T15:08:39.364Z"
   },
   {
    "duration": 104,
    "start_time": "2022-10-05T15:28:42.279Z"
   },
   {
    "duration": 53,
    "start_time": "2022-10-05T15:28:47.442Z"
   },
   {
    "duration": 1761,
    "start_time": "2022-10-05T15:31:45.479Z"
   },
   {
    "duration": 17,
    "start_time": "2022-10-05T15:32:01.758Z"
   },
   {
    "duration": 24,
    "start_time": "2022-10-05T15:32:30.891Z"
   },
   {
    "duration": 63,
    "start_time": "2022-10-06T09:17:09.665Z"
   },
   {
    "duration": 428,
    "start_time": "2022-10-06T09:17:14.584Z"
   },
   {
    "duration": 3306,
    "start_time": "2022-10-06T09:17:15.725Z"
   },
   {
    "duration": 17,
    "start_time": "2022-10-06T09:17:19.078Z"
   },
   {
    "duration": 40,
    "start_time": "2022-10-06T09:17:22.393Z"
   },
   {
    "duration": 14,
    "start_time": "2022-10-06T09:17:24.785Z"
   },
   {
    "duration": 31,
    "start_time": "2022-10-06T09:17:56.886Z"
   },
   {
    "duration": 16,
    "start_time": "2022-10-06T09:19:21.042Z"
   },
   {
    "duration": 21,
    "start_time": "2022-10-06T09:19:38.436Z"
   },
   {
    "duration": 4,
    "start_time": "2022-10-06T09:24:37.038Z"
   },
   {
    "duration": 4,
    "start_time": "2022-10-06T09:25:40.563Z"
   },
   {
    "duration": 4,
    "start_time": "2022-10-06T09:25:45.756Z"
   },
   {
    "duration": 7,
    "start_time": "2022-10-06T09:40:25.322Z"
   },
   {
    "duration": 31,
    "start_time": "2022-10-06T09:41:26.982Z"
   },
   {
    "duration": 73,
    "start_time": "2022-10-06T10:24:14.995Z"
   },
   {
    "duration": 135,
    "start_time": "2022-10-06T10:24:50.502Z"
   },
   {
    "duration": 67,
    "start_time": "2022-10-06T10:26:26.572Z"
   },
   {
    "duration": 8,
    "start_time": "2022-10-06T10:27:04.233Z"
   },
   {
    "duration": 10,
    "start_time": "2022-10-06T10:27:11.627Z"
   },
   {
    "duration": 5,
    "start_time": "2022-10-06T10:27:19.523Z"
   },
   {
    "duration": 10,
    "start_time": "2022-10-06T10:29:18.337Z"
   },
   {
    "duration": 5,
    "start_time": "2022-10-06T10:30:30.087Z"
   },
   {
    "duration": 45,
    "start_time": "2022-10-07T17:50:35.359Z"
   },
   {
    "duration": 1204,
    "start_time": "2022-10-07T17:50:39.401Z"
   },
   {
    "duration": 2963,
    "start_time": "2022-10-07T17:50:40.607Z"
   },
   {
    "duration": 27,
    "start_time": "2022-10-07T17:50:43.572Z"
   },
   {
    "duration": 26,
    "start_time": "2022-10-07T17:50:43.601Z"
   },
   {
    "duration": 12,
    "start_time": "2022-10-07T17:50:43.630Z"
   },
   {
    "duration": 22,
    "start_time": "2022-10-07T17:50:43.643Z"
   },
   {
    "duration": 22,
    "start_time": "2022-10-07T17:50:43.667Z"
   },
   {
    "duration": 45,
    "start_time": "2022-10-07T17:50:43.691Z"
   },
   {
    "duration": 13,
    "start_time": "2022-10-07T17:50:43.738Z"
   },
   {
    "duration": 6,
    "start_time": "2022-10-07T17:50:43.753Z"
   },
   {
    "duration": 17,
    "start_time": "2022-10-07T17:50:43.760Z"
   },
   {
    "duration": 21,
    "start_time": "2022-10-07T17:50:43.779Z"
   },
   {
    "duration": 10,
    "start_time": "2022-10-07T17:51:07.379Z"
   },
   {
    "duration": 66,
    "start_time": "2022-10-07T17:51:33.605Z"
   },
   {
    "duration": 48,
    "start_time": "2022-10-07T17:51:38.791Z"
   },
   {
    "duration": 29,
    "start_time": "2022-10-07T17:51:57.232Z"
   },
   {
    "duration": 19,
    "start_time": "2022-10-07T17:52:22.361Z"
   },
   {
    "duration": 15,
    "start_time": "2022-10-07T17:53:11.113Z"
   },
   {
    "duration": 12,
    "start_time": "2022-10-07T17:53:58.733Z"
   },
   {
    "duration": 13,
    "start_time": "2022-10-07T17:54:04.133Z"
   },
   {
    "duration": 12,
    "start_time": "2022-10-07T17:54:30.153Z"
   },
   {
    "duration": 9,
    "start_time": "2022-10-07T17:55:04.964Z"
   },
   {
    "duration": 13,
    "start_time": "2022-10-07T17:56:17.135Z"
   },
   {
    "duration": 11,
    "start_time": "2022-10-07T17:56:34.784Z"
   },
   {
    "duration": 12,
    "start_time": "2022-10-07T17:56:40.746Z"
   },
   {
    "duration": 21,
    "start_time": "2022-10-07T17:56:46.314Z"
   },
   {
    "duration": 9,
    "start_time": "2022-10-07T17:56:50.870Z"
   },
   {
    "duration": 13,
    "start_time": "2022-10-07T17:57:09.420Z"
   },
   {
    "duration": 9,
    "start_time": "2022-10-07T17:57:14.889Z"
   },
   {
    "duration": 13,
    "start_time": "2022-10-07T17:57:21.830Z"
   },
   {
    "duration": 9,
    "start_time": "2022-10-07T17:57:27.865Z"
   },
   {
    "duration": 9,
    "start_time": "2022-10-07T17:57:32.858Z"
   },
   {
    "duration": 9,
    "start_time": "2022-10-07T17:57:35.896Z"
   },
   {
    "duration": 10,
    "start_time": "2022-10-07T17:57:39.358Z"
   },
   {
    "duration": 11,
    "start_time": "2022-10-07T18:00:13.761Z"
   },
   {
    "duration": 9,
    "start_time": "2022-10-07T18:00:22.385Z"
   },
   {
    "duration": 12,
    "start_time": "2022-10-07T18:00:27.129Z"
   },
   {
    "duration": 11,
    "start_time": "2022-10-07T18:00:35.932Z"
   },
   {
    "duration": 47,
    "start_time": "2022-10-08T15:19:30.537Z"
   },
   {
    "duration": 994,
    "start_time": "2022-10-08T15:19:34.939Z"
   },
   {
    "duration": 3017,
    "start_time": "2022-10-08T15:19:35.934Z"
   },
   {
    "duration": 16,
    "start_time": "2022-10-08T15:19:38.953Z"
   },
   {
    "duration": 24,
    "start_time": "2022-10-08T15:19:38.971Z"
   },
   {
    "duration": 13,
    "start_time": "2022-10-08T15:19:38.996Z"
   },
   {
    "duration": 19,
    "start_time": "2022-10-08T15:19:39.010Z"
   },
   {
    "duration": 18,
    "start_time": "2022-10-08T15:19:39.030Z"
   },
   {
    "duration": 18,
    "start_time": "2022-10-08T15:19:39.049Z"
   },
   {
    "duration": 33,
    "start_time": "2022-10-08T15:19:39.068Z"
   },
   {
    "duration": 5,
    "start_time": "2022-10-08T15:19:39.103Z"
   },
   {
    "duration": 7,
    "start_time": "2022-10-08T15:19:39.110Z"
   },
   {
    "duration": 5,
    "start_time": "2022-10-08T15:20:22.057Z"
   },
   {
    "duration": 59,
    "start_time": "2022-10-08T16:05:08.855Z"
   },
   {
    "duration": 4,
    "start_time": "2022-10-08T16:06:54.756Z"
   },
   {
    "duration": 4,
    "start_time": "2022-10-08T16:07:46.866Z"
   },
   {
    "duration": 17,
    "start_time": "2022-10-08T16:08:00.210Z"
   },
   {
    "duration": 5,
    "start_time": "2022-10-08T16:12:19.024Z"
   },
   {
    "duration": 2,
    "start_time": "2022-10-08T16:12:25.945Z"
   },
   {
    "duration": 610,
    "start_time": "2022-10-08T16:12:25.950Z"
   },
   {
    "duration": 15,
    "start_time": "2022-10-08T16:12:26.562Z"
   },
   {
    "duration": 24,
    "start_time": "2022-10-08T16:12:26.578Z"
   },
   {
    "duration": 13,
    "start_time": "2022-10-08T16:12:26.604Z"
   },
   {
    "duration": 18,
    "start_time": "2022-10-08T16:12:26.619Z"
   },
   {
    "duration": 14,
    "start_time": "2022-10-08T16:12:26.639Z"
   },
   {
    "duration": 19,
    "start_time": "2022-10-08T16:12:26.654Z"
   },
   {
    "duration": 8,
    "start_time": "2022-10-08T16:12:26.700Z"
   },
   {
    "duration": 6,
    "start_time": "2022-10-08T16:12:26.709Z"
   },
   {
    "duration": 5,
    "start_time": "2022-10-08T16:12:26.718Z"
   },
   {
    "duration": 5,
    "start_time": "2022-10-08T16:14:57.161Z"
   },
   {
    "duration": 5,
    "start_time": "2022-10-08T16:15:24.723Z"
   },
   {
    "duration": 1018,
    "start_time": "2022-10-09T10:35:44.843Z"
   },
   {
    "duration": 2825,
    "start_time": "2022-10-09T10:35:48.211Z"
   },
   {
    "duration": 17,
    "start_time": "2022-10-09T10:35:55.823Z"
   },
   {
    "duration": 24,
    "start_time": "2022-10-09T10:35:59.839Z"
   },
   {
    "duration": 12,
    "start_time": "2022-10-09T10:36:02.163Z"
   },
   {
    "duration": 17,
    "start_time": "2022-10-09T10:36:57.444Z"
   },
   {
    "duration": 10,
    "start_time": "2022-10-09T10:36:59.300Z"
   },
   {
    "duration": 20,
    "start_time": "2022-10-09T10:37:28.651Z"
   },
   {
    "duration": 15,
    "start_time": "2022-10-09T10:37:30.364Z"
   },
   {
    "duration": 20,
    "start_time": "2022-10-09T10:37:33.999Z"
   },
   {
    "duration": 8,
    "start_time": "2022-10-09T10:37:36.927Z"
   },
   {
    "duration": 5,
    "start_time": "2022-10-09T10:37:41.693Z"
   },
   {
    "duration": 4,
    "start_time": "2022-10-09T10:38:13.646Z"
   },
   {
    "duration": 5,
    "start_time": "2022-10-09T10:38:28.092Z"
   },
   {
    "duration": 6,
    "start_time": "2022-10-09T10:38:29.552Z"
   },
   {
    "duration": 5,
    "start_time": "2022-10-09T10:40:42.933Z"
   },
   {
    "duration": 16,
    "start_time": "2022-10-09T10:40:56.712Z"
   },
   {
    "duration": 93,
    "start_time": "2022-10-09T11:01:01.609Z"
   },
   {
    "duration": 741,
    "start_time": "2022-10-09T11:01:32.777Z"
   },
   {
    "duration": 16,
    "start_time": "2022-10-09T11:02:02.324Z"
   },
   {
    "duration": 28,
    "start_time": "2022-10-09T11:02:12.256Z"
   },
   {
    "duration": 893,
    "start_time": "2022-10-09T11:03:59.548Z"
   },
   {
    "duration": 777,
    "start_time": "2022-10-09T11:04:33.876Z"
   },
   {
    "duration": 27,
    "start_time": "2022-10-09T11:04:49.591Z"
   },
   {
    "duration": 2,
    "start_time": "2022-10-09T11:05:57.657Z"
   },
   {
    "duration": 587,
    "start_time": "2022-10-09T11:05:57.661Z"
   },
   {
    "duration": 15,
    "start_time": "2022-10-09T11:05:58.249Z"
   },
   {
    "duration": 19,
    "start_time": "2022-10-09T11:05:58.265Z"
   },
   {
    "duration": 13,
    "start_time": "2022-10-09T11:05:58.299Z"
   },
   {
    "duration": 19,
    "start_time": "2022-10-09T11:05:58.313Z"
   },
   {
    "duration": 15,
    "start_time": "2022-10-09T11:05:58.333Z"
   },
   {
    "duration": 18,
    "start_time": "2022-10-09T11:05:58.350Z"
   },
   {
    "duration": 35,
    "start_time": "2022-10-09T11:05:58.370Z"
   },
   {
    "duration": 4,
    "start_time": "2022-10-09T11:05:58.407Z"
   },
   {
    "duration": 5,
    "start_time": "2022-10-09T11:05:58.413Z"
   },
   {
    "duration": 12,
    "start_time": "2022-10-09T11:05:58.430Z"
   },
   {
    "duration": 8,
    "start_time": "2022-10-09T11:05:58.444Z"
   },
   {
    "duration": 8,
    "start_time": "2022-10-09T11:05:58.454Z"
   },
   {
    "duration": 24,
    "start_time": "2022-10-09T11:05:58.463Z"
   },
   {
    "duration": 39,
    "start_time": "2022-10-09T11:06:26.091Z"
   },
   {
    "duration": 3,
    "start_time": "2022-10-09T11:07:32.826Z"
   },
   {
    "duration": 648,
    "start_time": "2022-10-09T11:07:32.831Z"
   },
   {
    "duration": 27,
    "start_time": "2022-10-09T11:07:33.481Z"
   },
   {
    "duration": 27,
    "start_time": "2022-10-09T11:07:33.510Z"
   },
   {
    "duration": 14,
    "start_time": "2022-10-09T11:07:33.540Z"
   },
   {
    "duration": 20,
    "start_time": "2022-10-09T11:07:33.556Z"
   },
   {
    "duration": 35,
    "start_time": "2022-10-09T11:07:33.577Z"
   },
   {
    "duration": 20,
    "start_time": "2022-10-09T11:07:33.614Z"
   },
   {
    "duration": 13,
    "start_time": "2022-10-09T11:07:33.636Z"
   },
   {
    "duration": 9,
    "start_time": "2022-10-09T11:07:33.651Z"
   },
   {
    "duration": 9,
    "start_time": "2022-10-09T11:07:33.662Z"
   },
   {
    "duration": 35,
    "start_time": "2022-10-09T11:07:33.673Z"
   },
   {
    "duration": 12,
    "start_time": "2022-10-09T11:07:33.711Z"
   },
   {
    "duration": 9,
    "start_time": "2022-10-09T11:07:33.726Z"
   },
   {
    "duration": 33,
    "start_time": "2022-10-09T11:07:33.737Z"
   },
   {
    "duration": 22,
    "start_time": "2022-10-09T11:08:11.548Z"
   },
   {
    "duration": 815,
    "start_time": "2022-10-09T11:08:40.477Z"
   },
   {
    "duration": 4,
    "start_time": "2022-10-09T11:09:13.136Z"
   },
   {
    "duration": 4,
    "start_time": "2022-10-09T11:09:57.929Z"
   },
   {
    "duration": 8,
    "start_time": "2022-10-09T13:13:38.740Z"
   },
   {
    "duration": 8,
    "start_time": "2022-10-09T13:14:05.880Z"
   },
   {
    "duration": 6,
    "start_time": "2022-10-09T13:16:05.549Z"
   },
   {
    "duration": 10,
    "start_time": "2022-10-09T13:16:10.180Z"
   },
   {
    "duration": 9,
    "start_time": "2022-10-09T13:16:28.625Z"
   },
   {
    "duration": 11,
    "start_time": "2022-10-09T13:16:51.101Z"
   },
   {
    "duration": 9,
    "start_time": "2022-10-09T13:17:17.003Z"
   },
   {
    "duration": 11,
    "start_time": "2022-10-09T13:18:02.590Z"
   },
   {
    "duration": 9,
    "start_time": "2022-10-09T13:18:20.875Z"
   },
   {
    "duration": 9,
    "start_time": "2022-10-09T13:18:36.150Z"
   },
   {
    "duration": 12,
    "start_time": "2022-10-09T13:18:50.399Z"
   },
   {
    "duration": 9,
    "start_time": "2022-10-09T13:19:34.082Z"
   },
   {
    "duration": 7,
    "start_time": "2022-10-09T13:21:46.536Z"
   },
   {
    "duration": 8,
    "start_time": "2022-10-09T13:30:19.960Z"
   },
   {
    "duration": 9,
    "start_time": "2022-10-09T13:30:34.822Z"
   },
   {
    "duration": 10,
    "start_time": "2022-10-09T13:30:39.383Z"
   },
   {
    "duration": 3,
    "start_time": "2022-10-09T13:30:54.089Z"
   },
   {
    "duration": 692,
    "start_time": "2022-10-09T13:30:54.094Z"
   },
   {
    "duration": 23,
    "start_time": "2022-10-09T13:30:54.787Z"
   },
   {
    "duration": 20,
    "start_time": "2022-10-09T13:30:54.811Z"
   },
   {
    "duration": 13,
    "start_time": "2022-10-09T13:30:54.833Z"
   },
   {
    "duration": 20,
    "start_time": "2022-10-09T13:30:54.847Z"
   },
   {
    "duration": 44,
    "start_time": "2022-10-09T13:30:54.868Z"
   },
   {
    "duration": 19,
    "start_time": "2022-10-09T13:30:54.914Z"
   },
   {
    "duration": 7,
    "start_time": "2022-10-09T13:30:54.935Z"
   },
   {
    "duration": 5,
    "start_time": "2022-10-09T13:30:54.945Z"
   },
   {
    "duration": 14,
    "start_time": "2022-10-09T13:30:54.952Z"
   },
   {
    "duration": 33,
    "start_time": "2022-10-09T13:30:54.967Z"
   },
   {
    "duration": 11,
    "start_time": "2022-10-09T13:30:55.002Z"
   },
   {
    "duration": 9,
    "start_time": "2022-10-09T13:30:55.014Z"
   },
   {
    "duration": 14,
    "start_time": "2022-10-09T13:31:18.855Z"
   },
   {
    "duration": 4,
    "start_time": "2022-10-09T13:31:51.976Z"
   },
   {
    "duration": 4,
    "start_time": "2022-10-09T13:35:45.164Z"
   },
   {
    "duration": 5,
    "start_time": "2022-10-09T14:23:31.946Z"
   },
   {
    "duration": 14,
    "start_time": "2022-10-09T14:28:25.247Z"
   },
   {
    "duration": 15,
    "start_time": "2022-10-09T14:28:32.282Z"
   },
   {
    "duration": 22,
    "start_time": "2022-10-09T14:36:40.468Z"
   },
   {
    "duration": 5,
    "start_time": "2022-10-09T14:37:56.400Z"
   },
   {
    "duration": 47,
    "start_time": "2022-10-09T14:38:16.129Z"
   },
   {
    "duration": 533,
    "start_time": "2022-10-09T14:38:23.109Z"
   },
   {
    "duration": 881,
    "start_time": "2022-10-09T14:41:36.840Z"
   },
   {
    "duration": 350,
    "start_time": "2022-10-09T14:41:52.029Z"
   },
   {
    "duration": 133,
    "start_time": "2022-10-09T14:43:51.016Z"
   },
   {
    "duration": 130,
    "start_time": "2022-10-09T14:43:58.529Z"
   },
   {
    "duration": 235,
    "start_time": "2022-10-09T14:44:38.568Z"
   },
   {
    "duration": 322,
    "start_time": "2022-10-09T14:48:44.736Z"
   },
   {
    "duration": 4,
    "start_time": "2022-10-09T14:51:11.083Z"
   },
   {
    "duration": 544,
    "start_time": "2022-10-09T14:51:30.472Z"
   },
   {
    "duration": 306,
    "start_time": "2022-10-09T14:53:38.586Z"
   },
   {
    "duration": 308,
    "start_time": "2022-10-09T14:59:59.106Z"
   },
   {
    "duration": 540,
    "start_time": "2022-10-09T15:00:10.750Z"
   },
   {
    "duration": 1007,
    "start_time": "2022-10-09T15:00:49.903Z"
   },
   {
    "duration": 620,
    "start_time": "2022-10-09T15:00:51.979Z"
   },
   {
    "duration": 18,
    "start_time": "2022-10-09T15:00:52.903Z"
   },
   {
    "duration": 11,
    "start_time": "2022-10-09T15:01:13.175Z"
   },
   {
    "duration": 429,
    "start_time": "2022-10-09T15:01:15.103Z"
   },
   {
    "duration": 286,
    "start_time": "2022-10-09T15:01:33.463Z"
   },
   {
    "duration": 199,
    "start_time": "2022-10-09T15:01:49.239Z"
   },
   {
    "duration": 234,
    "start_time": "2022-10-09T15:02:00.683Z"
   },
   {
    "duration": 342,
    "start_time": "2022-10-09T15:02:08.723Z"
   },
   {
    "duration": 17,
    "start_time": "2022-10-09T15:05:43.286Z"
   },
   {
    "duration": 565,
    "start_time": "2022-10-09T15:05:52.699Z"
   },
   {
    "duration": 84,
    "start_time": "2022-10-09T15:06:48.145Z"
   },
   {
    "duration": 1601,
    "start_time": "2022-10-09T15:07:09.711Z"
   },
   {
    "duration": 330,
    "start_time": "2022-10-09T15:07:23.666Z"
   },
   {
    "duration": 13,
    "start_time": "2022-10-09T15:09:10.343Z"
   },
   {
    "duration": 102,
    "start_time": "2022-10-09T15:09:25.802Z"
   },
   {
    "duration": 146,
    "start_time": "2022-10-09T15:09:50.512Z"
   },
   {
    "duration": 11,
    "start_time": "2022-10-09T15:11:17.643Z"
   },
   {
    "duration": 160,
    "start_time": "2022-10-09T15:11:24.024Z"
   },
   {
    "duration": 136,
    "start_time": "2022-10-09T15:12:12.650Z"
   },
   {
    "duration": 81,
    "start_time": "2022-10-09T15:12:36.424Z"
   },
   {
    "duration": 649,
    "start_time": "2022-10-09T15:12:47.213Z"
   },
   {
    "duration": 149,
    "start_time": "2022-10-09T15:14:52.343Z"
   },
   {
    "duration": 212,
    "start_time": "2022-10-09T15:15:25.643Z"
   },
   {
    "duration": 234,
    "start_time": "2022-10-09T15:16:07.304Z"
   },
   {
    "duration": 228,
    "start_time": "2022-10-09T15:16:57.225Z"
   },
   {
    "duration": 219,
    "start_time": "2022-10-09T15:17:14.903Z"
   },
   {
    "duration": 223,
    "start_time": "2022-10-09T15:18:30.319Z"
   },
   {
    "duration": 221,
    "start_time": "2022-10-09T15:19:15.571Z"
   },
   {
    "duration": 213,
    "start_time": "2022-10-09T15:19:27.791Z"
   },
   {
    "duration": 208,
    "start_time": "2022-10-09T15:19:46.124Z"
   },
   {
    "duration": 220,
    "start_time": "2022-10-09T15:20:43.803Z"
   },
   {
    "duration": 204,
    "start_time": "2022-10-09T15:25:02.677Z"
   },
   {
    "duration": 753,
    "start_time": "2022-10-09T15:25:17.763Z"
   },
   {
    "duration": 208,
    "start_time": "2022-10-09T15:25:27.591Z"
   },
   {
    "duration": 5,
    "start_time": "2022-10-09T15:26:17.663Z"
   },
   {
    "duration": 216,
    "start_time": "2022-10-09T15:26:22.941Z"
   },
   {
    "duration": 210,
    "start_time": "2022-10-09T15:26:44.941Z"
   },
   {
    "duration": 1106,
    "start_time": "2022-10-09T15:26:59.881Z"
   },
   {
    "duration": 156,
    "start_time": "2022-10-09T15:27:06.232Z"
   },
   {
    "duration": 6,
    "start_time": "2022-10-09T15:47:53.048Z"
   },
   {
    "duration": 4,
    "start_time": "2022-10-09T16:06:21.508Z"
   },
   {
    "duration": 69,
    "start_time": "2022-10-09T16:10:33.787Z"
   },
   {
    "duration": 64,
    "start_time": "2022-10-09T16:11:12.939Z"
   },
   {
    "duration": 65,
    "start_time": "2022-10-09T16:11:52.988Z"
   },
   {
    "duration": 5,
    "start_time": "2022-10-09T16:13:30.629Z"
   },
   {
    "duration": 68,
    "start_time": "2022-10-09T16:15:09.579Z"
   },
   {
    "duration": 5,
    "start_time": "2022-10-09T16:15:15.948Z"
   },
   {
    "duration": 16,
    "start_time": "2022-10-09T16:15:17.500Z"
   },
   {
    "duration": 5,
    "start_time": "2022-10-09T16:15:31.607Z"
   },
   {
    "duration": 62,
    "start_time": "2022-10-09T16:15:33.908Z"
   },
   {
    "duration": 4,
    "start_time": "2022-10-09T16:16:11.088Z"
   },
   {
    "duration": 100,
    "start_time": "2022-10-09T16:16:26.580Z"
   },
   {
    "duration": 20,
    "start_time": "2022-10-09T16:37:08.046Z"
   },
   {
    "duration": 11,
    "start_time": "2022-10-09T16:37:43.724Z"
   },
   {
    "duration": 10,
    "start_time": "2022-10-09T16:38:11.306Z"
   },
   {
    "duration": 11,
    "start_time": "2022-10-09T16:38:18.377Z"
   },
   {
    "duration": 7,
    "start_time": "2022-10-09T16:49:26.168Z"
   },
   {
    "duration": 12,
    "start_time": "2022-10-09T16:49:53.378Z"
   },
   {
    "duration": 6,
    "start_time": "2022-10-09T16:50:18.502Z"
   },
   {
    "duration": 5,
    "start_time": "2022-10-09T16:51:34.799Z"
   },
   {
    "duration": 5,
    "start_time": "2022-10-09T16:53:16.370Z"
   },
   {
    "duration": 6,
    "start_time": "2022-10-09T16:55:43.370Z"
   },
   {
    "duration": 15,
    "start_time": "2022-10-09T16:56:53.259Z"
   },
   {
    "duration": 5,
    "start_time": "2022-10-09T16:57:03.429Z"
   },
   {
    "duration": 12,
    "start_time": "2022-10-09T16:57:42.919Z"
   },
   {
    "duration": 11,
    "start_time": "2022-10-09T16:57:56.229Z"
   },
   {
    "duration": 14,
    "start_time": "2022-10-09T16:58:32.691Z"
   },
   {
    "duration": 11,
    "start_time": "2022-10-09T16:58:42.780Z"
   },
   {
    "duration": 13,
    "start_time": "2022-10-09T16:58:50.011Z"
   },
   {
    "duration": 10,
    "start_time": "2022-10-09T17:00:31.695Z"
   },
   {
    "duration": 7,
    "start_time": "2022-10-09T17:10:07.244Z"
   },
   {
    "duration": 7,
    "start_time": "2022-10-09T17:10:34.656Z"
   },
   {
    "duration": 8,
    "start_time": "2022-10-09T17:10:54.557Z"
   },
   {
    "duration": 6,
    "start_time": "2022-10-09T17:11:02.732Z"
   },
   {
    "duration": 11,
    "start_time": "2022-10-09T17:11:12.458Z"
   },
   {
    "duration": 6,
    "start_time": "2022-10-09T17:12:52.432Z"
   },
   {
    "duration": 10,
    "start_time": "2022-10-09T17:17:01.893Z"
   },
   {
    "duration": 11,
    "start_time": "2022-10-09T17:17:18.754Z"
   },
   {
    "duration": 9,
    "start_time": "2022-10-09T17:18:08.831Z"
   },
   {
    "duration": 11,
    "start_time": "2022-10-09T17:18:16.377Z"
   },
   {
    "duration": 11,
    "start_time": "2022-10-09T17:18:45.924Z"
   },
   {
    "duration": 66,
    "start_time": "2022-10-09T17:20:11.039Z"
   },
   {
    "duration": 47,
    "start_time": "2022-10-09T17:20:16.448Z"
   },
   {
    "duration": 10,
    "start_time": "2022-10-09T17:20:52.335Z"
   },
   {
    "duration": 12,
    "start_time": "2022-10-09T17:21:03.584Z"
   },
   {
    "duration": 15,
    "start_time": "2022-10-09T17:23:47.468Z"
   },
   {
    "duration": 16,
    "start_time": "2022-10-09T17:24:02.991Z"
   },
   {
    "duration": 12,
    "start_time": "2022-10-09T17:25:11.058Z"
   },
   {
    "duration": 4,
    "start_time": "2022-10-09T17:25:35.313Z"
   },
   {
    "duration": 13,
    "start_time": "2022-10-09T17:26:11.873Z"
   },
   {
    "duration": 26,
    "start_time": "2022-10-09T17:26:37.664Z"
   },
   {
    "duration": 15,
    "start_time": "2022-10-09T17:26:41.455Z"
   },
   {
    "duration": 12,
    "start_time": "2022-10-09T17:26:56.251Z"
   },
   {
    "duration": 3,
    "start_time": "2022-10-09T17:27:04.600Z"
   },
   {
    "duration": 617,
    "start_time": "2022-10-09T17:27:04.606Z"
   },
   {
    "duration": 15,
    "start_time": "2022-10-09T17:27:05.225Z"
   },
   {
    "duration": 18,
    "start_time": "2022-10-09T17:27:05.242Z"
   },
   {
    "duration": 13,
    "start_time": "2022-10-09T17:27:05.262Z"
   },
   {
    "duration": 39,
    "start_time": "2022-10-09T17:27:05.277Z"
   },
   {
    "duration": 17,
    "start_time": "2022-10-09T17:27:05.318Z"
   },
   {
    "duration": 18,
    "start_time": "2022-10-09T17:27:05.337Z"
   },
   {
    "duration": 9,
    "start_time": "2022-10-09T17:27:05.357Z"
   },
   {
    "duration": 35,
    "start_time": "2022-10-09T17:27:05.367Z"
   },
   {
    "duration": 4,
    "start_time": "2022-10-09T17:27:05.405Z"
   },
   {
    "duration": 13,
    "start_time": "2022-10-09T17:27:05.411Z"
   },
   {
    "duration": 7,
    "start_time": "2022-10-09T17:27:05.426Z"
   },
   {
    "duration": 16,
    "start_time": "2022-10-09T17:27:05.435Z"
   },
   {
    "duration": 23,
    "start_time": "2022-10-09T17:27:57.834Z"
   },
   {
    "duration": 28,
    "start_time": "2022-10-09T17:28:13.307Z"
   },
   {
    "duration": 3,
    "start_time": "2022-10-09T17:31:13.546Z"
   },
   {
    "duration": 4,
    "start_time": "2022-10-09T17:31:18.859Z"
   },
   {
    "duration": 38,
    "start_time": "2022-10-09T17:32:01.067Z"
   },
   {
    "duration": 15,
    "start_time": "2022-10-09T17:32:10.063Z"
   },
   {
    "duration": 37,
    "start_time": "2022-10-09T17:32:41.192Z"
   },
   {
    "duration": 15,
    "start_time": "2022-10-09T17:32:50.054Z"
   },
   {
    "duration": 15,
    "start_time": "2022-10-09T17:34:15.739Z"
   },
   {
    "duration": 12,
    "start_time": "2022-10-09T17:34:55.003Z"
   },
   {
    "duration": 2,
    "start_time": "2022-10-09T17:35:12.097Z"
   },
   {
    "duration": 596,
    "start_time": "2022-10-09T17:35:12.101Z"
   },
   {
    "duration": 15,
    "start_time": "2022-10-09T17:35:12.699Z"
   },
   {
    "duration": 18,
    "start_time": "2022-10-09T17:35:12.715Z"
   },
   {
    "duration": 13,
    "start_time": "2022-10-09T17:35:12.734Z"
   },
   {
    "duration": 18,
    "start_time": "2022-10-09T17:35:12.748Z"
   },
   {
    "duration": 42,
    "start_time": "2022-10-09T17:35:12.767Z"
   },
   {
    "duration": 20,
    "start_time": "2022-10-09T17:35:12.810Z"
   },
   {
    "duration": 9,
    "start_time": "2022-10-09T17:35:12.832Z"
   },
   {
    "duration": 5,
    "start_time": "2022-10-09T17:35:12.842Z"
   },
   {
    "duration": 4,
    "start_time": "2022-10-09T17:35:12.849Z"
   },
   {
    "duration": 12,
    "start_time": "2022-10-09T17:35:12.855Z"
   },
   {
    "duration": 33,
    "start_time": "2022-10-09T17:35:12.868Z"
   },
   {
    "duration": 13,
    "start_time": "2022-10-09T17:35:12.903Z"
   },
   {
    "duration": 29,
    "start_time": "2022-10-09T17:35:22.936Z"
   },
   {
    "duration": 27,
    "start_time": "2022-10-09T17:36:03.627Z"
   },
   {
    "duration": 50,
    "start_time": "2022-10-09T17:36:14.978Z"
   },
   {
    "duration": 28,
    "start_time": "2022-10-09T17:36:40.544Z"
   },
   {
    "duration": 3,
    "start_time": "2022-10-09T17:37:45.694Z"
   },
   {
    "duration": 598,
    "start_time": "2022-10-09T17:37:45.711Z"
   },
   {
    "duration": 16,
    "start_time": "2022-10-09T17:37:46.311Z"
   },
   {
    "duration": 21,
    "start_time": "2022-10-09T17:37:46.328Z"
   },
   {
    "duration": 11,
    "start_time": "2022-10-09T17:37:46.350Z"
   },
   {
    "duration": 37,
    "start_time": "2022-10-09T17:37:46.363Z"
   },
   {
    "duration": 15,
    "start_time": "2022-10-09T17:37:46.402Z"
   },
   {
    "duration": 17,
    "start_time": "2022-10-09T17:37:46.419Z"
   },
   {
    "duration": 6,
    "start_time": "2022-10-09T17:37:46.438Z"
   },
   {
    "duration": 9,
    "start_time": "2022-10-09T17:37:46.445Z"
   },
   {
    "duration": 6,
    "start_time": "2022-10-09T17:37:46.456Z"
   },
   {
    "duration": 39,
    "start_time": "2022-10-09T17:37:46.463Z"
   },
   {
    "duration": 7,
    "start_time": "2022-10-09T17:37:46.504Z"
   },
   {
    "duration": 13,
    "start_time": "2022-10-09T17:38:03.628Z"
   },
   {
    "duration": 13,
    "start_time": "2022-10-09T17:38:22.807Z"
   },
   {
    "duration": 25,
    "start_time": "2022-10-09T17:39:01.942Z"
   },
   {
    "duration": 6,
    "start_time": "2022-10-09T17:39:39.248Z"
   },
   {
    "duration": 6,
    "start_time": "2022-10-09T17:39:42.047Z"
   },
   {
    "duration": 11,
    "start_time": "2022-10-09T17:41:10.590Z"
   },
   {
    "duration": 112,
    "start_time": "2022-10-09T17:41:16.397Z"
   },
   {
    "duration": 22,
    "start_time": "2022-10-09T17:41:28.992Z"
   },
   {
    "duration": 20,
    "start_time": "2022-10-09T17:42:06.317Z"
   },
   {
    "duration": 1068,
    "start_time": "2022-10-10T09:00:10.695Z"
   },
   {
    "duration": 1788,
    "start_time": "2022-10-10T09:00:11.765Z"
   },
   {
    "duration": 17,
    "start_time": "2022-10-10T09:00:13.554Z"
   },
   {
    "duration": 32,
    "start_time": "2022-10-10T09:00:13.574Z"
   },
   {
    "duration": 14,
    "start_time": "2022-10-10T09:00:13.608Z"
   },
   {
    "duration": 24,
    "start_time": "2022-10-10T09:00:13.624Z"
   },
   {
    "duration": 31,
    "start_time": "2022-10-10T09:00:13.649Z"
   },
   {
    "duration": 30,
    "start_time": "2022-10-10T09:00:13.682Z"
   },
   {
    "duration": 19,
    "start_time": "2022-10-10T09:00:13.713Z"
   },
   {
    "duration": 14,
    "start_time": "2022-10-10T09:00:13.734Z"
   },
   {
    "duration": 17,
    "start_time": "2022-10-10T09:00:13.749Z"
   },
   {
    "duration": 22,
    "start_time": "2022-10-10T09:00:13.767Z"
   },
   {
    "duration": 20,
    "start_time": "2022-10-10T09:00:13.790Z"
   },
   {
    "duration": 20,
    "start_time": "2022-10-10T09:00:13.811Z"
   },
   {
    "duration": 36,
    "start_time": "2022-10-10T09:00:13.832Z"
   },
   {
    "duration": 7,
    "start_time": "2022-10-10T09:00:13.870Z"
   },
   {
    "duration": 15,
    "start_time": "2022-10-10T09:00:13.878Z"
   },
   {
    "duration": 124,
    "start_time": "2022-10-10T09:00:13.895Z"
   },
   {
    "duration": 21,
    "start_time": "2022-10-10T09:00:14.021Z"
   },
   {
    "duration": 3,
    "start_time": "2022-10-10T09:00:14.044Z"
   },
   {
    "duration": 21,
    "start_time": "2022-10-10T09:00:14.049Z"
   },
   {
    "duration": 405,
    "start_time": "2022-10-10T09:00:29.012Z"
   },
   {
    "duration": 148,
    "start_time": "2022-10-10T09:00:32.774Z"
   },
   {
    "duration": 155,
    "start_time": "2022-10-10T09:00:36.717Z"
   },
   {
    "duration": 5,
    "start_time": "2022-10-10T09:00:47.381Z"
   },
   {
    "duration": 5,
    "start_time": "2022-10-10T09:00:55.339Z"
   },
   {
    "duration": 77,
    "start_time": "2022-10-10T09:01:01.957Z"
   },
   {
    "duration": 123,
    "start_time": "2022-10-10T09:01:22.307Z"
   },
   {
    "duration": 4,
    "start_time": "2022-10-10T09:01:46.654Z"
   },
   {
    "duration": 62,
    "start_time": "2022-10-10T09:01:48.551Z"
   },
   {
    "duration": 66,
    "start_time": "2022-10-10T09:01:53.033Z"
   },
   {
    "duration": 10,
    "start_time": "2022-10-10T09:02:55.853Z"
   },
   {
    "duration": 7,
    "start_time": "2022-10-10T09:03:14.951Z"
   },
   {
    "duration": 67,
    "start_time": "2022-10-10T09:03:46.547Z"
   },
   {
    "duration": 8,
    "start_time": "2022-10-10T09:06:59.124Z"
   },
   {
    "duration": 138,
    "start_time": "2022-10-10T09:09:50.681Z"
   },
   {
    "duration": 3,
    "start_time": "2022-10-10T09:10:16.447Z"
   },
   {
    "duration": 138,
    "start_time": "2022-10-10T09:10:23.253Z"
   },
   {
    "duration": 150,
    "start_time": "2022-10-10T09:10:32.631Z"
   },
   {
    "duration": 9,
    "start_time": "2022-10-10T09:10:57.849Z"
   },
   {
    "duration": 4,
    "start_time": "2022-10-10T09:29:11.375Z"
   },
   {
    "duration": 3,
    "start_time": "2022-10-10T09:31:49.319Z"
   },
   {
    "duration": 26,
    "start_time": "2022-10-10T09:34:03.428Z"
   },
   {
    "duration": 59,
    "start_time": "2022-10-10T09:35:40.177Z"
   },
   {
    "duration": 676,
    "start_time": "2022-10-10T09:37:13.193Z"
   },
   {
    "duration": 40,
    "start_time": "2022-10-10T09:38:07.998Z"
   },
   {
    "duration": 131,
    "start_time": "2022-10-10T09:38:42.920Z"
   },
   {
    "duration": 143,
    "start_time": "2022-10-10T09:38:53.462Z"
   },
   {
    "duration": 77,
    "start_time": "2022-10-10T09:40:26.296Z"
   },
   {
    "duration": 105,
    "start_time": "2022-10-10T09:40:38.445Z"
   },
   {
    "duration": 158,
    "start_time": "2022-10-10T09:41:00.539Z"
   },
   {
    "duration": 122,
    "start_time": "2022-10-10T09:41:33.110Z"
   },
   {
    "duration": 152,
    "start_time": "2022-10-10T09:41:56.401Z"
   },
   {
    "duration": 142,
    "start_time": "2022-10-10T09:42:13.458Z"
   },
   {
    "duration": 178,
    "start_time": "2022-10-10T09:42:22.037Z"
   },
   {
    "duration": 150,
    "start_time": "2022-10-10T09:42:42.344Z"
   },
   {
    "duration": 147,
    "start_time": "2022-10-10T09:43:12.496Z"
   },
   {
    "duration": 147,
    "start_time": "2022-10-10T09:43:29.305Z"
   },
   {
    "duration": 148,
    "start_time": "2022-10-10T09:44:50.258Z"
   },
   {
    "duration": 143,
    "start_time": "2022-10-10T09:47:02.938Z"
   },
   {
    "duration": 143,
    "start_time": "2022-10-10T09:47:27.754Z"
   },
   {
    "duration": 11,
    "start_time": "2022-10-10T09:51:03.582Z"
   },
   {
    "duration": 141,
    "start_time": "2022-10-10T09:51:39.620Z"
   },
   {
    "duration": 150,
    "start_time": "2022-10-10T09:52:22.996Z"
   },
   {
    "duration": 320,
    "start_time": "2022-10-10T09:55:27.149Z"
   },
   {
    "duration": 297,
    "start_time": "2022-10-10T09:55:40.921Z"
   },
   {
    "duration": 8,
    "start_time": "2022-10-10T09:56:29.464Z"
   },
   {
    "duration": 15,
    "start_time": "2022-10-10T09:56:32.947Z"
   },
   {
    "duration": 10,
    "start_time": "2022-10-10T09:56:37.923Z"
   },
   {
    "duration": 10,
    "start_time": "2022-10-10T09:56:47.736Z"
   },
   {
    "duration": 11,
    "start_time": "2022-10-10T09:56:53.089Z"
   },
   {
    "duration": 5,
    "start_time": "2022-10-10T09:58:44.928Z"
   },
   {
    "duration": 16,
    "start_time": "2022-10-10T09:58:55.688Z"
   },
   {
    "duration": 6,
    "start_time": "2022-10-10T09:59:37.553Z"
   },
   {
    "duration": 5,
    "start_time": "2022-10-10T10:00:14.528Z"
   },
   {
    "duration": 3,
    "start_time": "2022-10-10T10:00:21.688Z"
   },
   {
    "duration": 692,
    "start_time": "2022-10-10T10:00:21.694Z"
   },
   {
    "duration": 25,
    "start_time": "2022-10-10T10:00:22.388Z"
   },
   {
    "duration": 33,
    "start_time": "2022-10-10T10:00:22.415Z"
   },
   {
    "duration": 14,
    "start_time": "2022-10-10T10:00:22.449Z"
   },
   {
    "duration": 20,
    "start_time": "2022-10-10T10:00:22.465Z"
   },
   {
    "duration": 24,
    "start_time": "2022-10-10T10:00:22.504Z"
   },
   {
    "duration": 21,
    "start_time": "2022-10-10T10:00:22.530Z"
   },
   {
    "duration": 7,
    "start_time": "2022-10-10T10:00:22.553Z"
   },
   {
    "duration": 6,
    "start_time": "2022-10-10T10:00:22.561Z"
   },
   {
    "duration": 5,
    "start_time": "2022-10-10T10:00:22.568Z"
   },
   {
    "duration": 45,
    "start_time": "2022-10-10T10:00:22.575Z"
   },
   {
    "duration": 8,
    "start_time": "2022-10-10T10:00:22.621Z"
   },
   {
    "duration": 12,
    "start_time": "2022-10-10T10:00:22.630Z"
   },
   {
    "duration": 24,
    "start_time": "2022-10-10T10:00:22.645Z"
   },
   {
    "duration": 7,
    "start_time": "2022-10-10T10:00:22.670Z"
   },
   {
    "duration": 31,
    "start_time": "2022-10-10T10:00:22.678Z"
   },
   {
    "duration": 130,
    "start_time": "2022-10-10T10:00:22.710Z"
   },
   {
    "duration": 22,
    "start_time": "2022-10-10T10:00:22.841Z"
   },
   {
    "duration": 4,
    "start_time": "2022-10-10T10:00:22.864Z"
   },
   {
    "duration": 6,
    "start_time": "2022-10-10T10:00:22.870Z"
   },
   {
    "duration": 198,
    "start_time": "2022-10-10T10:00:22.878Z"
   },
   {
    "duration": 304,
    "start_time": "2022-10-10T10:00:23.077Z"
   },
   {
    "duration": 263,
    "start_time": "2022-10-10T10:00:23.383Z"
   },
   {
    "duration": 4,
    "start_time": "2022-10-10T10:00:23.647Z"
   },
   {
    "duration": 10,
    "start_time": "2022-10-10T10:00:23.653Z"
   },
   {
    "duration": 159,
    "start_time": "2022-10-10T10:00:23.664Z"
   },
   {
    "duration": 9,
    "start_time": "2022-10-10T10:00:23.824Z"
   },
   {
    "duration": 8,
    "start_time": "2022-10-10T10:00:23.834Z"
   },
   {
    "duration": 123,
    "start_time": "2022-10-10T10:00:23.843Z"
   },
   {
    "duration": 8,
    "start_time": "2022-10-10T10:00:23.967Z"
   },
   {
    "duration": 35,
    "start_time": "2022-10-10T10:00:23.977Z"
   },
   {
    "duration": 5,
    "start_time": "2022-10-10T10:00:24.013Z"
   },
   {
    "duration": 20,
    "start_time": "2022-10-10T10:00:24.019Z"
   },
   {
    "duration": 47,
    "start_time": "2022-10-10T10:00:24.040Z"
   },
   {
    "duration": 157,
    "start_time": "2022-10-10T10:00:24.117Z"
   },
   {
    "duration": 232,
    "start_time": "2022-10-10T10:00:24.275Z"
   },
   {
    "duration": 19,
    "start_time": "2022-10-10T10:00:24.508Z"
   },
   {
    "duration": 8,
    "start_time": "2022-10-10T10:01:06.901Z"
   },
   {
    "duration": 16,
    "start_time": "2022-10-10T10:01:14.077Z"
   },
   {
    "duration": 21,
    "start_time": "2022-10-10T10:01:21.520Z"
   },
   {
    "duration": 11,
    "start_time": "2022-10-10T10:01:32.885Z"
   },
   {
    "duration": 7,
    "start_time": "2022-10-10T10:02:08.136Z"
   },
   {
    "duration": 46,
    "start_time": "2022-10-10T10:03:59.438Z"
   },
   {
    "duration": 122,
    "start_time": "2022-10-10T10:22:20.743Z"
   },
   {
    "duration": 129,
    "start_time": "2022-10-10T10:22:29.037Z"
   },
   {
    "duration": 14187,
    "start_time": "2022-10-10T10:24:37.439Z"
   },
   {
    "duration": 6,
    "start_time": "2022-10-10T10:29:31.374Z"
   },
   {
    "duration": 2577757,
    "start_time": "2022-10-10T10:29:34.070Z"
   },
   {
    "duration": 698022,
    "start_time": "2022-10-10T12:38:09.995Z"
   },
   {
    "duration": 3,
    "start_time": "2022-10-10T13:32:44.962Z"
   },
   {
    "duration": 3,
    "start_time": "2022-10-10T14:23:33.282Z"
   },
   {
    "duration": 3,
    "start_time": "2022-10-10T14:23:35.790Z"
   },
   {
    "duration": 15,
    "start_time": "2022-10-10T14:24:40.217Z"
   },
   {
    "duration": 11,
    "start_time": "2022-10-10T14:24:45.757Z"
   },
   {
    "duration": 9,
    "start_time": "2022-10-10T14:25:06.480Z"
   },
   {
    "duration": 9,
    "start_time": "2022-10-10T14:25:18.590Z"
   },
   {
    "duration": 10,
    "start_time": "2022-10-10T14:25:27.904Z"
   },
   {
    "duration": 8,
    "start_time": "2022-10-10T14:25:42.884Z"
   },
   {
    "duration": 3,
    "start_time": "2022-10-10T14:26:26.466Z"
   },
   {
    "duration": 5,
    "start_time": "2022-10-10T14:26:29.452Z"
   },
   {
    "duration": 2,
    "start_time": "2022-10-10T14:28:12.699Z"
   },
   {
    "duration": 1201,
    "start_time": "2022-10-10T14:33:52.669Z"
   },
   {
    "duration": 639,
    "start_time": "2022-10-10T14:33:53.871Z"
   },
   {
    "duration": 18,
    "start_time": "2022-10-10T14:33:54.517Z"
   },
   {
    "duration": 24,
    "start_time": "2022-10-10T14:33:54.537Z"
   },
   {
    "duration": 12,
    "start_time": "2022-10-10T14:33:54.562Z"
   },
   {
    "duration": 33,
    "start_time": "2022-10-10T14:33:54.575Z"
   },
   {
    "duration": 17,
    "start_time": "2022-10-10T14:33:54.610Z"
   },
   {
    "duration": 17,
    "start_time": "2022-10-10T14:33:54.629Z"
   },
   {
    "duration": 10,
    "start_time": "2022-10-10T14:33:54.647Z"
   },
   {
    "duration": 5,
    "start_time": "2022-10-10T14:33:54.659Z"
   },
   {
    "duration": 10,
    "start_time": "2022-10-10T14:33:54.665Z"
   },
   {
    "duration": 37,
    "start_time": "2022-10-10T14:33:54.676Z"
   },
   {
    "duration": 12,
    "start_time": "2022-10-10T14:33:54.715Z"
   },
   {
    "duration": 12,
    "start_time": "2022-10-10T14:33:54.728Z"
   },
   {
    "duration": 26,
    "start_time": "2022-10-10T14:33:54.741Z"
   },
   {
    "duration": 7,
    "start_time": "2022-10-10T14:33:54.768Z"
   },
   {
    "duration": 7,
    "start_time": "2022-10-10T14:33:54.776Z"
   },
   {
    "duration": 128,
    "start_time": "2022-10-10T14:33:54.806Z"
   },
   {
    "duration": 22,
    "start_time": "2022-10-10T14:33:54.935Z"
   },
   {
    "duration": 4,
    "start_time": "2022-10-10T14:33:54.958Z"
   },
   {
    "duration": 6,
    "start_time": "2022-10-10T14:33:54.963Z"
   },
   {
    "duration": 368,
    "start_time": "2022-10-10T14:33:54.970Z"
   },
   {
    "duration": 234,
    "start_time": "2022-10-10T14:33:55.339Z"
   },
   {
    "duration": 238,
    "start_time": "2022-10-10T14:33:55.574Z"
   },
   {
    "duration": 5,
    "start_time": "2022-10-10T14:33:55.814Z"
   },
   {
    "duration": 8,
    "start_time": "2022-10-10T14:33:55.820Z"
   },
   {
    "duration": 119,
    "start_time": "2022-10-10T14:33:55.830Z"
   },
   {
    "duration": 57,
    "start_time": "2022-10-10T14:33:55.952Z"
   },
   {
    "duration": 15,
    "start_time": "2022-10-10T14:33:56.011Z"
   },
   {
    "duration": 109,
    "start_time": "2022-10-10T14:33:56.028Z"
   },
   {
    "duration": 7,
    "start_time": "2022-10-10T14:33:56.139Z"
   },
   {
    "duration": 6,
    "start_time": "2022-10-10T14:33:56.148Z"
   },
   {
    "duration": 4,
    "start_time": "2022-10-10T14:33:56.155Z"
   },
   {
    "duration": 4,
    "start_time": "2022-10-10T14:33:56.161Z"
   },
   {
    "duration": 73,
    "start_time": "2022-10-10T14:33:56.166Z"
   },
   {
    "duration": 174,
    "start_time": "2022-10-10T14:33:56.241Z"
   },
   {
    "duration": 236,
    "start_time": "2022-10-10T14:33:56.417Z"
   },
   {
    "duration": 19,
    "start_time": "2022-10-10T14:33:56.655Z"
   },
   {
    "duration": 33,
    "start_time": "2022-10-10T14:33:56.676Z"
   },
   {
    "duration": 40,
    "start_time": "2022-10-10T14:33:56.711Z"
   },
   {
    "duration": 78,
    "start_time": "2022-10-10T14:33:56.753Z"
   },
   {
    "duration": 12,
    "start_time": "2022-10-10T14:33:56.833Z"
   },
   {
    "duration": 3,
    "start_time": "2022-10-10T14:33:56.847Z"
   },
   {
    "duration": 10,
    "start_time": "2022-10-10T14:33:56.851Z"
   },
   {
    "duration": 44,
    "start_time": "2022-10-10T14:33:56.862Z"
   },
   {
    "duration": 564954,
    "start_time": "2022-10-10T14:34:42.862Z"
   },
   {
    "duration": 4,
    "start_time": "2022-10-10T15:11:27.355Z"
   },
   {
    "duration": 750744,
    "start_time": "2022-10-10T15:36:52.962Z"
   },
   {
    "duration": 4,
    "start_time": "2022-10-10T15:57:18.556Z"
   },
   {
    "duration": 101,
    "start_time": "2022-10-10T15:57:36.977Z"
   },
   {
    "duration": 228,
    "start_time": "2022-10-10T15:58:25.826Z"
   },
   {
    "duration": 14969,
    "start_time": "2022-10-10T16:02:18.894Z"
   },
   {
    "duration": 14720,
    "start_time": "2022-10-10T16:06:09.851Z"
   },
   {
    "duration": 439,
    "start_time": "2022-10-10T16:33:26.102Z"
   },
   {
    "duration": 3,
    "start_time": "2022-10-10T16:33:39.717Z"
   },
   {
    "duration": 487,
    "start_time": "2022-10-10T16:33:47.357Z"
   },
   {
    "duration": 4,
    "start_time": "2022-10-10T16:53:33.396Z"
   },
   {
    "duration": 4,
    "start_time": "2022-10-10T16:53:43.759Z"
   },
   {
    "duration": 11,
    "start_time": "2022-10-10T16:53:54.394Z"
   },
   {
    "duration": 3,
    "start_time": "2022-10-10T16:54:16.096Z"
   },
   {
    "duration": 4,
    "start_time": "2022-10-10T16:54:38.972Z"
   },
   {
    "duration": 1293,
    "start_time": "2022-10-10T16:54:45.178Z"
   },
   {
    "duration": 128,
    "start_time": "2022-10-10T17:03:57.977Z"
   },
   {
    "duration": 100,
    "start_time": "2022-10-10T17:07:29.558Z"
   },
   {
    "duration": 954,
    "start_time": "2022-10-10T17:08:48.333Z"
   },
   {
    "duration": 11406,
    "start_time": "2022-10-10T17:28:55.180Z"
   },
   {
    "duration": 11357,
    "start_time": "2022-10-10T17:30:15.534Z"
   },
   {
    "duration": 1588,
    "start_time": "2022-10-10T17:33:32.588Z"
   },
   {
    "duration": 15066,
    "start_time": "2022-10-10T17:41:16.124Z"
   },
   {
    "duration": 11940,
    "start_time": "2022-10-10T17:46:23.194Z"
   },
   {
    "duration": 83,
    "start_time": "2022-10-10T18:06:47.075Z"
   },
   {
    "duration": 3,
    "start_time": "2022-10-10T18:07:09.582Z"
   },
   {
    "duration": 678,
    "start_time": "2022-10-10T18:07:09.589Z"
   },
   {
    "duration": 17,
    "start_time": "2022-10-10T18:07:10.268Z"
   },
   {
    "duration": 27,
    "start_time": "2022-10-10T18:07:10.286Z"
   },
   {
    "duration": 17,
    "start_time": "2022-10-10T18:07:10.315Z"
   },
   {
    "duration": 18,
    "start_time": "2022-10-10T18:07:10.334Z"
   },
   {
    "duration": 18,
    "start_time": "2022-10-10T18:07:10.354Z"
   },
   {
    "duration": 38,
    "start_time": "2022-10-10T18:07:10.373Z"
   },
   {
    "duration": 8,
    "start_time": "2022-10-10T18:07:10.413Z"
   },
   {
    "duration": 4,
    "start_time": "2022-10-10T18:07:10.422Z"
   },
   {
    "duration": 15,
    "start_time": "2022-10-10T18:07:10.429Z"
   },
   {
    "duration": 12,
    "start_time": "2022-10-10T18:07:10.445Z"
   },
   {
    "duration": 5,
    "start_time": "2022-10-10T18:07:10.458Z"
   },
   {
    "duration": 41,
    "start_time": "2022-10-10T18:07:10.465Z"
   },
   {
    "duration": 26,
    "start_time": "2022-10-10T18:07:10.508Z"
   },
   {
    "duration": 7,
    "start_time": "2022-10-10T18:07:10.535Z"
   },
   {
    "duration": 7,
    "start_time": "2022-10-10T18:07:10.543Z"
   },
   {
    "duration": 129,
    "start_time": "2022-10-10T18:07:10.551Z"
   },
   {
    "duration": 26,
    "start_time": "2022-10-10T18:07:10.682Z"
   },
   {
    "duration": 3,
    "start_time": "2022-10-10T18:07:10.710Z"
   },
   {
    "duration": 7,
    "start_time": "2022-10-10T18:07:10.715Z"
   },
   {
    "duration": 148,
    "start_time": "2022-10-10T18:07:10.723Z"
   },
   {
    "duration": 208,
    "start_time": "2022-10-10T18:07:10.873Z"
   },
   {
    "duration": 286,
    "start_time": "2022-10-10T18:07:11.082Z"
   },
   {
    "duration": 4,
    "start_time": "2022-10-10T18:07:11.370Z"
   },
   {
    "duration": 30,
    "start_time": "2022-10-10T18:07:11.375Z"
   },
   {
    "duration": 123,
    "start_time": "2022-10-10T18:07:11.407Z"
   },
   {
    "duration": 8,
    "start_time": "2022-10-10T18:07:11.531Z"
   },
   {
    "duration": 16,
    "start_time": "2022-10-10T18:07:11.542Z"
   },
   {
    "duration": 108,
    "start_time": "2022-10-10T18:07:11.560Z"
   },
   {
    "duration": 9,
    "start_time": "2022-10-10T18:07:11.670Z"
   },
   {
    "duration": 32,
    "start_time": "2022-10-10T18:07:11.680Z"
   },
   {
    "duration": 16,
    "start_time": "2022-10-10T18:07:11.714Z"
   },
   {
    "duration": 20,
    "start_time": "2022-10-10T18:07:11.732Z"
   },
   {
    "duration": 39,
    "start_time": "2022-10-10T18:07:11.753Z"
   },
   {
    "duration": 138,
    "start_time": "2022-10-10T18:07:11.794Z"
   },
   {
    "duration": 208,
    "start_time": "2022-10-10T18:07:11.934Z"
   },
   {
    "duration": 14,
    "start_time": "2022-10-10T18:07:12.143Z"
   },
   {
    "duration": 14,
    "start_time": "2022-10-10T18:07:12.159Z"
   },
   {
    "duration": 285,
    "start_time": "2022-10-10T18:07:12.175Z"
   },
   {
    "duration": 20,
    "start_time": "2022-10-10T18:07:12.462Z"
   },
   {
    "duration": 21,
    "start_time": "2022-10-10T18:07:12.484Z"
   },
   {
    "duration": 23,
    "start_time": "2022-10-10T18:07:12.507Z"
   },
   {
    "duration": 12,
    "start_time": "2022-10-10T18:07:12.532Z"
   },
   {
    "duration": 244,
    "start_time": "2022-10-10T18:07:12.545Z"
   },
   {
    "duration": 3,
    "start_time": "2022-10-10T18:09:39.322Z"
   },
   {
    "duration": 1116,
    "start_time": "2022-10-10T19:18:07.501Z"
   },
   {
    "duration": 3088,
    "start_time": "2022-10-10T19:18:10.569Z"
   },
   {
    "duration": 24,
    "start_time": "2022-10-10T19:18:13.659Z"
   },
   {
    "duration": 15,
    "start_time": "2022-10-10T19:18:15.439Z"
   },
   {
    "duration": 24,
    "start_time": "2022-10-10T19:18:18.161Z"
   },
   {
    "duration": 13,
    "start_time": "2022-10-10T19:18:19.728Z"
   },
   {
    "duration": 28,
    "start_time": "2022-10-10T19:18:22.069Z"
   },
   {
    "duration": 26,
    "start_time": "2022-10-10T19:18:23.606Z"
   },
   {
    "duration": 18,
    "start_time": "2022-10-10T19:18:26.233Z"
   },
   {
    "duration": 8,
    "start_time": "2022-10-10T19:18:29.446Z"
   },
   {
    "duration": 6,
    "start_time": "2022-10-10T19:18:32.188Z"
   },
   {
    "duration": 4,
    "start_time": "2022-10-10T19:18:34.633Z"
   },
   {
    "duration": 10,
    "start_time": "2022-10-10T19:18:37.907Z"
   },
   {
    "duration": 6,
    "start_time": "2022-10-10T19:18:48.515Z"
   },
   {
    "duration": 12,
    "start_time": "2022-10-10T19:18:51.641Z"
   },
   {
    "duration": 25,
    "start_time": "2022-10-10T19:18:54.186Z"
   },
   {
    "duration": 7,
    "start_time": "2022-10-10T19:18:58.865Z"
   },
   {
    "duration": 7,
    "start_time": "2022-10-10T19:19:00.724Z"
   },
   {
    "duration": 156,
    "start_time": "2022-10-10T19:19:02.217Z"
   },
   {
    "duration": 25,
    "start_time": "2022-10-10T19:19:03.150Z"
   },
   {
    "duration": 5,
    "start_time": "2022-10-10T19:19:05.946Z"
   },
   {
    "duration": 4,
    "start_time": "2022-10-10T19:19:08.206Z"
   },
   {
    "duration": 512,
    "start_time": "2022-10-10T19:19:09.422Z"
   },
   {
    "duration": 192,
    "start_time": "2022-10-10T19:19:28.573Z"
   },
   {
    "duration": 174,
    "start_time": "2022-10-10T19:19:35.952Z"
   },
   {
    "duration": 4,
    "start_time": "2022-10-10T19:19:39.314Z"
   },
   {
    "duration": 4,
    "start_time": "2022-10-10T19:19:41.245Z"
   },
   {
    "duration": 71,
    "start_time": "2022-10-10T19:19:43.924Z"
   },
   {
    "duration": 11,
    "start_time": "2022-10-10T19:19:46.339Z"
   },
   {
    "duration": 7,
    "start_time": "2022-10-10T19:19:52.100Z"
   },
   {
    "duration": 10,
    "start_time": "2022-10-10T19:19:53.158Z"
   },
   {
    "duration": 81,
    "start_time": "2022-10-10T19:19:54.744Z"
   },
   {
    "duration": 8,
    "start_time": "2022-10-10T19:19:56.956Z"
   },
   {
    "duration": 10,
    "start_time": "2022-10-10T19:19:58.919Z"
   },
   {
    "duration": 5,
    "start_time": "2022-10-10T19:20:00.927Z"
   },
   {
    "duration": 4,
    "start_time": "2022-10-10T19:20:03.004Z"
   },
   {
    "duration": 25,
    "start_time": "2022-10-10T19:20:05.420Z"
   },
   {
    "duration": 165,
    "start_time": "2022-10-10T19:20:08.038Z"
   },
   {
    "duration": 279,
    "start_time": "2022-10-10T19:20:12.705Z"
   },
   {
    "duration": 19,
    "start_time": "2022-10-10T19:20:17.378Z"
   },
   {
    "duration": 5,
    "start_time": "2022-10-10T19:20:26.133Z"
   },
   {
    "duration": 16,
    "start_time": "2022-10-10T19:20:28.418Z"
   },
   {
    "duration": 22,
    "start_time": "2022-10-10T19:20:31.676Z"
   },
   {
    "duration": 9,
    "start_time": "2022-10-10T19:20:35.543Z"
   },
   {
    "duration": 3,
    "start_time": "2022-10-10T19:20:38.093Z"
   },
   {
    "duration": 310,
    "start_time": "2022-10-10T19:20:42.624Z"
   },
   {
    "duration": 3,
    "start_time": "2022-10-10T19:20:45.908Z"
   },
   {
    "duration": 61850,
    "start_time": "2022-10-10T19:21:02.559Z"
   },
   {
    "duration": 671003,
    "start_time": "2022-10-10T19:23:54.625Z"
   },
   {
    "duration": 2538943,
    "start_time": "2022-10-10T19:37:32.005Z"
   },
   {
    "duration": 304755,
    "start_time": "2022-10-10T20:23:57.177Z"
   },
   {
    "duration": 324678,
    "start_time": "2022-10-10T20:32:43.329Z"
   },
   {
    "duration": 612,
    "start_time": "2022-10-10T20:43:10.344Z"
   },
   {
    "duration": 2,
    "start_time": "2022-10-10T20:44:15.902Z"
   },
   {
    "duration": 270,
    "start_time": "2022-10-10T20:45:04.990Z"
   },
   {
    "duration": 267389,
    "start_time": "2022-10-10T20:45:17.968Z"
   },
   {
    "duration": 1381,
    "start_time": "2022-10-10T20:55:29.425Z"
   },
   {
    "duration": 9,
    "start_time": "2022-10-10T20:55:37.021Z"
   },
   {
    "duration": 1292,
    "start_time": "2022-10-10T20:58:30.203Z"
   },
   {
    "duration": 1355,
    "start_time": "2022-10-10T20:58:40.568Z"
   },
   {
    "duration": 1173,
    "start_time": "2022-10-11T09:55:00.550Z"
   },
   {
    "duration": 2214,
    "start_time": "2022-10-11T09:55:01.725Z"
   },
   {
    "duration": 19,
    "start_time": "2022-10-11T09:55:03.943Z"
   },
   {
    "duration": 25,
    "start_time": "2022-10-11T09:55:03.963Z"
   },
   {
    "duration": 12,
    "start_time": "2022-10-11T09:55:03.990Z"
   },
   {
    "duration": 18,
    "start_time": "2022-10-11T09:55:04.003Z"
   },
   {
    "duration": 19,
    "start_time": "2022-10-11T09:55:04.022Z"
   },
   {
    "duration": 17,
    "start_time": "2022-10-11T09:55:04.042Z"
   },
   {
    "duration": 28,
    "start_time": "2022-10-11T09:55:04.061Z"
   },
   {
    "duration": 6,
    "start_time": "2022-10-11T09:55:04.092Z"
   },
   {
    "duration": 13,
    "start_time": "2022-10-11T09:55:04.099Z"
   },
   {
    "duration": 14,
    "start_time": "2022-10-11T09:55:04.113Z"
   },
   {
    "duration": 6,
    "start_time": "2022-10-11T09:55:04.128Z"
   },
   {
    "duration": 16,
    "start_time": "2022-10-11T09:55:04.135Z"
   },
   {
    "duration": 79,
    "start_time": "2022-10-11T09:55:04.152Z"
   },
   {
    "duration": 7,
    "start_time": "2022-10-11T09:55:04.232Z"
   },
   {
    "duration": 8,
    "start_time": "2022-10-11T09:55:04.241Z"
   },
   {
    "duration": 127,
    "start_time": "2022-10-11T09:55:04.251Z"
   },
   {
    "duration": 24,
    "start_time": "2022-10-11T09:55:04.380Z"
   },
   {
    "duration": 4,
    "start_time": "2022-10-11T09:55:04.405Z"
   },
   {
    "duration": 10,
    "start_time": "2022-10-11T09:55:04.410Z"
   },
   {
    "duration": 434,
    "start_time": "2022-10-11T09:55:04.422Z"
   },
   {
    "duration": 256,
    "start_time": "2022-10-11T09:55:04.858Z"
   },
   {
    "duration": 230,
    "start_time": "2022-10-11T09:55:05.115Z"
   },
   {
    "duration": 4,
    "start_time": "2022-10-11T09:55:05.347Z"
   },
   {
    "duration": 11,
    "start_time": "2022-10-11T09:55:05.353Z"
   },
   {
    "duration": 148,
    "start_time": "2022-10-11T09:55:05.384Z"
   },
   {
    "duration": 8,
    "start_time": "2022-10-11T09:55:05.586Z"
   },
   {
    "duration": 7,
    "start_time": "2022-10-11T09:55:05.595Z"
   },
   {
    "duration": 104,
    "start_time": "2022-10-11T09:55:05.603Z"
   },
   {
    "duration": 8,
    "start_time": "2022-10-11T09:55:05.709Z"
   },
   {
    "duration": 10,
    "start_time": "2022-10-11T09:55:05.718Z"
   },
   {
    "duration": 8,
    "start_time": "2022-10-11T09:55:05.729Z"
   },
   {
    "duration": 47,
    "start_time": "2022-10-11T09:55:05.738Z"
   },
   {
    "duration": 102,
    "start_time": "2022-10-11T09:55:05.787Z"
   },
   {
    "duration": 150,
    "start_time": "2022-10-11T09:55:05.891Z"
   },
   {
    "duration": 217,
    "start_time": "2022-10-11T09:55:06.043Z"
   },
   {
    "duration": 38,
    "start_time": "2022-10-11T09:55:06.262Z"
   },
   {
    "duration": 5,
    "start_time": "2022-10-11T09:55:06.301Z"
   },
   {
    "duration": 78,
    "start_time": "2022-10-11T09:55:06.307Z"
   },
   {
    "duration": 24,
    "start_time": "2022-10-11T09:55:06.387Z"
   },
   {
    "duration": 8,
    "start_time": "2022-10-11T09:55:06.412Z"
   },
   {
    "duration": 3,
    "start_time": "2022-10-11T09:55:19.365Z"
   },
   {
    "duration": 199,
    "start_time": "2022-10-11T09:55:21.326Z"
   },
   {
    "duration": 4,
    "start_time": "2022-10-11T09:56:22.592Z"
   },
   {
    "duration": 206,
    "start_time": "2022-10-11T09:56:24.489Z"
   },
   {
    "duration": 3,
    "start_time": "2022-10-11T09:57:10.272Z"
   },
   {
    "duration": 122,
    "start_time": "2022-10-11T09:57:26.950Z"
   },
   {
    "duration": 6,
    "start_time": "2022-10-11T09:57:31.885Z"
   },
   {
    "duration": 3,
    "start_time": "2022-10-11T10:00:57.641Z"
   },
   {
    "duration": 3,
    "start_time": "2022-10-11T10:01:25.362Z"
   },
   {
    "duration": 8,
    "start_time": "2022-10-11T10:01:26.949Z"
   },
   {
    "duration": 3,
    "start_time": "2022-10-11T10:04:21.559Z"
   },
   {
    "duration": 5,
    "start_time": "2022-10-11T10:04:23.849Z"
   },
   {
    "duration": 205,
    "start_time": "2022-10-11T10:04:30.484Z"
   },
   {
    "duration": 247346,
    "start_time": "2022-10-11T10:04:42.458Z"
   },
   {
    "duration": 9,
    "start_time": "2022-10-11T10:16:47.490Z"
   },
   {
    "duration": 30094,
    "start_time": "2022-10-11T10:17:01.068Z"
   },
   {
    "duration": 700415,
    "start_time": "2022-10-11T11:05:51.124Z"
   },
   {
    "duration": 93,
    "start_time": "2022-10-11T11:17:31.541Z"
   },
   {
    "duration": 1204,
    "start_time": "2022-10-11T11:22:08.481Z"
   },
   {
    "duration": 1310,
    "start_time": "2022-10-11T11:22:29.576Z"
   },
   {
    "duration": 1209,
    "start_time": "2022-10-11T11:23:57.084Z"
   },
   {
    "duration": 212,
    "start_time": "2022-10-11T11:27:55.397Z"
   },
   {
    "duration": 204,
    "start_time": "2022-10-11T11:28:13.239Z"
   },
   {
    "duration": 387,
    "start_time": "2022-10-11T11:28:25.728Z"
   },
   {
    "duration": 4,
    "start_time": "2022-10-11T11:30:16.584Z"
   },
   {
    "duration": 8,
    "start_time": "2022-10-11T11:30:39.375Z"
   },
   {
    "duration": 7,
    "start_time": "2022-10-11T11:30:42.928Z"
   },
   {
    "duration": 4,
    "start_time": "2022-10-11T11:30:50.343Z"
   },
   {
    "duration": 4,
    "start_time": "2022-10-11T11:33:14.156Z"
   },
   {
    "duration": 4102,
    "start_time": "2022-10-11T11:33:48.542Z"
   },
   {
    "duration": 153573,
    "start_time": "2022-10-11T11:38:44.028Z"
   },
   {
    "duration": 481135,
    "start_time": "2022-10-11T11:54:25.652Z"
   },
   {
    "duration": 809756,
    "start_time": "2022-10-11T12:04:04.108Z"
   },
   {
    "duration": 1285674,
    "start_time": "2022-10-11T12:19:33.282Z"
   },
   {
    "duration": 3,
    "start_time": "2022-10-11T12:41:14.667Z"
   },
   {
    "duration": 4,
    "start_time": "2022-10-11T12:46:24.703Z"
   },
   {
    "duration": 595136,
    "start_time": "2022-10-11T12:46:28.119Z"
   },
   {
    "duration": 590479,
    "start_time": "2022-10-11T12:58:33.502Z"
   },
   {
    "duration": 4,
    "start_time": "2022-10-11T13:23:28.656Z"
   },
   {
    "duration": 616675,
    "start_time": "2022-10-11T13:24:18.301Z"
   },
   {
    "duration": 3,
    "start_time": "2022-10-11T14:06:04.110Z"
   },
   {
    "duration": 1554,
    "start_time": "2022-10-11T14:06:07.048Z"
   },
   {
    "duration": 15,
    "start_time": "2022-10-11T14:06:08.829Z"
   },
   {
    "duration": 20,
    "start_time": "2022-10-11T14:06:13.449Z"
   },
   {
    "duration": 12,
    "start_time": "2022-10-11T14:06:16.270Z"
   },
   {
    "duration": 19,
    "start_time": "2022-10-11T14:06:19.750Z"
   },
   {
    "duration": 17,
    "start_time": "2022-10-11T14:06:22.162Z"
   },
   {
    "duration": 21,
    "start_time": "2022-10-11T14:06:26.362Z"
   },
   {
    "duration": 8,
    "start_time": "2022-10-11T14:06:29.809Z"
   },
   {
    "duration": 5,
    "start_time": "2022-10-11T14:06:33.517Z"
   },
   {
    "duration": 5,
    "start_time": "2022-10-11T14:06:36.986Z"
   },
   {
    "duration": 10,
    "start_time": "2022-10-11T14:06:40.969Z"
   },
   {
    "duration": 6,
    "start_time": "2022-10-11T14:06:44.610Z"
   },
   {
    "duration": 12,
    "start_time": "2022-10-11T14:06:47.318Z"
   },
   {
    "duration": 26,
    "start_time": "2022-10-11T14:06:50.613Z"
   },
   {
    "duration": 7,
    "start_time": "2022-10-11T14:06:54.089Z"
   },
   {
    "duration": 7,
    "start_time": "2022-10-11T14:06:56.329Z"
   },
   {
    "duration": 3,
    "start_time": "2022-10-11T14:07:09.670Z"
   },
   {
    "duration": 1661,
    "start_time": "2022-10-11T14:07:46.929Z"
   },
   {
    "duration": 5,
    "start_time": "2022-10-11T14:08:02.630Z"
   },
   {
    "duration": 3,
    "start_time": "2022-10-11T14:08:05.452Z"
   },
   {
    "duration": 23,
    "start_time": "2022-10-11T14:08:07.910Z"
   },
   {
    "duration": 165,
    "start_time": "2022-10-11T14:08:10.398Z"
   },
   {
    "duration": 155,
    "start_time": "2022-10-11T14:08:14.717Z"
   },
   {
    "duration": 12,
    "start_time": "2022-10-11T14:08:20.789Z"
   },
   {
    "duration": 5,
    "start_time": "2022-10-11T14:08:25.429Z"
   },
   {
    "duration": 15,
    "start_time": "2022-10-11T14:08:28.989Z"
   },
   {
    "duration": 21,
    "start_time": "2022-10-11T14:08:33.309Z"
   },
   {
    "duration": 8,
    "start_time": "2022-10-11T14:08:37.169Z"
   },
   {
    "duration": 3,
    "start_time": "2022-10-11T14:08:39.405Z"
   },
   {
    "duration": 4,
    "start_time": "2022-10-11T14:09:33.989Z"
   },
   {
    "duration": 171102,
    "start_time": "2022-10-11T14:09:39.750Z"
   },
   {
    "duration": 5,
    "start_time": "2022-10-11T14:13:24.089Z"
   },
   {
    "duration": 4,
    "start_time": "2022-10-11T14:13:52.689Z"
   },
   {
    "duration": 3,
    "start_time": "2022-10-11T14:15:34.287Z"
   },
   {
    "duration": 4,
    "start_time": "2022-10-11T14:15:54.289Z"
   },
   {
    "duration": 4,
    "start_time": "2022-10-11T14:16:06.809Z"
   },
   {
    "duration": 169833,
    "start_time": "2022-10-11T14:16:33.949Z"
   },
   {
    "duration": 4,
    "start_time": "2022-10-11T14:21:19.030Z"
   },
   {
    "duration": 4,
    "start_time": "2022-10-11T14:21:53.009Z"
   },
   {
    "duration": 168964,
    "start_time": "2022-10-11T14:21:55.949Z"
   },
   {
    "duration": 169276,
    "start_time": "2022-10-11T14:26:17.750Z"
   },
   {
    "duration": 21366,
    "start_time": "2022-10-11T14:33:08.870Z"
   },
   {
    "duration": 18116,
    "start_time": "2022-10-11T14:36:12.690Z"
   },
   {
    "duration": 34,
    "start_time": "2022-10-11T14:43:07.689Z"
   },
   {
    "duration": 26,
    "start_time": "2022-10-11T14:43:53.484Z"
   },
   {
    "duration": 27,
    "start_time": "2022-10-11T14:44:26.699Z"
   },
   {
    "duration": 4,
    "start_time": "2022-10-11T14:45:34.211Z"
   },
   {
    "duration": 23,
    "start_time": "2022-10-11T15:11:44.443Z"
   },
   {
    "duration": 4,
    "start_time": "2022-10-11T15:11:46.662Z"
   },
   {
    "duration": 3,
    "start_time": "2022-10-11T15:14:18.823Z"
   },
   {
    "duration": 1166,
    "start_time": "2022-10-11T15:15:28.025Z"
   },
   {
    "duration": 1164,
    "start_time": "2022-10-11T15:16:09.931Z"
   },
   {
    "duration": 1051,
    "start_time": "2022-10-11T15:16:21.434Z"
   },
   {
    "duration": 1084,
    "start_time": "2022-10-11T15:20:15.720Z"
   },
   {
    "duration": 596,
    "start_time": "2022-10-11T15:20:18.559Z"
   },
   {
    "duration": 17,
    "start_time": "2022-10-11T15:20:21.479Z"
   },
   {
    "duration": 26,
    "start_time": "2022-10-11T15:20:24.918Z"
   },
   {
    "duration": 15,
    "start_time": "2022-10-11T15:20:27.143Z"
   },
   {
    "duration": 19,
    "start_time": "2022-10-11T15:20:30.179Z"
   },
   {
    "duration": 18,
    "start_time": "2022-10-11T15:20:33.139Z"
   },
   {
    "duration": 19,
    "start_time": "2022-10-11T15:20:36.759Z"
   },
   {
    "duration": 9,
    "start_time": "2022-10-11T15:20:41.659Z"
   },
   {
    "duration": 4,
    "start_time": "2022-10-11T15:20:47.459Z"
   },
   {
    "duration": 5,
    "start_time": "2022-10-11T15:20:54.958Z"
   },
   {
    "duration": 10,
    "start_time": "2022-10-11T15:20:59.218Z"
   },
   {
    "duration": 6,
    "start_time": "2022-10-11T15:21:02.019Z"
   },
   {
    "duration": 18,
    "start_time": "2022-10-11T15:21:05.420Z"
   },
   {
    "duration": 26,
    "start_time": "2022-10-11T15:21:12.979Z"
   },
   {
    "duration": 7,
    "start_time": "2022-10-11T15:21:16.058Z"
   },
   {
    "duration": 5,
    "start_time": "2022-10-11T15:21:20.379Z"
   },
   {
    "duration": 117,
    "start_time": "2022-10-11T15:21:22.939Z"
   },
   {
    "duration": 22,
    "start_time": "2022-10-11T15:21:24.539Z"
   },
   {
    "duration": 4,
    "start_time": "2022-10-11T15:21:28.240Z"
   },
   {
    "duration": 5,
    "start_time": "2022-10-11T15:21:31.979Z"
   },
   {
    "duration": 419,
    "start_time": "2022-10-11T15:21:33.978Z"
   },
   {
    "duration": 140,
    "start_time": "2022-10-11T15:21:41.105Z"
   },
   {
    "duration": 144,
    "start_time": "2022-10-11T15:21:48.573Z"
   },
   {
    "duration": 4,
    "start_time": "2022-10-11T15:21:54.659Z"
   },
   {
    "duration": 4,
    "start_time": "2022-10-11T15:21:59.080Z"
   },
   {
    "duration": 67,
    "start_time": "2022-10-11T15:22:00.840Z"
   },
   {
    "duration": 8,
    "start_time": "2022-10-11T15:22:03.859Z"
   },
   {
    "duration": 9,
    "start_time": "2022-10-11T15:22:06.259Z"
   },
   {
    "duration": 76,
    "start_time": "2022-10-11T15:22:11.020Z"
   },
   {
    "duration": 8,
    "start_time": "2022-10-11T15:22:15.460Z"
   },
   {
    "duration": 9,
    "start_time": "2022-10-11T15:22:17.979Z"
   },
   {
    "duration": 4,
    "start_time": "2022-10-11T15:22:21.359Z"
   },
   {
    "duration": 2,
    "start_time": "2022-10-11T15:22:24.340Z"
   },
   {
    "duration": 31,
    "start_time": "2022-10-11T15:22:26.599Z"
   },
   {
    "duration": 154,
    "start_time": "2022-10-11T15:22:29.101Z"
   },
   {
    "duration": 196,
    "start_time": "2022-10-11T15:22:36.780Z"
   },
   {
    "duration": 32,
    "start_time": "2022-10-11T15:22:42.099Z"
   },
   {
    "duration": 5,
    "start_time": "2022-10-11T15:22:46.559Z"
   },
   {
    "duration": 18,
    "start_time": "2022-10-11T15:22:50.541Z"
   },
   {
    "duration": 26,
    "start_time": "2022-10-11T15:22:53.979Z"
   },
   {
    "duration": 114,
    "start_time": "2022-10-11T15:22:57.818Z"
   },
   {
    "duration": 9,
    "start_time": "2022-10-11T15:24:08.518Z"
   },
   {
    "duration": 3,
    "start_time": "2022-10-11T15:24:14.161Z"
   },
   {
    "duration": 4,
    "start_time": "2022-10-11T15:30:50.598Z"
   },
   {
    "duration": 4,
    "start_time": "2022-10-11T15:31:04.199Z"
   },
   {
    "duration": 137,
    "start_time": "2022-10-11T15:31:13.870Z"
   },
   {
    "duration": 3,
    "start_time": "2022-10-11T15:31:40.400Z"
   },
   {
    "duration": 4,
    "start_time": "2022-10-11T15:31:46.619Z"
   },
   {
    "duration": 104,
    "start_time": "2022-10-11T15:31:48.860Z"
   },
   {
    "duration": 3,
    "start_time": "2022-10-11T15:32:01.260Z"
   },
   {
    "duration": 105971,
    "start_time": "2022-10-11T15:32:03.519Z"
   },
   {
    "duration": 21466,
    "start_time": "2022-10-11T15:35:26.899Z"
   },
   {
    "duration": 5,
    "start_time": "2022-10-11T15:36:55.679Z"
   },
   {
    "duration": 3,
    "start_time": "2022-10-11T15:37:18.719Z"
   },
   {
    "duration": 690,
    "start_time": "2022-10-11T15:37:18.724Z"
   },
   {
    "duration": 15,
    "start_time": "2022-10-11T15:37:19.416Z"
   },
   {
    "duration": 18,
    "start_time": "2022-10-11T15:37:19.432Z"
   },
   {
    "duration": 13,
    "start_time": "2022-10-11T15:37:19.452Z"
   },
   {
    "duration": 35,
    "start_time": "2022-10-11T15:37:19.466Z"
   },
   {
    "duration": 16,
    "start_time": "2022-10-11T15:37:19.502Z"
   },
   {
    "duration": 18,
    "start_time": "2022-10-11T15:37:19.520Z"
   },
   {
    "duration": 8,
    "start_time": "2022-10-11T15:37:19.540Z"
   },
   {
    "duration": 4,
    "start_time": "2022-10-11T15:37:19.550Z"
   },
   {
    "duration": 30,
    "start_time": "2022-10-11T15:37:19.556Z"
   },
   {
    "duration": 14,
    "start_time": "2022-10-11T15:37:19.587Z"
   },
   {
    "duration": 6,
    "start_time": "2022-10-11T15:37:19.602Z"
   },
   {
    "duration": 12,
    "start_time": "2022-10-11T15:37:19.609Z"
   },
   {
    "duration": 24,
    "start_time": "2022-10-11T15:37:19.622Z"
   },
   {
    "duration": 6,
    "start_time": "2022-10-11T15:37:19.647Z"
   },
   {
    "duration": 31,
    "start_time": "2022-10-11T15:37:19.654Z"
   },
   {
    "duration": 126,
    "start_time": "2022-10-11T15:37:19.686Z"
   },
   {
    "duration": 23,
    "start_time": "2022-10-11T15:37:19.814Z"
   },
   {
    "duration": 5,
    "start_time": "2022-10-11T15:37:19.838Z"
   },
   {
    "duration": 6,
    "start_time": "2022-10-11T15:37:19.844Z"
   },
   {
    "duration": 170,
    "start_time": "2022-10-11T15:37:19.851Z"
   },
   {
    "duration": 235,
    "start_time": "2022-10-11T15:37:20.023Z"
   },
   {
    "duration": 233,
    "start_time": "2022-10-11T15:37:20.262Z"
   },
   {
    "duration": 4,
    "start_time": "2022-10-11T15:37:20.496Z"
   },
   {
    "duration": 9,
    "start_time": "2022-10-11T15:37:20.502Z"
   },
   {
    "duration": 114,
    "start_time": "2022-10-11T15:37:20.513Z"
   },
   {
    "duration": 8,
    "start_time": "2022-10-11T15:37:20.629Z"
   },
   {
    "duration": 8,
    "start_time": "2022-10-11T15:37:20.685Z"
   },
   {
    "duration": 101,
    "start_time": "2022-10-11T15:37:20.695Z"
   },
   {
    "duration": 8,
    "start_time": "2022-10-11T15:37:20.798Z"
   },
   {
    "duration": 12,
    "start_time": "2022-10-11T15:37:20.807Z"
   },
   {
    "duration": 18,
    "start_time": "2022-10-11T15:37:20.820Z"
   },
   {
    "duration": 6,
    "start_time": "2022-10-11T15:37:20.840Z"
   },
   {
    "duration": 51,
    "start_time": "2022-10-11T15:37:20.848Z"
   },
   {
    "duration": 154,
    "start_time": "2022-10-11T15:37:20.901Z"
   },
   {
    "duration": 213,
    "start_time": "2022-10-11T15:37:21.056Z"
   },
   {
    "duration": 26,
    "start_time": "2022-10-11T15:37:21.271Z"
   },
   {
    "duration": 4,
    "start_time": "2022-10-11T15:37:21.299Z"
   },
   {
    "duration": 21,
    "start_time": "2022-10-11T15:37:21.305Z"
   },
   {
    "duration": 76,
    "start_time": "2022-10-11T15:37:21.327Z"
   },
   {
    "duration": 9,
    "start_time": "2022-10-11T15:37:21.404Z"
   },
   {
    "duration": 12,
    "start_time": "2022-10-11T15:37:21.414Z"
   },
   {
    "duration": 8,
    "start_time": "2022-10-11T15:37:21.428Z"
   },
   {
    "duration": 172924,
    "start_time": "2022-10-11T15:37:21.437Z"
   },
   {
    "duration": 22102,
    "start_time": "2022-10-11T15:40:14.363Z"
   },
   {
    "duration": 1088,
    "start_time": "2022-10-11T15:41:21.980Z"
   },
   {
    "duration": 646,
    "start_time": "2022-10-11T15:41:23.070Z"
   },
   {
    "duration": 17,
    "start_time": "2022-10-11T15:41:23.717Z"
   },
   {
    "duration": 25,
    "start_time": "2022-10-11T15:41:23.735Z"
   },
   {
    "duration": 27,
    "start_time": "2022-10-11T15:41:23.762Z"
   },
   {
    "duration": 21,
    "start_time": "2022-10-11T15:41:23.790Z"
   },
   {
    "duration": 25,
    "start_time": "2022-10-11T15:41:23.813Z"
   },
   {
    "duration": 21,
    "start_time": "2022-10-11T15:41:23.841Z"
   },
   {
    "duration": 27,
    "start_time": "2022-10-11T15:41:23.863Z"
   },
   {
    "duration": 4,
    "start_time": "2022-10-11T15:41:23.891Z"
   },
   {
    "duration": 7,
    "start_time": "2022-10-11T15:41:23.896Z"
   },
   {
    "duration": 13,
    "start_time": "2022-10-11T15:41:23.904Z"
   },
   {
    "duration": 6,
    "start_time": "2022-10-11T15:41:23.918Z"
   },
   {
    "duration": 21,
    "start_time": "2022-10-11T15:41:23.927Z"
   },
   {
    "duration": 46,
    "start_time": "2022-10-11T15:41:23.950Z"
   },
   {
    "duration": 6,
    "start_time": "2022-10-11T15:41:23.998Z"
   },
   {
    "duration": 8,
    "start_time": "2022-10-11T15:41:24.006Z"
   },
   {
    "duration": 128,
    "start_time": "2022-10-11T15:41:24.016Z"
   },
   {
    "duration": 22,
    "start_time": "2022-10-11T15:41:24.146Z"
   },
   {
    "duration": 4,
    "start_time": "2022-10-11T15:41:24.169Z"
   },
   {
    "duration": 5,
    "start_time": "2022-10-11T15:41:24.185Z"
   },
   {
    "duration": 402,
    "start_time": "2022-10-11T15:41:24.191Z"
   },
   {
    "duration": 221,
    "start_time": "2022-10-11T15:41:24.595Z"
   },
   {
    "duration": 224,
    "start_time": "2022-10-11T15:41:24.818Z"
   },
   {
    "duration": 4,
    "start_time": "2022-10-11T15:41:25.044Z"
   },
   {
    "duration": 5,
    "start_time": "2022-10-11T15:41:25.050Z"
   },
   {
    "duration": 139,
    "start_time": "2022-10-11T15:41:25.056Z"
   },
   {
    "duration": 9,
    "start_time": "2022-10-11T15:41:25.196Z"
   },
   {
    "duration": 7,
    "start_time": "2022-10-11T15:41:25.207Z"
   },
   {
    "duration": 118,
    "start_time": "2022-10-11T15:41:25.215Z"
   },
   {
    "duration": 8,
    "start_time": "2022-10-11T15:41:25.335Z"
   },
   {
    "duration": 8,
    "start_time": "2022-10-11T15:41:25.344Z"
   },
   {
    "duration": 34,
    "start_time": "2022-10-11T15:41:25.353Z"
   },
   {
    "duration": 6,
    "start_time": "2022-10-11T15:41:25.389Z"
   },
   {
    "duration": 30,
    "start_time": "2022-10-11T15:41:25.396Z"
   },
   {
    "duration": 186,
    "start_time": "2022-10-11T15:41:25.428Z"
   },
   {
    "duration": 218,
    "start_time": "2022-10-11T15:41:25.616Z"
   },
   {
    "duration": 50,
    "start_time": "2022-10-11T15:41:25.836Z"
   },
   {
    "duration": 5,
    "start_time": "2022-10-11T15:41:25.887Z"
   },
   {
    "duration": 20,
    "start_time": "2022-10-11T15:41:25.893Z"
   },
   {
    "duration": 70,
    "start_time": "2022-10-11T15:41:25.916Z"
   },
   {
    "duration": 9,
    "start_time": "2022-10-11T15:41:25.987Z"
   },
   {
    "duration": 6,
    "start_time": "2022-10-11T15:41:25.997Z"
   },
   {
    "duration": 5,
    "start_time": "2022-10-11T15:41:26.005Z"
   },
   {
    "duration": 175852,
    "start_time": "2022-10-11T15:41:26.011Z"
   },
   {
    "duration": 21073,
    "start_time": "2022-10-11T15:44:21.864Z"
   },
   {
    "duration": 166656,
    "start_time": "2022-10-11T15:44:42.938Z"
   },
   {
    "duration": 17298,
    "start_time": "2022-10-11T15:47:29.596Z"
   },
   {
    "duration": 4,
    "start_time": "2022-10-11T15:47:53.139Z"
   },
   {
    "duration": 1007,
    "start_time": "2022-10-11T15:47:59.379Z"
   },
   {
    "duration": 1189,
    "start_time": "2022-10-11T15:48:04.099Z"
   },
   {
    "duration": 24,
    "start_time": "2022-10-11T15:48:09.939Z"
   },
   {
    "duration": 23,
    "start_time": "2022-10-11T15:48:13.619Z"
   },
   {
    "duration": 4,
    "start_time": "2022-10-11T15:48:16.439Z"
   },
   {
    "duration": 68,
    "start_time": "2022-10-11T15:48:57.300Z"
   },
   {
    "duration": 3,
    "start_time": "2022-10-11T15:49:04.579Z"
   },
   {
    "duration": 1220,
    "start_time": "2022-10-12T19:13:10.250Z"
   },
   {
    "duration": 3581,
    "start_time": "2022-10-12T19:13:11.473Z"
   },
   {
    "duration": 18,
    "start_time": "2022-10-12T19:13:15.056Z"
   },
   {
    "duration": 41,
    "start_time": "2022-10-12T19:13:15.076Z"
   },
   {
    "duration": 25,
    "start_time": "2022-10-12T19:13:15.119Z"
   },
   {
    "duration": 29,
    "start_time": "2022-10-12T19:13:15.146Z"
   },
   {
    "duration": 35,
    "start_time": "2022-10-12T19:13:15.177Z"
   },
   {
    "duration": 23,
    "start_time": "2022-10-12T19:13:15.214Z"
   },
   {
    "duration": 25,
    "start_time": "2022-10-12T19:13:15.239Z"
   },
   {
    "duration": 7,
    "start_time": "2022-10-12T19:13:15.266Z"
   },
   {
    "duration": 5,
    "start_time": "2022-10-12T19:15:46.591Z"
   },
   {
    "duration": 134,
    "start_time": "2022-10-12T19:16:09.532Z"
   },
   {
    "duration": 12,
    "start_time": "2022-10-12T19:16:28.618Z"
   },
   {
    "duration": 5,
    "start_time": "2022-10-12T19:16:30.841Z"
   },
   {
    "duration": 18,
    "start_time": "2022-10-12T19:16:43.301Z"
   },
   {
    "duration": 9,
    "start_time": "2022-10-12T19:17:10.373Z"
   },
   {
    "duration": 4,
    "start_time": "2022-10-12T19:18:31.311Z"
   },
   {
    "duration": 11,
    "start_time": "2022-10-12T19:19:56.324Z"
   },
   {
    "duration": 6,
    "start_time": "2022-10-12T19:19:59.775Z"
   },
   {
    "duration": 93,
    "start_time": "2022-10-12T19:28:41.725Z"
   },
   {
    "duration": 16,
    "start_time": "2022-10-12T19:29:03.357Z"
   },
   {
    "duration": 30,
    "start_time": "2022-10-12T19:29:36.379Z"
   },
   {
    "duration": 7,
    "start_time": "2022-10-12T19:29:43.219Z"
   },
   {
    "duration": 6,
    "start_time": "2022-10-12T19:29:45.341Z"
   },
   {
    "duration": 5,
    "start_time": "2022-10-12T19:30:01.674Z"
   },
   {
    "duration": 5,
    "start_time": "2022-10-12T19:30:04.284Z"
   },
   {
    "duration": 398,
    "start_time": "2022-10-12T19:30:06.057Z"
   },
   {
    "duration": 161,
    "start_time": "2022-10-12T19:30:10.839Z"
   },
   {
    "duration": 207,
    "start_time": "2022-10-12T19:30:13.684Z"
   },
   {
    "duration": 5,
    "start_time": "2022-10-12T19:33:33.314Z"
   },
   {
    "duration": 6,
    "start_time": "2022-10-12T19:33:36.920Z"
   },
   {
    "duration": 74,
    "start_time": "2022-10-12T19:33:40.353Z"
   },
   {
    "duration": 9,
    "start_time": "2022-10-12T19:33:44.865Z"
   },
   {
    "duration": 8,
    "start_time": "2022-10-12T19:33:46.311Z"
   },
   {
    "duration": 82,
    "start_time": "2022-10-12T19:33:49.069Z"
   },
   {
    "duration": 8,
    "start_time": "2022-10-12T19:33:51.714Z"
   },
   {
    "duration": 8,
    "start_time": "2022-10-12T19:33:54.676Z"
   },
   {
    "duration": 4,
    "start_time": "2022-10-12T19:33:58.265Z"
   },
   {
    "duration": 3,
    "start_time": "2022-10-12T19:43:47.831Z"
   },
   {
    "duration": 26,
    "start_time": "2022-10-12T19:43:50.176Z"
   },
   {
    "duration": 168,
    "start_time": "2022-10-12T19:44:25.791Z"
   },
   {
    "duration": 7,
    "start_time": "2022-10-12T19:44:59.513Z"
   },
   {
    "duration": 185,
    "start_time": "2022-10-12T19:45:35.483Z"
   },
   {
    "duration": 1246,
    "start_time": "2022-10-12T19:46:18.007Z"
   },
   {
    "duration": 165,
    "start_time": "2022-10-12T19:46:38.567Z"
   },
   {
    "duration": 1205,
    "start_time": "2022-10-12T19:47:25.263Z"
   },
   {
    "duration": 16,
    "start_time": "2022-10-12T19:47:40.628Z"
   },
   {
    "duration": 112,
    "start_time": "2022-10-12T19:49:15.085Z"
   },
   {
    "duration": 4,
    "start_time": "2022-10-12T19:49:22.653Z"
   },
   {
    "duration": 3,
    "start_time": "2022-10-12T19:50:39.243Z"
   },
   {
    "duration": 22,
    "start_time": "2022-10-12T19:53:20.083Z"
   },
   {
    "duration": 5,
    "start_time": "2022-10-12T19:53:27.965Z"
   },
   {
    "duration": 23,
    "start_time": "2022-10-12T19:53:30.692Z"
   },
   {
    "duration": 26,
    "start_time": "2022-10-12T19:53:34.220Z"
   },
   {
    "duration": 12,
    "start_time": "2022-10-12T19:53:37.274Z"
   },
   {
    "duration": 3,
    "start_time": "2022-10-12T19:56:02.805Z"
   },
   {
    "duration": 5,
    "start_time": "2022-10-12T19:56:29.508Z"
   },
   {
    "duration": 6,
    "start_time": "2022-10-12T19:56:33.611Z"
   },
   {
    "duration": 6,
    "start_time": "2022-10-12T19:57:52.348Z"
   },
   {
    "duration": 4,
    "start_time": "2022-10-12T19:58:18.652Z"
   },
   {
    "duration": 5,
    "start_time": "2022-10-12T19:59:10.034Z"
   },
   {
    "duration": 567045,
    "start_time": "2022-10-12T19:59:21.840Z"
   },
   {
    "duration": 26040,
    "start_time": "2022-10-12T20:17:06.281Z"
   },
   {
    "duration": 566014,
    "start_time": "2022-10-12T20:31:22.028Z"
   },
   {
    "duration": 22828,
    "start_time": "2022-10-12T20:42:19.733Z"
   },
   {
    "duration": 5,
    "start_time": "2022-10-12T20:42:53.520Z"
   },
   {
    "duration": 1459,
    "start_time": "2022-10-12T20:42:55.833Z"
   },
   {
    "duration": 1358,
    "start_time": "2022-10-12T20:43:02.135Z"
   },
   {
    "duration": 29,
    "start_time": "2022-10-12T20:43:07.724Z"
   },
   {
    "duration": 34,
    "start_time": "2022-10-12T20:43:11.720Z"
   },
   {
    "duration": 3,
    "start_time": "2022-10-12T20:43:15.061Z"
   },
   {
    "duration": 6,
    "start_time": "2022-10-12T20:43:22.068Z"
   },
   {
    "duration": 6,
    "start_time": "2022-10-12T20:43:24.378Z"
   },
   {
    "duration": 4,
    "start_time": "2022-10-12T20:43:26.902Z"
   },
   {
    "duration": 4,
    "start_time": "2022-10-12T20:44:40.082Z"
   },
   {
    "duration": 1311,
    "start_time": "2022-10-12T20:45:17.149Z"
   },
   {
    "duration": 746,
    "start_time": "2022-10-12T20:45:18.462Z"
   },
   {
    "duration": 19,
    "start_time": "2022-10-12T20:45:19.210Z"
   },
   {
    "duration": 30,
    "start_time": "2022-10-12T20:45:19.231Z"
   },
   {
    "duration": 37,
    "start_time": "2022-10-12T20:45:19.263Z"
   },
   {
    "duration": 22,
    "start_time": "2022-10-12T20:45:19.303Z"
   },
   {
    "duration": 24,
    "start_time": "2022-10-12T20:45:19.327Z"
   },
   {
    "duration": 51,
    "start_time": "2022-10-12T20:45:19.353Z"
   },
   {
    "duration": 10,
    "start_time": "2022-10-12T20:45:19.406Z"
   },
   {
    "duration": 7,
    "start_time": "2022-10-12T20:45:19.419Z"
   },
   {
    "duration": 9,
    "start_time": "2022-10-12T20:45:19.428Z"
   },
   {
    "duration": 17,
    "start_time": "2022-10-12T20:45:19.439Z"
   },
   {
    "duration": 33,
    "start_time": "2022-10-12T20:45:19.458Z"
   },
   {
    "duration": 19,
    "start_time": "2022-10-12T20:45:19.493Z"
   },
   {
    "duration": 33,
    "start_time": "2022-10-12T20:45:19.514Z"
   },
   {
    "duration": 7,
    "start_time": "2022-10-12T20:45:19.549Z"
   },
   {
    "duration": 31,
    "start_time": "2022-10-12T20:45:19.558Z"
   },
   {
    "duration": 143,
    "start_time": "2022-10-12T20:45:19.591Z"
   },
   {
    "duration": 26,
    "start_time": "2022-10-12T20:45:19.736Z"
   },
   {
    "duration": 4,
    "start_time": "2022-10-12T20:45:19.764Z"
   },
   {
    "duration": 22,
    "start_time": "2022-10-12T20:45:19.769Z"
   },
   {
    "duration": 535,
    "start_time": "2022-10-12T20:45:19.792Z"
   },
   {
    "duration": 283,
    "start_time": "2022-10-12T20:45:20.329Z"
   },
   {
    "duration": 271,
    "start_time": "2022-10-12T20:45:20.614Z"
   },
   {
    "duration": 5,
    "start_time": "2022-10-12T20:45:20.890Z"
   },
   {
    "duration": 6,
    "start_time": "2022-10-12T20:45:20.897Z"
   },
   {
    "duration": 204,
    "start_time": "2022-10-12T20:45:20.905Z"
   },
   {
    "duration": 11,
    "start_time": "2022-10-12T20:45:21.114Z"
   },
   {
    "duration": 10,
    "start_time": "2022-10-12T20:45:21.127Z"
   },
   {
    "duration": 160,
    "start_time": "2022-10-12T20:45:21.139Z"
   },
   {
    "duration": 10,
    "start_time": "2022-10-12T20:45:21.300Z"
   },
   {
    "duration": 10,
    "start_time": "2022-10-12T20:45:21.312Z"
   },
   {
    "duration": 5,
    "start_time": "2022-10-12T20:45:21.324Z"
   },
   {
    "duration": 9,
    "start_time": "2022-10-12T20:45:21.330Z"
   },
   {
    "duration": 79,
    "start_time": "2022-10-12T20:45:21.340Z"
   },
   {
    "duration": 205,
    "start_time": "2022-10-12T20:45:21.421Z"
   },
   {
    "duration": 294,
    "start_time": "2022-10-12T20:45:21.628Z"
   },
   {
    "duration": 21,
    "start_time": "2022-10-12T20:45:21.925Z"
   },
   {
    "duration": 45,
    "start_time": "2022-10-12T20:45:21.948Z"
   },
   {
    "duration": 97,
    "start_time": "2022-10-12T20:45:21.995Z"
   },
   {
    "duration": 37,
    "start_time": "2022-10-12T20:45:22.095Z"
   },
   {
    "duration": 11,
    "start_time": "2022-10-12T20:45:22.133Z"
   },
   {
    "duration": 45,
    "start_time": "2022-10-12T20:45:22.146Z"
   },
   {
    "duration": 14,
    "start_time": "2022-10-12T20:45:22.193Z"
   },
   {
    "duration": 410506,
    "start_time": "2022-10-12T20:45:22.210Z"
   },
   {
    "duration": 25894,
    "start_time": "2022-10-12T20:52:12.718Z"
   },
   {
    "duration": 401322,
    "start_time": "2022-10-12T20:52:38.614Z"
   },
   {
    "duration": 22176,
    "start_time": "2022-10-12T20:59:19.938Z"
   },
   {
    "duration": 3,
    "start_time": "2022-10-12T20:59:42.116Z"
   },
   {
    "duration": 1278,
    "start_time": "2022-10-12T20:59:42.121Z"
   },
   {
    "duration": 1302,
    "start_time": "2022-10-12T20:59:43.490Z"
   },
   {
    "duration": 199,
    "start_time": "2022-10-12T20:59:44.796Z"
   },
   {
    "duration": 30,
    "start_time": "2022-10-12T20:59:44.997Z"
   },
   {
    "duration": 5,
    "start_time": "2022-10-12T20:59:45.028Z"
   },
   {
    "duration": 15,
    "start_time": "2022-10-12T20:59:45.035Z"
   },
   {
    "duration": 21,
    "start_time": "2022-10-12T20:59:45.051Z"
   },
   {
    "duration": 16,
    "start_time": "2022-10-12T20:59:45.074Z"
   },
   {
    "duration": 1037,
    "start_time": "2022-10-13T12:14:26.444Z"
   },
   {
    "duration": 3546,
    "start_time": "2022-10-13T12:14:27.484Z"
   },
   {
    "duration": 17,
    "start_time": "2022-10-13T12:14:31.032Z"
   },
   {
    "duration": 33,
    "start_time": "2022-10-13T12:14:31.051Z"
   },
   {
    "duration": 13,
    "start_time": "2022-10-13T12:14:31.085Z"
   },
   {
    "duration": 19,
    "start_time": "2022-10-13T12:14:31.099Z"
   },
   {
    "duration": 32,
    "start_time": "2022-10-13T12:14:31.120Z"
   },
   {
    "duration": 18,
    "start_time": "2022-10-13T12:14:31.154Z"
   },
   {
    "duration": 17,
    "start_time": "2022-10-13T12:14:31.173Z"
   },
   {
    "duration": 6,
    "start_time": "2022-10-13T12:14:31.192Z"
   },
   {
    "duration": 5,
    "start_time": "2022-10-13T12:14:44.675Z"
   },
   {
    "duration": 4,
    "start_time": "2022-10-13T12:15:05.241Z"
   }
  ],
  "kernelspec": {
   "display_name": "Python 3 (ipykernel)",
   "language": "python",
   "name": "python3"
  },
  "language_info": {
   "codemirror_mode": {
    "name": "ipython",
    "version": 3
   },
   "file_extension": ".py",
   "mimetype": "text/x-python",
   "name": "python",
   "nbconvert_exporter": "python",
   "pygments_lexer": "ipython3",
   "version": "3.9.12"
  },
  "toc": {
   "base_numbering": 1,
   "nav_menu": {},
   "number_sections": true,
   "sideBar": true,
   "skip_h1_title": true,
   "title_cell": "Содержание",
   "title_sidebar": "Contents",
   "toc_cell": true,
   "toc_position": {
    "height": "calc(100% - 180px)",
    "left": "10px",
    "top": "150px",
    "width": "290.4px"
   },
   "toc_section_display": true,
   "toc_window_display": true
  }
 },
 "nbformat": 4,
 "nbformat_minor": 2
}
